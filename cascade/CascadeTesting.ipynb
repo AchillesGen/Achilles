{
 "cells": [
  {
   "cell_type": "markdown",
   "metadata": {},
   "source": [
    "# Final State Interaction Via Cascade\n",
    "\n",
    "## Nuwro Algorithm\n",
    "1. Take nucleons and pions created in primary vertex\n",
    "2. Move each particle by the distance of its formation zone???\n",
    "3. Put all of them into a queue\n",
    "4. Take a particle from the queue and calculate its mean free path\n",
    "5. From an exponential distribution, obtain its actual free path\n",
    "6. Propagate the particle by the distance of its actual free path, but less than some upper threshold\n",
    "7. Check if it is still in the nucleus\n",
    "    1. If outside, then particle leaves nucleus\n",
    "    2. If inside, then was the actual free path greater than the threshold\n",
    "        1. If yes, add the particle back into the queue\n",
    "        2. If no, generate the interaction\n",
    "            1. Check for Pauli blocking for any in the interaction\n",
    "            2. If no blocking, then add the particles back into the queue\n",
    "            3. If blocking, veto interaction, and return to previous state"
   ]
  },
  {
   "cell_type": "markdown",
   "metadata": {},
   "source": [
    "## Josh's Questions\n",
    "1. Do we need to worry about decays of any of the particles in the cascades?\n",
    "2. What particles should we consider as possible particles in the cascade? Do we need higher resonance Delta's or Rho's for example?\n",
    "3. When preforming the cascade, how should we treat the fact that we are moving through a nuclear potential? Should we use something like a Woods-Saxon Potential?"
   ]
  },
  {
   "cell_type": "code",
   "execution_count": 1,
   "metadata": {},
   "outputs": [],
   "source": [
    "import queue\n",
    "import numpy as np\n",
    "import pandas as pd\n",
    "\n",
    "from scipy.stats import uniform\n",
    "from scipy import interpolate\n",
    "\n",
    "from nuChic.FourVector import Vec4\n",
    "from nuChic.ThreeVector import Vec3\n",
    "from nuChic.Particle import Particle\n",
    "from nuChic.Nucleus import Nucleus\n",
    "\n",
    "# Class that stores all the PDG data table information\n",
    "from particletools.tables import PYTHIAParticleData\n",
    "pyth_data = PYTHIAParticleData()"
   ]
  },
  {
   "cell_type": "code",
   "execution_count": 2,
   "metadata": {},
   "outputs": [],
   "source": [
    "%matplotlib inline\n",
    "import matplotlib.pyplot as plt"
   ]
  },
  {
   "cell_type": "markdown",
   "metadata": {},
   "source": [
    "## Nuclear Densities"
   ]
  },
  {
   "cell_type": "code",
   "execution_count": 3,
   "metadata": {},
   "outputs": [],
   "source": [
    "c12Density_db = pd.read_csv('../densities/c12.density',header=10,sep='\\s+',names=['r','rho','error'])\n",
    "c12Density = interpolate.InterpolatedUnivariateSpline(c12Density_db['r'].values,c12Density_db['rho'])"
   ]
  },
  {
   "cell_type": "code",
   "execution_count": 4,
   "metadata": {},
   "outputs": [
    {
     "data": {
      "image/png": "[encoded data removed]",
      "text/plain": [
       "<Figure size 432x288 with 1 Axes>"
      ]
     },
     "metadata": {},
     "output_type": "display_data"
    }
   ],
   "source": [
    "r = np.linspace(0.,5,1000)\n",
    "rho = c12Density(r)\n",
    "plt.plot(r,rho)\n",
    "plt.show()"
   ]
  },
  {
   "cell_type": "markdown",
   "metadata": {},
   "source": [
    "## Nuclear Potentials"
   ]
  },
  {
   "cell_type": "code",
   "execution_count": 5,
   "metadata": {},
   "outputs": [],
   "source": [
    "def WoodsSaxon(r,A,V0=50,a=0.5):\n",
    "    r0 = 1.25\n",
    "    R = r0*pow(A,1.0/3.0)\n",
    "    return - V0/(1+np.exp((r-R)/a))\n",
    "\n",
    "def CoulombPotential(r,Z,A):\n",
    "    r0 = 1.25\n",
    "    R = r0*pow(A,1.0/3.0)\n",
    "    if r <= R:\n",
    "        return Z*(3*R**2-r**2)/(2*R**3)\n",
    "    else:\n",
    "        return Z/r"
   ]
  },
  {
   "cell_type": "code",
   "execution_count": 6,
   "metadata": {},
   "outputs": [],
   "source": [
    "def R(E,A):\n",
    "    x = 1000/E\n",
    "    y = A/(A+20)\n",
    "    \n",
    "    \n",
    "    result = r[0]\n",
    "    for m in range(1,5):\n",
    "        print(m)\n",
    "        result += r[m]*x**m\n",
    "        \n",
    "    for n in range(1,3):\n",
    "        print(n)\n",
    "        result += r[n+4]*y**n\n",
    "        \n",
    "    result += r[8]*x*y\n",
    "    result += r[9]*x**2*y\n",
    "    result += r[10]*x*y**2\n",
    "    \n",
    "    return pow(A,1.0/3.0)*result\n",
    "\n",
    "def a(E,A):\n",
    "    x = 1000/E\n",
    "    y = A/(A+20)\n",
    "    \n",
    "    result = acoeff[0]\n",
    "    for m in range(1,5):\n",
    "        print(m)\n",
    "        result += acoeff[m]*x**m\n",
    "        \n",
    "    for n in range(1,3):\n",
    "        print(n)\n",
    "        result += acoeff[n+4]*y**n\n",
    "        \n",
    "    result += acoeff[8]*x*y\n",
    "    result += acoeff[9]*x**2*y\n",
    "    result += acoeff[10]*x*y**2\n",
    "    return result\n",
    "\n",
    "def fV(r,E,A):\n",
    "    return np.cosh(R(E,A)/a(E,A)-1)/(np.cosh(R(E,A)/a(E,A))+np.cosh(r/a(E,A))-2)\n",
    "\n",
    "def fS(r,E,A):\n",
    "    return np.cosh(R(E,A)/a(E,A)-1)*(np.cosh(r/a(E,A))-1)/(np.cosh(R(E,A)/a(E,A))+np.cosh(r/a(E,A))-2)**2\n"
   ]
  },
  {
   "cell_type": "code",
   "execution_count": 7,
   "metadata": {},
   "outputs": [
    {
     "name": "stdout",
     "output_type": "stream",
     "text": [
      "1\n",
      "2\n",
      "3\n",
      "4\n",
      "1\n",
      "2\n"
     ]
    },
    {
     "data": {
      "text/plain": [
       "594.0879277081013"
      ]
     },
     "execution_count": 7,
     "metadata": {},
     "output_type": "execute_result"
    }
   ],
   "source": [
    "R(100,20)"
   ]
  },
  {
   "cell_type": "code",
   "execution_count": null,
   "metadata": {},
   "outputs": [],
   "source": []
  },
  {
   "cell_type": "code",
   "execution_count": 8,
   "metadata": {},
   "outputs": [
    {
     "data": {
      "image/png": "[encoded data removed]",
      "text/plain": [
       "<Figure size 576x432 with 1 Axes>"
      ]
     },
     "metadata": {},
     "output_type": "display_data"
    }
   ],
   "source": [
    "x = np.linspace(0,10,1000)\n",
    "yW = WoodsSaxon(x,12)\n",
    "vCoulombPotential = np.vectorize(CoulombPotential)\n",
    "yC = vCoulombPotential(x,6,12)\n",
    "\n",
    "plt.figure(figsize=(8,6))\n",
    "plt.plot(x,yW,label='Woods-Saxon')\n",
    "plt.plot(x,yC,label='Coulomb')\n",
    "plt.plot(x,yW+yC,label='Total')\n",
    "plt.legend()\n",
    "plt.show()"
   ]
  },
  {
   "cell_type": "markdown",
   "metadata": {},
   "source": [
    "## Nucleon-Nucleon Cross-Section"
   ]
  },
  {
   "cell_type": "code",
   "execution_count": null,
   "metadata": {},
   "outputs": [],
   "source": [
    "## mN = 0.938\n",
    "\n",
    "# From GiBUU\n",
    "def nukNuk_nukNuk(sqrts,massIn,totalcharge):\n",
    "    if(sqrts>1.338):\n",
    "        srtf = (sqrts-massIn[0]-massIn[1]+2*mN)**2\n",
    "        plab = np.sqrt((srtf/(2*mN))**2-srtf)\n",
    "        if(totalcharge==1): # pn channel\n",
    "            if(plab<=0.525):\n",
    "                return 17.0546*mN/(srtf-4*mN**2) - 6.82506\n",
    "            elif(plab<=0.8):\n",
    "                return 33. + 196*abs(plab-0.95)**2.5\n",
    "            elif(plab<=2.0):\n",
    "                return 31./np.sqrt(plab)\n",
    "            elif(plab<=2.776):\n",
    "                return 77./(plab+1.5)\n",
    "            else:\n",
    "                return 11.9 + 26.9*plab**(-1.21) + 0.169*np.log(plab)**2 - 1.85*np.log(plab)\n",
    "        else: # pp or nn channel\n",
    "            if(plab<=0.435):\n",
    "                return 5.11775*mN/(srtf-4*mN**2) + 1.67284\n",
    "            elif(plab<=0.8):\n",
    "                return 23.5 + 1000*(plab-0.7)**4\n",
    "            elif(plab<=2.0):\n",
    "                return 1250/(plab+50) - 4*(plab-1.3)**2\n",
    "            elif(plab<=2.776):\n",
    "                return 77/(plab+1.5)\n",
    "            else:\n",
    "                return 11.9 + 26.9*plab**(-1.21) + 0.169*np.log(plab)**2 - 1.85*np.log(plab)\n",
    "\n",
    "# NASA Nucleon-Nucleon \n",
    "# https://ntrs.nasa.gov/archive/nasa/casi.ntrs.nasa.gov/20080014212.pdf\n",
    "\n",
    "MeV = 1.0/1000\n",
    "mb = 1.0\n",
    "GeV = 1.0\n",
    "\n",
    "# HZETRN parameters\n",
    "a = 5.0 * MeV              \n",
    "b = 0.199/np.sqrt(MeV)     \n",
    "c = 0.451 * MeV**-0.258      \n",
    "d = 25.0 * MeV               \n",
    "e = 134.0 * MeV              \n",
    "f = 1.187 * MeV**-0.35       \n",
    "g = 0.1 * MeV                \n",
    "h = 0.282 * MeV              \n",
    "\n",
    "# PDG parameters\n",
    "Zpp  = 33.45 * mb            \n",
    "Zpn  = 35.80 * mb              \n",
    "Y1pp = 42.53 * mb              \n",
    "Y1pn = 40.15 * mb              \n",
    "Y2pp = 33.34 * mb              \n",
    "Y2pn = 30.00 * mb              \n",
    "B    = 0.308 * mb              \n",
    "s1   = 1.0   * GeV**2           \n",
    "s0   = (5.38 * GeV)**2 \n",
    "n1   = 0.458\n",
    "n2   = 0.545\n",
    "\n",
    "# JWN parameters\n",
    "gamma = 52.5 * mb * GeV**(0.16)\n",
    "alpha = 0.00369 / MeV\n",
    "beta  = 0.00895741 * MeV**(-0.8)\n",
    "\n",
    "def sigma_pp(plab):\n",
    "    Tlab = np.sqrt(plab**2+mN**2)-mN\n",
    "    if(plab < 1.8):\n",
    "        if(Tlab >= 0.025):\n",
    "            return (1+a/Tlab)*(40+109*np.cos(b*np.sqrt(Tlab))*np.exp(-c*(Tlab-d)**(0.258)))\n",
    "        else:\n",
    "            return np.exp(6.51*np.exp(-(Tlab/e)**(0.7)))\n",
    "    elif(plab <= 4.7):\n",
    "        return gamma/plab**0.16\n",
    "    else:\n",
    "        s = 2*mN*(mN+np.sqrt(plab**2+mN**2))\n",
    "        return Zpp + B*np.log(s/s0)**2 + Y1pp*(s1/s)**n1 - Y2pp*(s1/s)**n2\n",
    "    \n",
    "def sigma_np(plab):\n",
    "    Tlab = np.sqrt(plab**2+mN**2)-mN\n",
    "    if(plab < 0.5):\n",
    "        if(Tlab >= 0.1 * MeV):\n",
    "            return 38 + 12500*np.exp(-f*(Tlab-g)**0.35)\n",
    "        else:\n",
    "            return 26000 * np.exp(-(Tlab/h)**0.3)\n",
    "    elif(plab <= 2.0):\n",
    "        return 40 + 10*np.cos(alpha*plab - 0.943)*np.exp(-beta*plab**0.8+2)\n",
    "    else:\n",
    "        s = 2*mN*(mN+np.sqrt(plab**2+mN**2))\n",
    "        return Zpn + B*np.log(s/s0)**2 + Y1pn*(s1/s)**n1 - Y2pn*(s1/s)**n2"
   ]
  },
  {
   "cell_type": "code",
   "execution_count": 10,
   "metadata": {},
   "outputs": [
    {
     "data": {
      "image/png": "[encoded data removed]",
      "text/plain": [
       "<Figure size 432x288 with 1 Axes>"
      ]
     },
     "metadata": {},
     "output_type": "display_data"
    }
   ],
   "source": [
    "plab = np.logspace(np.log10(0.5),np.log10(500),100000)\n",
    "sigma = np.zeros_like(plab)\n",
    "sigma_gibuu = np.zeros_like(plab)\n",
    "for i,_ in enumerate(plab):\n",
    "    sigma[i] = sigma_np(plab[i])\n",
    "    srtf = (sqrts-massIn[0]-massIn[1]+2*mN)**2\n",
    "    plab = np.sqrt((srtf/(2*mN))**2-srtf)\n",
    "    sigma_gibuu[i] = nukNuk_nukNuk()\n",
    "    \n",
    "plt.plot(plab,sigma)\n",
    "plt.xscale('log')\n",
    "plt.show()"
   ]
  },
  {
   "cell_type": "markdown",
   "metadata": {},
   "source": [
    "## Define the interactions that can occur for a given particle"
   ]
  },
  {
   "cell_type": "code",
   "execution_count": 11,
   "metadata": {},
   "outputs": [],
   "source": [
    "def PLab(E_inv,mL,mn1):\n",
    "    arg=(E_inv**2-mL**2-mn1**2)**2/(4.0*mn1**2)-mL**2\n",
    "    return np.sqrt(arg)\n",
    "\n",
    "def LN_in_LN(mL,mn1,plab,E_inv):\n",
    "    plab = PLab(E_inv,mL,mn1)*1e-3\n",
    "    x=min(2.1,plab_GeV)\n",
    "    return (39.66-100.45*x+92.44*x**2-21.40*x**3)/plab\n",
    "\n",
    "def LN_in_SzN(mL,mSz,mn1,mn2,plab,E_inv):\n",
    "    plab = PLab(E_inv,mL,mn1)*1e-3\n",
    "    \n",
    "    pL_CM=np.sqrt(((E_inv**2-mL**2-mn1**2)-4.0*mn1**2*mL**2)/(4.0*E_inv**2))\n",
    "    pL_CM*=1e-3\n",
    "    \n",
    "    pSz_CM=np.sqrt(((E_inv**2-mSz**2-mn2**2)-4.0*mn2**2*mSz**2)/(4.0*E_inv**2))\n",
    "    pSz_CM*=1e-3\n",
    "    \n",
    "    x=min(2.1,plab)\n",
    "    return (31.1-30.94*x+8.16*x**2)*pSz_CM/pL_CM\n",
    "\n",
    "def Smp_in_Smp(mSm,mn1,plab,E_inv):\n",
    "    plab = PLab(E_inv,mSm,mn1)*1e-3\n",
    "    return 22.4/plab - 1.08\n",
    "\n",
    "def Spp_in_Spp(mSp,mn1,plab,E_inv):\n",
    "    plab = Plab(E_inv,mSp,mn1)*1e-3\n",
    "    return 11.77/plab+19.07"
   ]
  },
  {
   "cell_type": "code",
   "execution_count": 12,
   "metadata": {},
   "outputs": [],
   "source": [
    "Interaction_Dict = {# Pions (Pi^0, Pi^+)\n",
    "                    111: [],\n",
    "                    211: [],\n",
    "                    # rhos (rho^0, rho^+)\n",
    "                    113: [],\n",
    "                    213: [],\n",
    "                    # eta and eta'\n",
    "                    221: [],\n",
    "                    331: [],\n",
    "                    # Kaons (K_L, K_S, K^+)\n",
    "                    130: [],\n",
    "                    310: [],\n",
    "                    321: [],\n",
    "                    # D Mesons (D^+, D^0)\n",
    "                    411: [],\n",
    "                    421: [],\n",
    "                    # proton and neutron\n",
    "                    2212: [[sigma_pp,2212],[sigma_np,2112]],\n",
    "                    2112: [[sigma_pp,2112],[sigma_np,2212]],\n",
    "                    # Deltas (Delta^++, Delta^+, Delta^0, Delta^-)\n",
    "                    2224: [],\n",
    "                    2214: [],\n",
    "                    2114: [],\n",
    "                    1114: [],\n",
    "                    # Lambda and Simgas (Lamda, Sigma^+, Sigma^0, Sigma^-)\n",
    "                    3122: [],\n",
    "                    3222: [],\n",
    "                    3212: [],\n",
    "                    3112: [],\n",
    "                    # Cascades (0,-)\n",
    "                    3322: [],\n",
    "                    3312: [],\n",
    "                    # Charmed Baryons (Lambda_c, Sigma_c^++, Sigma_c^+, Sigma_c^0)\n",
    "                    4122: [],\n",
    "                    4222: [],\n",
    "                    4212: [],\n",
    "                    4112: [],\n",
    "                }"
   ]
  },
  {
   "cell_type": "markdown",
   "metadata": {},
   "source": [
    "## Define interface function to run through the above algorithm"
   ]
  },
  {
   "cell_type": "code",
   "execution_count": 287,
   "metadata": {},
   "outputs": [],
   "source": [
    "class FSI:\n",
    "    def __init__(self,nucleus, time_step=1):\n",
    "        ''' Initialize the FSI class.\n",
    "    \n",
    "            Input:\n",
    "            - nucleus: The definition of the nucleus the interaction occured\n",
    "                       within. This is defined by the nuclear density.\n",
    "        '''\n",
    "        self.nucleus = nucleus\n",
    "        self.queue = queue.Queue()\n",
    "        self.time_step = time_step\n",
    "\n",
    "    def __call__(self,particles):\n",
    "        ''' This function is the driver for the cascade calculation,\n",
    "            preforming the selection of the nucleons, and their evolution.\n",
    "        \n",
    "            Input: \n",
    "            - particles: The nucleons propagating through the nucleus from \n",
    "                         initial interaction, defined by their 4-momentums,\n",
    "                         their positions, and their pids\n",
    "                         \n",
    "            Output:\n",
    "            - escaped: A list of particles that escape the nucleus\n",
    "        '''\n",
    "        escaped = []      \n",
    "        \n",
    "        # Fill the queue with initial particles\n",
    "        for particle in particles:\n",
    "            self.queue.put(particle)\n",
    "            \n",
    "        # Main loop over the queue\n",
    "        while not self.queue.empty():\n",
    "            particle = self.queue.get()\n",
    "            prop_dist = particle.propagate(self.time_step)\n",
    "            \n",
    "            # Check if particle is still in nucleus\n",
    "            if particle.r() > self.nucleus.size():\n",
    "                # Adjust based on potential\n",
    "                escape = self.nucleus.escape(particle)\n",
    "                if escape:\n",
    "                    escaped.append(particle)\n",
    "                else:\n",
    "                    self.nucleus.absorb(particle)\n",
    "                return particle.r()\n",
    "            else:\n",
    "                particles_interaction = self.interact(particle)\n",
    "                if particles_interaction is None:\n",
    "                    self.queue.put(particle)\n",
    "                    continue\n",
    "                if self.pauli_blocking(particles_interaction):\n",
    "                    # If blocked just veto the interaction and not undo the step\n",
    "                    #particle.back_propagate()\n",
    "                    self.queue.put(particle)\n",
    "                    continue\n",
    "                if particles_interaction is not None:\n",
    "                    for particle_int in particles_interaction:\n",
    "                        self.queue.put(particle_int)\n",
    "                        return particle_int.r()\n",
    "        return escaped\n",
    "                        \n",
    "    def interact(self,particle):\n",
    "        # Generate initial momentum for hit particle\n",
    "        phi = 2*np.pi*np.random.uniform()\n",
    "        ctheta = 2.0*np.random.uniform()-1.0\n",
    "        stheta = np.sqrt(1.0-ctheta**2)\n",
    "        px = self.nucleus.kf * stheta * np.cos(phi)\n",
    "        py = self.nucleus.kf * stheta * np.sin(phi)\n",
    "        pz = self.nucleus.kf * ctheta\n",
    "        E = np.sqrt(1000**2+px**2+py**2+pz**2)\n",
    "        \n",
    "        # Calculate all the possible interaction\n",
    "        sigma = []\n",
    "        for interaction in Interaction_Dict[particle.pid]:\n",
    "            plab = particle.mom.P() * MeV\n",
    "            sigma.append(interaction[0](plab)*1e-1)\n",
    "            \n",
    "        sigma_total = sum(sigma)\n",
    "        prob = sigma_total*self.nucleus.density_P(particle.r())\n",
    "        prob *= particle.mom.P()/particle.mom.E * self.time_step\n",
    "            \n",
    "        # Accept-reject on the interaction\n",
    "        # Then select interaction based on cross-section\n",
    "        if np.random.uniform() > prob:\n",
    "            return None\n",
    "        \n",
    "        interaction_index = np.random.choice(len(Interaction_Dict[particle.pid]),p=sigma/sigma_total)\n",
    "        interaction = Interaction_Dict[particle.pid][interaction_index]\n",
    "        \n",
    "        particle_in = Particle(interaction[1],Vec4(E,px,py,pz),particle.pos)\n",
    "        \n",
    "        # Boost to center of mass frame\n",
    "        cm = particle.mom + particle_in.mom\n",
    "        beta = cm.BoostVector()\n",
    "        p1_cm = particle.mom.Boost(-beta)\n",
    "        p2_cm = particle_in.mom.Boost(-beta)\n",
    "        \n",
    "        # Generate the final state and return\n",
    "        phi = 2*np.pi*np.random.uniform()\n",
    "        ctheta = 2.0*np.random.uniform()-1.0\n",
    "        stheta = np.sqrt(1.0-ctheta**2)\n",
    "        px =  p1_cm.P() * stheta * np.cos(phi)\n",
    "        py =  p1_cm.P() * stheta * np.sin(phi)\n",
    "        pz =  p1_cm.P() * ctheta\n",
    "        E_1 = np.sqrt(p1_cm.M2()+px**2+py**2+pz**2)\n",
    "        E_2 = np.sqrt(p2_cm.M2()+px**2+py**2+pz**2)\n",
    "        \n",
    "        particle1_out = Particle(particle.pid, Vec4(E_1,px,py,pz).Boost(beta), particle.pos)\n",
    "        particle2_out = Particle(particle_in.pid, Vec4(E_2,-px,-py,-pz).Boost(beta), particle_in.pos)\n",
    "        \n",
    "        return [particle1_out,particle2_out]\n",
    "        \n",
    "    def pauli_blocking(self, particles_interaction):\n",
    "        # See if Pauli blocking occurs for the proposed interaction\n",
    "        for particle in particles_interaction:\n",
    "            if particle.mom.P() < self.nucleus.kf:\n",
    "                return True\n",
    "        return False"
   ]
  },
  {
   "cell_type": "code",
   "execution_count": 288,
   "metadata": {},
   "outputs": [],
   "source": [
    "p = 2000\n",
    "phi = 2.0*np.pi*np.random.uniform()\n",
    "costheta = 2.0*np.random.uniform() - 1.0\n",
    "sintheta = np.sqrt(1.0 - costheta**2)\n",
    "px = p * sintheta * np.sin(phi)\n",
    "py = p * sintheta * np.cos(phi)\n",
    "pz = p * costheta\n",
    "particle1 = Particle(2112,Vec4(np.sqrt(1000**2+px**2+py**2+pz**2),px,py,pz),Vec3(0,0,0))"
   ]
  },
  {
   "cell_type": "code",
   "execution_count": 275,
   "metadata": {
    "scrolled": true
   },
   "outputs": [
    {
     "data": {
      "text/plain": [
       "Vec3(0.6184685532851985,0.6114863939003066,-0.20876072109502003)"
      ]
     },
     "execution_count": 275,
     "metadata": {},
     "output_type": "execute_result"
    }
   ],
   "source": [
    "particle1.vec"
   ]
  },
  {
   "cell_type": "code",
   "execution_count": 33,
   "metadata": {},
   "outputs": [
    {
     "data": {
      "text/plain": [
       "Vec3(0,0,0)"
      ]
     },
     "execution_count": 33,
     "metadata": {},
     "output_type": "execute_result"
    }
   ],
   "source": [
    "particle1.pos"
   ]
  },
  {
   "cell_type": "code",
   "execution_count": 187,
   "metadata": {},
   "outputs": [
    {
     "name": "stdout",
     "output_type": "stream",
     "text": [
      "(0.0005191297358124417,0.005165975429618552,0.0010775888211805801)\n"
     ]
    }
   ],
   "source": [
    "dist=particle1.propagate(1e-1)\n",
    "print(dist)"
   ]
  },
  {
   "cell_type": "code",
   "execution_count": 35,
   "metadata": {},
   "outputs": [
    {
     "data": {
      "text/plain": [
       "Vec3(0.0006307232292415474,7.095168414451463e-05,0.0005665159932490223)"
      ]
     },
     "execution_count": 35,
     "metadata": {},
     "output_type": "execute_result"
    }
   ],
   "source": [
    "particle1.pos"
   ]
  },
  {
   "cell_type": "code",
   "execution_count": 36,
   "metadata": {},
   "outputs": [],
   "source": [
    "particle1.back_propagate()"
   ]
  },
  {
   "cell_type": "code",
   "execution_count": 37,
   "metadata": {},
   "outputs": [
    {
     "data": {
      "text/plain": [
       "Vec3(0.0,0.0,0.0)"
      ]
     },
     "execution_count": 37,
     "metadata": {},
     "output_type": "execute_result"
    }
   ],
   "source": [
    "particle1.pos"
   ]
  },
  {
   "cell_type": "code",
   "execution_count": 38,
   "metadata": {},
   "outputs": [],
   "source": [
    "C12 = Nucleus(6,12,92.15,225,c12Density,c12Density)"
   ]
  },
  {
   "cell_type": "code",
   "execution_count": 39,
   "metadata": {},
   "outputs": [
    {
     "data": {
      "text/plain": [
       "2.616119339802647"
      ]
     },
     "execution_count": 39,
     "metadata": {},
     "output_type": "execute_result"
    }
   ],
   "source": [
    "C12.size()"
   ]
  },
  {
   "cell_type": "code",
   "execution_count": 40,
   "metadata": {},
   "outputs": [
    {
     "data": {
      "text/plain": [
       "10.109189638294993"
      ]
     },
     "execution_count": 40,
     "metadata": {},
     "output_type": "execute_result"
    }
   ],
   "source": [
    "C12.potential"
   ]
  },
  {
   "cell_type": "code",
   "execution_count": 273,
   "metadata": {
    "scrolled": true
   },
   "outputs": [
    {
     "data": {
      "text/plain": [
       "False"
      ]
     },
     "execution_count": 273,
     "metadata": {},
     "output_type": "execute_result"
    }
   ],
   "source": [
    "C12.escape(particle1)"
   ]
  },
  {
   "cell_type": "code",
   "execution_count": 289,
   "metadata": {},
   "outputs": [],
   "source": [
    "fsi = FSI(C12)"
   ]
  },
  {
   "cell_type": "code",
   "execution_count": 291,
   "metadata": {
    "scrolled": true
   },
   "outputs": [
    {
     "data": {
      "image/png": "[encoded data removed]",
      "text/plain": [
       "<Figure size 432x288 with 1 Axes>"
      ]
     },
     "metadata": {},
     "output_type": "display_data"
    }
   ],
   "source": [
    "prop_dist = []\n",
    "nevents = 1000000\n",
    "for i in range(nevents):\n",
    "    particle1 = Particle(2112,Vec4(np.sqrt(1000**2+px**2+py**2+pz**2),px,py,pz),Vec3(0,0,0))\n",
    "    fsi = FSI(C12,1e-1)\n",
    "    dist = fsi([particle1])\n",
    "    if dist is not None:\n",
    "        prop_dist.append(dist)\n",
    "\n",
    "plt.hist(prop_dist,bins=50)\n",
    "plt.yscale('log')\n",
    "plt.show()"
   ]
  },
  {
   "cell_type": "code",
   "execution_count": 292,
   "metadata": {},
   "outputs": [
    {
     "data": {
      "image/png": "[encoded data removed]",
      "text/plain": [
       "<Figure size 432x288 with 1 Axes>"
      ]
     },
     "metadata": {},
     "output_type": "display_data"
    }
   ],
   "source": [
    "plt.hist(prop_dist,bins=50)\n",
    "plt.show()"
   ]
  },
  {
   "cell_type": "code",
   "execution_count": null,
   "metadata": {},
   "outputs": [],
   "source": []
  }
 ],
 "metadata": {
  "kernelspec": {
   "display_name": "Python 3",
   "language": "python",
   "name": "python3"
  },
  "language_info": {
   "codemirror_mode": {
    "name": "ipython",
    "version": 3
   },
   "file_extension": ".py",
   "mimetype": "text/x-python",
   "name": "python",
   "nbconvert_exporter": "python",
   "pygments_lexer": "ipython3",
   "version": "3.6.5"
  }
 },
 "nbformat": 4,
 "nbformat_minor": 2
}
