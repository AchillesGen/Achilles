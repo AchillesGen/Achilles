{
 "cells": [
  {
   "cell_type": "markdown",
   "metadata": {},
   "source": [
    "# Final State Interaction Via Cascade\n",
    "\n",
    "## Nuwro Algorithm\n",
    "1. Take nucleons and pions created in primary vertex\n",
    "2. Move each particle by the distance of its formation zone???\n",
    "3. Put all of them into a queue\n",
    "4. Take a particle from the queue and calculate its mean free path\n",
    "5. From an exponential distribution, obtain its actual free path\n",
    "6. Propagate the particle by the distance of its actual free path, but less than some upper threshold\n",
    "7. Check if it is still in the nucleus\n",
    "    1. If outside, then particle leaves nucleus\n",
    "    2. If inside, then was the actual free path greater than the threshold\n",
    "        1. If yes, add the particle back into the queue\n",
    "        2. If no, generate the interaction\n",
    "            1. Check for Pauli blocking for any in the interaction\n",
    "            2. If no blocking, then add the particles back into the queue\n",
    "            3. If blocking, veto interaction, and return to previous state"
   ]
  },
  {
   "cell_type": "markdown",
   "metadata": {},
   "source": [
    "## Josh's Questions\n",
    "1. Do we need to worry about decays of any of the particles in the cascades?\n",
    "2. What particles should we consider as possible particles in the cascade? Do we need higher resonance Delta's or Rho's for example?\n",
    "3. When preforming the cascade, how should we treat the fact that we are moving through a nuclear potential? Should we use something like a Woods-Saxon Potential?"
   ]
  },
  {
   "cell_type": "code",
   "execution_count": 3,
   "metadata": {},
   "outputs": [],
   "source": [
    "import queue\n",
    "import numpy as np\n",
    "import pandas as pd\n",
    "\n",
    "from scipy.stats import uniform\n",
    "from scipy import interpolate\n",
    "from scipy.signal import savgol_filter\n",
    "\n",
    "from nuChic.FourVector import Vec4\n",
    "from nuChic.ThreeVector import Vec3\n",
    "from nuChic.Particle import Particle\n",
    "from nuChic.Nucleus import Nucleus\n",
    "from nuChic.Constants import hbarc\n",
    "\n",
    "# Class that stores all the PDG data table information\n",
    "from particletools.tables import PYTHIAParticleData\n",
    "pyth_data = PYTHIAParticleData()"
   ]
  },
  {
   "cell_type": "code",
   "execution_count": 4,
   "metadata": {},
   "outputs": [],
   "source": [
    "%matplotlib inline\n",
    "import matplotlib.pyplot as plt"
   ]
  },
  {
   "cell_type": "markdown",
   "metadata": {},
   "source": [
    "## Nuclear Densities"
   ]
  },
  {
   "cell_type": "code",
   "execution_count": 62,
   "metadata": {},
   "outputs": [],
   "source": [
    "c12Density_db = pd.read_csv('../densities/c12.density',header=10,sep='\\s+',names=['r','rho','error'])\n",
    "c12Density = interpolate.InterpolatedUnivariateSpline(c12Density_db['r'].values,c12Density_db['rho'],k=1)"
   ]
  },
  {
   "cell_type": "code",
   "execution_count": 63,
   "metadata": {},
   "outputs": [
    {
     "name": "stderr",
     "output_type": "stream",
     "text": [
      "/home/isaacson/Programs/anaconda3/lib/python3.6/site-packages/scipy/signal/_arraytools.py:45: FutureWarning: Using a non-tuple sequence for multidimensional indexing is deprecated; use `arr[tuple(seq)]` instead of `arr[seq]`. In the future this will be interpreted as an array index, `arr[np.array(seq)]`, which will result either in an error or a different result.\n",
      "  b = a[a_slice]\n"
     ]
    },
    {
     "data": {
      "image/png": "[encoded data removed]",
      "text/plain": [
       "<Figure size 432x288 with 1 Axes>"
      ]
     },
     "metadata": {},
     "output_type": "display_data"
    }
   ],
   "source": [
    "r = np.linspace(0.,5,1000)\n",
    "rho = c12Density(r)\n",
    "\n",
    "density_smooth = savgol_filter(c12Density_db['r'].values, 3, 1) # window size 7, polynomial order 3\n",
    "c12Density_smooth = interpolate.InterpolatedUnivariateSpline(density_smooth,c12Density_db['rho'])\n",
    "rho_smooth = c12Density_smooth(r)\n",
    "\n",
    "plt.plot(r,rho)\n",
    "plt.plot(r,rho_smooth)\n",
    "plt.show()"
   ]
  },
  {
   "cell_type": "code",
   "execution_count": null,
   "metadata": {},
   "outputs": [],
   "source": []
  },
  {
   "cell_type": "markdown",
   "metadata": {},
   "source": [
    "## Nuclear Potentials"
   ]
  },
  {
   "cell_type": "code",
   "execution_count": 64,
   "metadata": {},
   "outputs": [],
   "source": [
    "def WoodsSaxon(r,A,V0=50,a=0.5):\n",
    "    r0 = 1.25\n",
    "    R = r0*pow(A,1.0/3.0)\n",
    "    return - V0/(1+np.exp((r-R)/a))\n",
    "\n",
    "def CoulombPotential(r,Z,A):\n",
    "    r0 = 1.25\n",
    "    R = r0*pow(A,1.0/3.0)\n",
    "    if r <= R:\n",
    "        return Z*(3*R**2-r**2)/(2*R**3)\n",
    "    else:\n",
    "        return Z/r"
   ]
  },
  {
   "cell_type": "code",
   "execution_count": 65,
   "metadata": {},
   "outputs": [],
   "source": [
    "def R(E,A):\n",
    "    x = 1000/E\n",
    "    y = A/(A+20)\n",
    "    \n",
    "    \n",
    "    result = r[0]\n",
    "    for m in range(1,5):\n",
    "        print(m)\n",
    "        result += r[m]*x**m\n",
    "        \n",
    "    for n in range(1,3):\n",
    "        print(n)\n",
    "        result += r[n+4]*y**n\n",
    "        \n",
    "    result += r[8]*x*y\n",
    "    result += r[9]*x**2*y\n",
    "    result += r[10]*x*y**2\n",
    "    \n",
    "    return pow(A,1.0/3.0)*result\n",
    "\n",
    "def a(E,A):\n",
    "    x = 1000/E\n",
    "    y = A/(A+20)\n",
    "    \n",
    "    result = acoeff[0]\n",
    "    for m in range(1,5):\n",
    "        print(m)\n",
    "        result += acoeff[m]*x**m\n",
    "        \n",
    "    for n in range(1,3):\n",
    "        print(n)\n",
    "        result += acoeff[n+4]*y**n\n",
    "        \n",
    "    result += acoeff[8]*x*y\n",
    "    result += acoeff[9]*x**2*y\n",
    "    result += acoeff[10]*x*y**2\n",
    "    return result\n",
    "\n",
    "def fV(r,E,A):\n",
    "    return np.cosh(R(E,A)/a(E,A)-1)/(np.cosh(R(E,A)/a(E,A))+np.cosh(r/a(E,A))-2)\n",
    "\n",
    "def fS(r,E,A):\n",
    "    return np.cosh(R(E,A)/a(E,A)-1)*(np.cosh(r/a(E,A))-1)/(np.cosh(R(E,A)/a(E,A))+np.cosh(r/a(E,A))-2)**2\n"
   ]
  },
  {
   "cell_type": "code",
   "execution_count": 66,
   "metadata": {},
   "outputs": [
    {
     "name": "stdout",
     "output_type": "stream",
     "text": [
      "1\n",
      "2\n",
      "3\n",
      "4\n",
      "1\n",
      "2\n"
     ]
    },
    {
     "data": {
      "text/plain": [
       "594.0879277081013"
      ]
     },
     "execution_count": 66,
     "metadata": {},
     "output_type": "execute_result"
    }
   ],
   "source": [
    "R(100,20)"
   ]
  },
  {
   "cell_type": "code",
   "execution_count": null,
   "metadata": {},
   "outputs": [],
   "source": []
  },
  {
   "cell_type": "code",
   "execution_count": 67,
   "metadata": {},
   "outputs": [
    {
     "data": {
      "image/png": "[encoded data removed]",
      "text/plain": [
       "<Figure size 576x432 with 1 Axes>"
      ]
     },
     "metadata": {},
     "output_type": "display_data"
    }
   ],
   "source": [
    "x = np.linspace(0,10,1000)\n",
    "yW = WoodsSaxon(x,12)\n",
    "vCoulombPotential = np.vectorize(CoulombPotential)\n",
    "yC = vCoulombPotential(x,6,12)\n",
    "\n",
    "plt.figure(figsize=(8,6))\n",
    "plt.plot(x,yW,label='Woods-Saxon')\n",
    "plt.plot(x,yC,label='Coulomb')\n",
    "plt.plot(x,yW+yC,label='Total')\n",
    "plt.legend()\n",
    "plt.show()"
   ]
  },
  {
   "cell_type": "markdown",
   "metadata": {},
   "source": [
    "## Nucleon-Nucleon Cross-Section"
   ]
  },
  {
   "cell_type": "code",
   "execution_count": 68,
   "metadata": {},
   "outputs": [],
   "source": [
    "mN = 0.938\n",
    "\n",
    "# From GiBUU\n",
    "def nukNuk_nukNuk(sqrts,massIn,totalcharge):\n",
    "    if(sqrts>1.338):\n",
    "        srtf = (sqrts-massIn[0]-massIn[1]+2*mN)**2\n",
    "        plab = np.sqrt((srtf/(2*mN))**2-srtf)\n",
    "        if(totalcharge==1): # pn channel\n",
    "            if(plab<=0.525):\n",
    "                return 17.0546*mN/(srtf-4*mN**2) - 6.82506\n",
    "            elif(plab<=0.8):\n",
    "                return 33. + 196*abs(plab-0.95)**2.5\n",
    "            elif(plab<=2.0):\n",
    "                return 31./np.sqrt(plab)\n",
    "            elif(plab<=2.776):\n",
    "                return 77./(plab+1.5)\n",
    "            else:\n",
    "#                return 11.9 + 26.9*plab**(-1.21) + 0.169*np.log(plab)**2 - 1.85*np.log(plab)\n",
    "                return 48.0+0.522*np.log(plab)**2-4.51*np.log(plab)\n",
    "        else: # pp or nn channel\n",
    "            if(plab<=0.435):\n",
    "                return 5.11775*mN/(srtf-4*mN**2) + 1.67284\n",
    "            elif(plab<=0.8):\n",
    "                return 23.5 + 1000*(plab-0.7)**4\n",
    "            elif(plab<=2.0):\n",
    "                return 1250/(plab+50) - 4*(plab-1.3)**2\n",
    "            elif(plab<=2.776):\n",
    "                return 77/(plab+1.5)\n",
    "            else:\n",
    "#                return 11.9 + 26.9*plab**(-1.21) + 0.169*np.log(plab)**2 - 1.85*np.log(plab)\n",
    "                return 48.0+0.522*np.log(plab)**2-4.51*np.log(plab)\n",
    "    else:\n",
    "        return 0\n",
    "    \n",
    "# From GiBUU written in plab\n",
    "def nukNuk_nukNuk2(plab,massIn,totalcharge):\n",
    "    sqrts=np.sqrt(2*mN**2-2*np.sqrt(mN**2*(mN**2+plab**2)))\n",
    "    print(plab,sqrts)\n",
    "    if(sqrts>1.338):\n",
    "        srtf = (sqrts-massIn[0]-massIn[1]+2*mN)**2\n",
    "        plab = np.sqrt((srtf/(2*mN))**2-srtf)\n",
    "        print(srtf,plab)\n",
    "        if(totalcharge==1): # pn channel\n",
    "            if(plab<=0.525):\n",
    "                return 17.0546*mN/(srtf-4*mN**2) - 6.82506\n",
    "            elif(plab<=0.8):\n",
    "                return 33. + 196*abs(plab-0.95)**2.5\n",
    "            elif(plab<=2.0):\n",
    "                return 31./np.sqrt(plab)\n",
    "            elif(plab<=2.776):\n",
    "                return 77./(plab+1.5)\n",
    "            else:\n",
    "                return 11.9 + 26.9*plab**(-1.21) + 0.169*np.log(plab)**2 - 1.85*np.log(plab)\n",
    "        else: # pp or nn channel\n",
    "            if(plab<=0.435):\n",
    "                return 5.11775*mN/(srtf-4*mN**2) + 1.67284\n",
    "            elif(plab<=0.8):\n",
    "                return 23.5 + 1000*(plab-0.7)**4\n",
    "            elif(plab<=2.0):\n",
    "                return 1250/(plab+50) - 4*(plab-1.3)**2\n",
    "            elif(plab<=2.776):\n",
    "                return 77/(plab+1.5)\n",
    "            else:\n",
    "                return 11.9 + 26.9*plab**(-1.21) + 0.169*np.log(plab)**2 - 1.85*np.log(plab)\n",
    "    else:\n",
    "        return 0\n",
    "\n",
    "# NASA Nucleon-Nucleon \n",
    "# https://ntrs.nasa.gov/archive/nasa/casi.ntrs.nasa.gov/20080014212.pdf\n",
    "\n",
    "MeV = 1.0/1000\n",
    "mb = 1.0\n",
    "GeV = 1.0\n",
    "\n",
    "# HZETRN parameters\n",
    "a = 5.0 * MeV              \n",
    "b = 0.199/np.sqrt(MeV)     \n",
    "c = 0.451 * MeV**-0.258      \n",
    "d = 25.0 * MeV               \n",
    "e = 134.0 * MeV              \n",
    "f = 1.187 * MeV**-0.35       \n",
    "g = 0.1 * MeV                \n",
    "h = 0.282 * MeV              \n",
    "\n",
    "# PDG parameters\n",
    "Zpp  = 33.45 * mb            \n",
    "Zpn  = 35.80 * mb              \n",
    "Y1pp = 42.53 * mb              \n",
    "Y1pn = 40.15 * mb              \n",
    "Y2pp = 33.34 * mb              \n",
    "Y2pn = 30.00 * mb              \n",
    "B    = 0.308 * mb              \n",
    "s1   = 1.0   * GeV**2           \n",
    "s0   = (5.38 * GeV)**2 \n",
    "n1   = 0.458\n",
    "n2   = 0.545\n",
    "\n",
    "# JWN parameters\n",
    "gamma = 52.5 * mb * GeV**(0.16)\n",
    "alpha = 0.00369 / MeV\n",
    "beta  = 0.00895741 * MeV**(-0.8)\n",
    "\n",
    "def sigma_pp(plab):\n",
    "    Tlab = np.sqrt(plab**2+mN**2)-mN\n",
    "    if(plab < 1.8):\n",
    "        if(Tlab >= 0.025):\n",
    "            return (1+a/Tlab)*(40+109*np.cos(b*np.sqrt(Tlab))*np.exp(-c*(Tlab-d)**(0.258)))\n",
    "        else:\n",
    "            return np.exp(6.51*np.exp(-(Tlab/e)**(0.7)))\n",
    "    elif(plab <= 4.7):\n",
    "        return gamma/plab**0.16\n",
    "    else:\n",
    "        s = 2*mN*(mN+np.sqrt(plab**2+mN**2))\n",
    "        return Zpp + B*np.log(s/s0)**2 + Y1pp*(s1/s)**n1 - Y2pp*(s1/s)**n2\n",
    "    \n",
    "def sigma_np(plab):\n",
    "    Tlab = np.sqrt(plab**2+mN**2)-mN\n",
    "    if(plab < 0.5):\n",
    "        if(Tlab >= 0.1 * MeV):\n",
    "            return 38 + 12500*np.exp(-f*(Tlab-g)**0.35)\n",
    "        else:\n",
    "            return 26000 * np.exp(-(Tlab/h)**0.3)\n",
    "    elif(plab <= 2.0):\n",
    "        return 40 + 10*np.cos(alpha*plab - 0.943)*np.exp(-beta*plab**0.8+2)\n",
    "    else:\n",
    "        s = 2*mN*(mN+np.sqrt(plab**2+mN**2))\n",
    "        return Zpn + B*np.log(s/s0)**2 + Y1pn*(s1/s)**n1 - Y2pn*(s1/s)**n2"
   ]
  },
  {
   "cell_type": "code",
   "execution_count": 69,
   "metadata": {
    "scrolled": true
   },
   "outputs": [
    {
     "data": {
      "image/png": "[encoded data removed]",
      "text/plain": [
       "<Figure size 432x288 with 1 Axes>"
      ]
     },
     "metadata": {},
     "output_type": "display_data"
    }
   ],
   "source": [
    "plab = np.logspace(np.log10(0.5),np.log10(500),1000)\n",
    "sigma = np.zeros_like(plab)\n",
    "sigma_gibuu = np.zeros_like(plab)\n",
    "sqrts=np.sqrt(2*mN**2+2*mN*np.sqrt(mN**2+plab**2))\n",
    "for i,_ in enumerate(plab):\n",
    "    sigma[i] = sigma_np(plab[i])\n",
    "    sigma_gibuu[i] = nukNuk_nukNuk(sqrts[i],(mN,mN),1)\n",
    "    \n",
    "plt.plot(plab,sigma)\n",
    "#plt.plot(plab,sigma_gibuu)\n",
    "plt.xscale('log')\n",
    "plt.show()"
   ]
  },
  {
   "cell_type": "markdown",
   "metadata": {},
   "source": [
    "## Define the interactions that can occur for a given particle"
   ]
  },
  {
   "cell_type": "code",
   "execution_count": 70,
   "metadata": {},
   "outputs": [],
   "source": [
    "def PLab(E_inv,mL,mn1):\n",
    "    arg=(E_inv**2-mL**2-mn1**2)**2/(4.0*mn1**2)-mL**2\n",
    "    return np.sqrt(arg)\n",
    "\n",
    "def LN_in_LN(mL,mn1,plab,E_inv):\n",
    "    plab = PLab(E_inv,mL,mn1)*1e-3\n",
    "    x=min(2.1,plab_GeV)\n",
    "    return (39.66-100.45*x+92.44*x**2-21.40*x**3)/plab\n",
    "\n",
    "def LN_in_SzN(mL,mSz,mn1,mn2,plab,E_inv):\n",
    "    plab = PLab(E_inv,mL,mn1)*1e-3\n",
    "    \n",
    "    pL_CM=np.sqrt(((E_inv**2-mL**2-mn1**2)-4.0*mn1**2*mL**2)/(4.0*E_inv**2))\n",
    "    pL_CM*=1e-3\n",
    "    \n",
    "    pSz_CM=np.sqrt(((E_inv**2-mSz**2-mn2**2)-4.0*mn2**2*mSz**2)/(4.0*E_inv**2))\n",
    "    pSz_CM*=1e-3\n",
    "    \n",
    "    x=min(2.1,plab)\n",
    "    return (31.1-30.94*x+8.16*x**2)*pSz_CM/pL_CM\n",
    "\n",
    "def Smp_in_Smp(mSm,mn1,plab,E_inv):\n",
    "    plab = PLab(E_inv,mSm,mn1)*1e-3\n",
    "    return 22.4/plab - 1.08\n",
    "\n",
    "def Spp_in_Spp(mSp,mn1,plab,E_inv):\n",
    "    plab = Plab(E_inv,mSp,mn1)*1e-3\n",
    "    return 11.77/plab+19.07"
   ]
  },
  {
   "cell_type": "code",
   "execution_count": 71,
   "metadata": {},
   "outputs": [],
   "source": [
    "Interaction_Dict = {# Pions (Pi^0, Pi^+)\n",
    "                    111: [],\n",
    "                    211: [],\n",
    "                    # rhos (rho^0, rho^+)\n",
    "                    113: [],\n",
    "                    213: [],\n",
    "                    # eta and eta'\n",
    "                    221: [],\n",
    "                    331: [],\n",
    "                    # Kaons (K_L, K_S, K^+)\n",
    "                    130: [],\n",
    "                    310: [],\n",
    "                    321: [],\n",
    "                    # D Mesons (D^+, D^0)\n",
    "                    411: [],\n",
    "                    421: [],\n",
    "                    # proton and neutron\n",
    "                    2212: [[sigma_pp,2212],[sigma_np,2112]],\n",
    "                    2112: [[sigma_pp,2112],[sigma_np,2212]],\n",
    "                    # Deltas (Delta^++, Delta^+, Delta^0, Delta^-)\n",
    "                    2224: [],\n",
    "                    2214: [],\n",
    "                    2114: [],\n",
    "                    1114: [],\n",
    "                    # Lambda and Simgas (Lamda, Sigma^+, Sigma^0, Sigma^-)\n",
    "                    3122: [],\n",
    "                    3222: [],\n",
    "                    3212: [],\n",
    "                    3112: [],\n",
    "                    # Cascades (0,-)\n",
    "                    3322: [],\n",
    "                    3312: [],\n",
    "                    # Charmed Baryons (Lambda_c, Sigma_c^++, Sigma_c^+, Sigma_c^0)\n",
    "                    4122: [],\n",
    "                    4222: [],\n",
    "                    4212: [],\n",
    "                    4112: [],\n",
    "                }"
   ]
  },
  {
   "cell_type": "markdown",
   "metadata": {},
   "source": [
    "## Define interface function to run through the above algorithm"
   ]
  },
  {
   "cell_type": "code",
   "execution_count": 146,
   "metadata": {},
   "outputs": [],
   "source": [
    "class FSI:\n",
    "    def __init__(self,nucleus, time_step=1):\n",
    "        ''' Initialize the FSI class.\n",
    "    \n",
    "            Input:\n",
    "            - nucleus: The definition of the nucleus the interaction occured\n",
    "                       within. This is defined by the nuclear density.\n",
    "        '''\n",
    "        self.nucleus = nucleus\n",
    "        self.queue = queue.Queue()\n",
    "        self.time_step = time_step\n",
    "\n",
    "    def __call__(self,particles):\n",
    "        ''' This function is the driver for the cascade calculation,\n",
    "            preforming the selection of the nucleons, and their evolution.\n",
    "        \n",
    "            Input: \n",
    "            - particles: The nucleons propagating through the nucleus from \n",
    "                         initial interaction, defined by their 4-momentums,\n",
    "                         their positions, and their pids\n",
    "                         \n",
    "            Output:\n",
    "            - escaped: A list of particles that escape the nucleus\n",
    "        '''\n",
    "        escaped = []\n",
    "        self.Z = self.nucleus.Z\n",
    "        self.N = self.nucleus.A - self.nucleus.Z\n",
    "        \n",
    "        # Fill the queue with initial particles\n",
    "        for particle in particles:\n",
    "            self.queue.put(particle)\n",
    "            if particle.pid == 2212:\n",
    "                self.Z -= 1\n",
    "            elif particle.pid == 2112:\n",
    "                self.N -= 1\n",
    "            \n",
    "        # Main loop over the queue\n",
    "        while not self.queue.empty():\n",
    "            particle = self.queue.get()\n",
    "            prop_dist = particle.propagate(self.time_step)\n",
    "            \n",
    "            # Check if particle is still in nucleus\n",
    "            if particle.r() > self.nucleus.size():\n",
    "                # Adjust based on potential\n",
    "                escape = self.nucleus.escape(particle)\n",
    "                if escape:\n",
    "                    escaped.append(particle)\n",
    "                else:\n",
    "                    self.nucleus.absorb(particle)\n",
    "#                return particle.r()\n",
    "            else:\n",
    "                particles_interaction = self.interact(particle)\n",
    "                if particles_interaction is None:\n",
    "                    self.queue.put(particle)\n",
    "                    continue\n",
    "                if self.pauli_blocking(particles_interaction):\n",
    "                    # If blocked just veto the interaction and not undo the step\n",
    "                    #particle.back_propagate()\n",
    "                    self.queue.put(particle)\n",
    "                    continue\n",
    "                if particles_interaction is not None:\n",
    "                    if particle.pid == 2212:\n",
    "                        self.Z += 1\n",
    "                    elif particle.pid == 2112:\n",
    "                        self.N += 1\n",
    "                    for particle_int in particles_interaction:\n",
    "                        self.queue.put(particle_int)\n",
    "                        if particle_int.pid == 2212:\n",
    "                            self.Z -= 1\n",
    "                        elif particle_int.pid == 2112:\n",
    "                            self.N -= 1\n",
    "#                        return particle_int.r()\n",
    "        return escaped\n",
    "                        \n",
    "    def interact(self,particle):\n",
    "        # Generate initial momentum for hit particle\n",
    "        phi = 2*np.pi*np.random.uniform()\n",
    "        ctheta = 2.0*np.random.uniform()-1.0\n",
    "        stheta = np.sqrt(1.0-ctheta**2)\n",
    "        p = self.nucleus.kf*np.random.uniform()\n",
    "        px = p * stheta * np.cos(phi)\n",
    "        py = p * stheta * np.sin(phi)\n",
    "        pz = p * ctheta\n",
    "        E = np.sqrt(1000**2+px**2+py**2+pz**2)\n",
    "        \n",
    "        p_in = Vec4(E,px,py,pz)\n",
    "        \n",
    "        # Calculate all the possible interaction\n",
    "        sigma = []\n",
    "        sigma_rho = []\n",
    "        for interaction in Interaction_Dict[particle.pid]:\n",
    "            plab = (particle.mom + p_in).M() * MeV\n",
    "            sigma.append(interaction[0](plab)*1e-1)\n",
    "            if interaction[1] == 2212:\n",
    "                sigma_rho.append(sigma[-1]*self.nucleus.density_P(particle.r())*self.Z/self.nucleus.Z)\n",
    "            elif interaction[1] == 2112:\n",
    "                sigma_rho.append(sigma[-1]*self.nucleus.density_P(particle.r())*self.N/(self.nucleus.A-self.nucleus.Z))\n",
    "            \n",
    "        sigma_total = sum(sigma)\n",
    "        sigma_rho_total = sum(sigma_rho)\n",
    "        prob = sigma_rho_total*particle.mom.P()/particle.mom.E * self.time_step *hbarc\n",
    "            \n",
    "        # Accept-reject on the interaction\n",
    "        # Then select interaction based on cross-section\n",
    "        if np.random.uniform() > prob:\n",
    "            return None\n",
    "        \n",
    "        interaction_index = np.random.choice(len(Interaction_Dict[particle.pid]),p=sigma_rho/sigma_rho_total)\n",
    "        interaction = Interaction_Dict[particle.pid][interaction_index]\n",
    "        \n",
    "        particle_in = Particle(interaction[1],Vec4(E,px,py,pz),particle.pos)\n",
    "        \n",
    "        # Boost to center of mass frame\n",
    "        cm = particle.mom + particle_in.mom\n",
    "        beta = cm.BoostVector()\n",
    "        p1_cm = particle.mom.Boost(-beta)\n",
    "        p2_cm = particle_in.mom.Boost(-beta)\n",
    "        \n",
    "        # Generate the final state and return\n",
    "        phi = 2*np.pi*np.random.uniform()\n",
    "        ctheta = 2.0*np.random.uniform()-1.0\n",
    "        stheta = np.sqrt(1.0-ctheta**2)\n",
    "        px =  p1_cm.P() * stheta * np.cos(phi)\n",
    "        py =  p1_cm.P() * stheta * np.sin(phi)\n",
    "        pz =  p1_cm.P() * ctheta\n",
    "        E_1 = np.sqrt(p1_cm.M2()+px**2+py**2+pz**2)\n",
    "        E_2 = np.sqrt(p2_cm.M2()+px**2+py**2+pz**2)\n",
    "        \n",
    "        particle1_out = Particle(particle.pid, Vec4(E_1,px,py,pz).Boost(beta), particle.pos)\n",
    "        particle2_out = Particle(particle_in.pid, Vec4(E_2,-px,-py,-pz).Boost(beta), particle_in.pos)\n",
    "        \n",
    "        return [particle1_out,particle2_out]\n",
    "        \n",
    "    def pauli_blocking(self, particles_interaction):\n",
    "        # See if Pauli blocking occurs for the proposed interaction\n",
    "        for particle in particles_interaction:\n",
    "            if particle.mom.P() < self.nucleus.kf:\n",
    "                return True\n",
    "        return False"
   ]
  },
  {
   "cell_type": "code",
   "execution_count": 147,
   "metadata": {},
   "outputs": [],
   "source": [
    "p = 500\n",
    "phi = 2.0*np.pi*np.random.uniform()\n",
    "costheta = 2.0*np.random.uniform() - 1.0\n",
    "sintheta = np.sqrt(1.0 - costheta**2)\n",
    "px = p * sintheta * np.sin(phi)\n",
    "py = p * sintheta * np.cos(phi)\n",
    "pz = p * costheta\n",
    "particle1 = Particle(2112,Vec4(np.sqrt(1000**2+px**2+py**2+pz**2),px,py,pz),Vec3(0,0,0))"
   ]
  },
  {
   "cell_type": "code",
   "execution_count": 148,
   "metadata": {
    "scrolled": true
   },
   "outputs": [
    {
     "data": {
      "text/plain": [
       "Vec3(-0.40440874623793266,-0.13267498244538595,0.1372986343682263)"
      ]
     },
     "execution_count": 148,
     "metadata": {},
     "output_type": "execute_result"
    }
   ],
   "source": [
    "particle1.vec"
   ]
  },
  {
   "cell_type": "code",
   "execution_count": 149,
   "metadata": {},
   "outputs": [
    {
     "data": {
      "text/plain": [
       "Vec3(0,0,0)"
      ]
     },
     "execution_count": 149,
     "metadata": {},
     "output_type": "execute_result"
    }
   ],
   "source": [
    "particle1.pos"
   ]
  },
  {
   "cell_type": "code",
   "execution_count": 150,
   "metadata": {},
   "outputs": [
    {
     "name": "stdout",
     "output_type": "stream",
     "text": [
      "(-0.008088174924758655,-0.0026534996489077194,0.0027459726873645266)\n"
     ]
    }
   ],
   "source": [
    "dist=particle1.propagate(1e-1)\n",
    "print(dist)"
   ]
  },
  {
   "cell_type": "code",
   "execution_count": 151,
   "metadata": {},
   "outputs": [
    {
     "data": {
      "text/plain": [
       "Vec3(-0.008088174924758655,-0.0026534996489077194,0.0027459726873645266)"
      ]
     },
     "execution_count": 151,
     "metadata": {},
     "output_type": "execute_result"
    }
   ],
   "source": [
    "particle1.pos"
   ]
  },
  {
   "cell_type": "code",
   "execution_count": 152,
   "metadata": {},
   "outputs": [],
   "source": [
    "particle1.back_propagate()"
   ]
  },
  {
   "cell_type": "code",
   "execution_count": 153,
   "metadata": {},
   "outputs": [
    {
     "data": {
      "text/plain": [
       "Vec3(0.0,0.0,0.0)"
      ]
     },
     "execution_count": 153,
     "metadata": {},
     "output_type": "execute_result"
    }
   ],
   "source": [
    "particle1.pos"
   ]
  },
  {
   "cell_type": "code",
   "execution_count": 154,
   "metadata": {},
   "outputs": [],
   "source": [
    "C12 = Nucleus(6,12,92.15,225,c12Density,c12Density)"
   ]
  },
  {
   "cell_type": "code",
   "execution_count": 155,
   "metadata": {},
   "outputs": [
    {
     "data": {
      "text/plain": [
       "2.616119339802647"
      ]
     },
     "execution_count": 155,
     "metadata": {},
     "output_type": "execute_result"
    }
   ],
   "source": [
    "C12.size()"
   ]
  },
  {
   "cell_type": "code",
   "execution_count": 156,
   "metadata": {},
   "outputs": [
    {
     "data": {
      "text/plain": [
       "0.033"
      ]
     },
     "execution_count": 156,
     "metadata": {},
     "output_type": "execute_result"
    }
   ],
   "source": [
    "C12.potential"
   ]
  },
  {
   "cell_type": "code",
   "execution_count": 157,
   "metadata": {
    "scrolled": true
   },
   "outputs": [
    {
     "data": {
      "text/plain": [
       "False"
      ]
     },
     "execution_count": 157,
     "metadata": {},
     "output_type": "execute_result"
    }
   ],
   "source": [
    "C12.escape(particle1)"
   ]
  },
  {
   "cell_type": "code",
   "execution_count": 158,
   "metadata": {},
   "outputs": [],
   "source": [
    "fsi = FSI(C12)"
   ]
  },
  {
   "cell_type": "code",
   "execution_count": 159,
   "metadata": {
    "scrolled": true
   },
   "outputs": [],
   "source": [
    "prop_dist = []\n",
    "nevents = 1000\n",
    "for i in range(nevents):\n",
    "    particle1 = Particle(2212,Vec4(np.sqrt(1000**2+px**2+py**2+pz**2),px,py,pz),Vec3(0,0,0))\n",
    "    fsi = FSI(C12,0.5)\n",
    "    dist = fsi([particle1])\n",
    "    if dist is not None:\n",
    "        prop_dist.append(len(dist))\n"
   ]
  },
  {
   "cell_type": "code",
   "execution_count": 160,
   "metadata": {},
   "outputs": [
    {
     "data": {
      "image/png": "[encoded data removed]",
      "text/plain": [
       "<Figure size 432x288 with 1 Axes>"
      ]
     },
     "metadata": {},
     "output_type": "display_data"
    }
   ],
   "source": [
    "plt.hist(prop_dist,bins=12,range=[0,12],align='left')\n",
    "plt.yscale('log')\n",
    "plt.show()"
   ]
  },
  {
   "cell_type": "code",
   "execution_count": 161,
   "metadata": {},
   "outputs": [
    {
     "data": {
      "image/png": "[encoded data removed]",
      "text/plain": [
       "<Figure size 432x288 with 1 Axes>"
      ]
     },
     "metadata": {},
     "output_type": "display_data"
    }
   ],
   "source": [
    "plt.hist(prop_dist,bins=12,range=[0,12],align='left')\n",
    "plt.show()"
   ]
  },
  {
   "cell_type": "code",
   "execution_count": 36,
   "metadata": {},
   "outputs": [
    {
     "data": {
      "image/png": "[encoded data removed]",
      "text/plain": [
       "<Figure size 432x288 with 1 Axes>"
      ]
     },
     "metadata": {},
     "output_type": "display_data"
    }
   ],
   "source": [
    "\n",
    "\n",
    "def FSIapprox(omega,M,E,Ep):\n",
    "    return W/np.pi/(W**2+(omega+M-E-Ep-V)**2)\n",
    "\n",
    "omega = np.linspace(0,1000,10000)\n",
    "shift = FSIapprox(omega,mN,1000,800)\n",
    "\n",
    "plt.plot(omega,shift)\n",
    "plt.show()"
   ]
  },
  {
   "cell_type": "code",
   "execution_count": 33,
   "metadata": {},
   "outputs": [],
   "source": [
    "from scipy import integrate\n",
    "from scipy.optimize import curve_fit"
   ]
  },
  {
   "cell_type": "code",
   "execution_count": 50,
   "metadata": {},
   "outputs": [],
   "source": [
    "def FSI2(omegap, omega,TA,W,V):    \n",
    "    f = (1-np.sqrt(TA))*W/(np.pi*(W**2+(omega-omegap-V)**2))\n",
    "    return f*dsigmap(omegap)\n",
    "\n",
    "CalcIA = pd.read_csv('../../C12_code/C12_730_37p1.out',sep='\\s+',names=['omega','sigma','error'])\n",
    "data = pd.read_csv('../data/12C.dat',header=None,sep='\\s+',names=['Z','A','Ee','Angle','omega','dsigma','error','citation'])\n",
    "maskEnergy = data['Ee'] == 0.730\n",
    "maskAngle = data['Angle'] == 37.1\n",
    "data = data[maskEnergy & maskAngle]\n",
    "data_omega = data['omega'].values\n",
    "data_dsigma = data['dsigma'].values\n",
    "data_error = data['error'].values\n",
    "\n",
    "omegap = CalcIA['omega'].values\n",
    "sigmap = CalcIA['sigma'].values\n",
    "dsigmap = interpolate.InterpolatedUnivariateSpline(omegap,sigmap,k=3)"
   ]
  },
  {
   "cell_type": "code",
   "execution_count": 72,
   "metadata": {
    "scrolled": false
   },
   "outputs": [
    {
     "data": {
      "image/png": "[encoded data removed]",
      "text/plain": [
       "<Figure size 432x288 with 1 Axes>"
      ]
     },
     "metadata": {},
     "output_type": "display_data"
    }
   ],
   "source": [
    "TA = 1\n",
    "W = 0\n",
    "V = 0\n",
    "\n",
    "omega = np.linspace(40,600,100)\n",
    "shift = np.zeros_like(omega)\n",
    "for i,_ in enumerate(omega):\n",
    "    shift[i] = integrate.quad(FSI2,0,600,args=(omega[i],TA,W,V))[0]\n",
    "    shift[i] += np.sqrt(TA)*dsigmap(omega[i]-V)/600\n",
    "    \n",
    "plt.errorbar(data_omega*1000, data_dsigma, yerr=data_error, fmt='.')\n",
    "plt.plot(omega,shift)\n",
    "plt.show()"
   ]
  },
  {
   "cell_type": "code",
   "execution_count": 71,
   "metadata": {},
   "outputs": [
    {
     "name": "stderr",
     "output_type": "stream",
     "text": [
      "/home/isaacson/Programs/anaconda3/lib/python3.6/site-packages/scipy/integrate/quadpack.py:385: IntegrationWarning: The maximum number of subdivisions (50) has been achieved.\n",
      "  If increasing the limit yields no improvement it is advised to analyze \n",
      "  the integrand in order to determine the difficulties.  If the position of a \n",
      "  local difficulty can be determined (singularity, discontinuity) one will \n",
      "  probably gain from splitting up the interval and calling the integrator \n",
      "  on the subranges.  Perhaps a special-purpose integrator should be used.\n",
      "  warnings.warn(msg, IntegrationWarning)\n"
     ]
    },
    {
     "data": {
      "image/png": "[encoded data removed]",
      "text/plain": [
       "<Figure size 432x288 with 1 Axes>"
      ]
     },
     "metadata": {},
     "output_type": "display_data"
    }
   ],
   "source": [
    "TA = 0.8\n",
    "W = 0.35125919809491096\n",
    "V = -14.845806632802447\n",
    "\n",
    "omega = np.linspace(40,600,100)\n",
    "shift = np.zeros_like(omega)\n",
    "for i,_ in enumerate(omega):\n",
    "    shift[i] = integrate.quad(FSI2,0,600,args=(omega[i],TA,W,V))[0]\n",
    "    shift[i] += np.sqrt(TA)*dsigmap(omega[i]-V)/600\n",
    "    \n",
    "plt.errorbar(data_omega*1000, data_dsigma, yerr=data_error, fmt='.')\n",
    "plt.plot(omega,shift)\n",
    "plt.show()"
   ]
  },
  {
   "cell_type": "code",
   "execution_count": 37,
   "metadata": {},
   "outputs": [
    {
     "data": {
      "text/plain": [
       "array([ 45.,  55.,  65.,  85.,  95., 105., 115., 125., 135., 145., 165.])"
      ]
     },
     "execution_count": 37,
     "metadata": {},
     "output_type": "execute_result"
    }
   ],
   "source": [
    "data_omega[3:14]*1000"
   ]
  },
  {
   "cell_type": "code",
   "execution_count": 70,
   "metadata": {},
   "outputs": [
    {
     "name": "stderr",
     "output_type": "stream",
     "text": [
      "/home/isaacson/Programs/anaconda3/lib/python3.6/site-packages/scipy/integrate/quadpack.py:385: IntegrationWarning: The maximum number of subdivisions (50) has been achieved.\n",
      "  If increasing the limit yields no improvement it is advised to analyze \n",
      "  the integrand in order to determine the difficulties.  If the position of a \n",
      "  local difficulty can be determined (singularity, discontinuity) one will \n",
      "  probably gain from splitting up the interval and calling the integrator \n",
      "  on the subranges.  Perhaps a special-purpose integrator should be used.\n",
      "  warnings.warn(msg, IntegrationWarning)\n"
     ]
    },
    {
     "name": "stdout",
     "output_type": "stream",
     "text": [
      "1.0 1.0\n",
      "1.0 1.0\n",
      "1.0 1.0\n",
      "1.0000000149011612 1.0\n",
      "1.0 1.0000000149011612\n",
      "9.820858310047933 -4.686608959180993\n",
      "9.820858456390127 -4.686608959180993\n",
      "9.820858310047933 -4.686608889345077\n",
      "11.911449501348706 -9.611490855959133\n",
      "11.911449678843136 -9.611490855959133\n",
      "11.911449501348706 -9.611490712736758\n",
      "-1.5052328845527718 -15.141402907405043\n",
      "4.342818614915002 -10.584173979467325\n",
      "4.342818679628042 -10.584173979467325\n",
      "4.342818614915002 -10.584173821750841\n",
      "5.8675544667881 -11.573745609946911\n",
      "5.867554554221475 -11.573745609946911\n",
      "5.8675544667881 -11.573745437484662\n",
      "3.4850213579682157 -13.007909156533536\n",
      "3.4850214098990806 -13.007909156533536\n",
      "3.4850213579682157 -13.007908962700585\n",
      "-10.72810729681883 -14.047754862060291\n",
      "1.2323487285345718 -13.26415427791459\n",
      "1.2323487468979988 -13.26415427791459\n",
      "1.2323487285345718 -13.264154080263289\n",
      "-1.433394365276675 -13.798508185347357\n",
      "0.9981438518154002 -13.317980536528772\n",
      "0.9981438666889026 -13.317980536528772\n",
      "0.9981438518154002 -13.317980338075397\n",
      "0.6206407919429049 -13.426248367463907\n",
      "0.6206408011911734 -13.426248367463907\n",
      "0.6206407919429049 -13.426248167397217\n",
      "0.5130892075963454 -13.645122728651067\n",
      "0.5130892152419704 -13.645122728651067\n",
      "0.5130892075963454 -13.645122525322893\n",
      "2.2742111654852835 -14.076811173593516\n",
      "2.2742111993736707 -14.076811173593516\n",
      "2.2742111654852835 -14.076810963832683\n",
      "-2.5999680071962654 -14.93470623576388\n",
      "0.81262560451302 -14.139886334956843\n",
      "0.8126256166220851 -14.139886334956843\n",
      "0.81262560451302 -14.139886124256117\n",
      "1.352941652734152 -14.302874063521188\n",
      "1.3529416728945536 -14.302874063521188\n",
      "1.352941652734152 -14.302873850391755\n",
      "-0.21194125442562006 -14.633628783135293\n",
      "1.0932507369478779 -14.33610628195519\n",
      "1.0932507532385833 -14.33610628195519\n",
      "1.0932507369478779 -14.33610606833056\n",
      "0.8417553422041404 -14.406082077794384\n",
      "0.8417553547472725 -14.406082077794384\n",
      "0.8417553422041404 -14.406081863127033\n",
      "0.8629991893924938 -14.547748429304368\n",
      "0.8629992022521837 -14.547748429304368\n",
      "0.8629991893924938 -14.547748212526024\n",
      "0.36600438893910464 -14.830385067429646\n",
      "0.36600439439299504 -14.830385067429646\n",
      "0.36600438893910464 -14.830384846439687\n",
      "-0.8764527301735112 -15.348900427996776\n",
      "0.3070774019680522 -14.88820434411646\n",
      "0.36119224864110006 -14.836181196016083\n",
      "0.361192254023284 -14.836181196016083\n",
      "0.36119224864110006 -14.836180974939756\n",
      "0.34975506691679265 -14.84772327771554\n",
      "0.3600840883948144 -14.837343068474883\n",
      "0.3600840937604854 -14.837343068474883\n",
      "0.3600840883948144 -14.837342847381242\n",
      "0.3577985528337904 -14.839664774851304\n",
      "0.35779855816540435 -14.839664774851304\n",
      "0.3577985528337904 -14.839664553723066\n",
      "0.352966049396221 -14.844299965042666\n",
      "0.352966054655825 -14.844299965042666\n",
      "0.352966049396221 -14.84429974384536\n",
      "0.34230410750554713 -14.853536914987549\n",
      "0.35192054675479767 -14.845228614557602\n",
      "0.35192055199882244 -14.845228614557602\n",
      "0.35192054675479767 -14.845228393346456\n",
      "0.3497913962714602 -14.847084559272629\n",
      "0.35170846310555126 -14.845414408496705\n",
      "0.3517084683464158 -14.845414408496705\n",
      "0.35170846310555126 -14.845414187282792\n",
      "0.3512830312976084 -14.845785942068034\n",
      "0.3512830365321335 -14.845785942068034\n",
      "0.3512830312976084 -14.845785720848584\n",
      "0.3504257226425373 -14.846528791721756\n",
      "0.35119743290075256 -14.845860258992971\n",
      "0.3512744727845064 -14.845793374080282\n",
      "0.35127447801890394 -14.845793374080282\n",
      "0.3512744727845064 -14.845793152860722\n",
      "0.35125737116729966 -14.845808238016701\n",
      "0.3512727626758824 -14.845794860486714\n",
      "0.35127276791025447 -14.845794860486714\n",
      "0.3512727626758824 -14.845794639267131\n",
      "0.35126933869473187 -14.845797833296466\n",
      "0.3512693439290529 -14.845797833296466\n",
      "0.35126933869473187 -14.84579761207684\n",
      "0.351262484027861 -14.845803778901715\n",
      "0.35126248926207987 -14.845803778901715\n",
      "0.351262484027861 -14.845803557682\n",
      "0.35124879957120914 -14.845815670072097\n",
      "0.35126111561616824 -14.84580496802694\n",
      "0.35126112085036676 -14.84580496802694\n",
      "0.35126111561616824 -14.845804746807207\n",
      "0.3512583771067812 -14.84580734627524\n",
      "0.351260841766588 -14.845805205852097\n",
      "0.3512608470007824 -14.845805205852097\n",
      "0.351260841766588 -14.84580498463236\n",
      "0.3512602939160274 -14.845805681502336\n",
      "0.3512602991502137 -14.845805681502336\n",
      "0.3512602939160274 -14.845805460282593\n",
      "0.35125919809491096 -14.845806632802447\n"
     ]
    }
   ],
   "source": [
    "def func(x,b,c):  \n",
    "    result = np.zeros_like(x)\n",
    "    \n",
    "    for i,_ in enumerate(x):\n",
    "        result[i] = integrate.quad(FSI2,0,600,args=(x[i],0.8,b,c,))[0]+np.sqrt(0.8)*dsigmap(x[i]-c)/600\n",
    "        \n",
    "    print(b,c)\n",
    "    return result\n",
    "    \n",
    "popt, pcov = curve_fit(func,data_omega[3:14]*1000,data_dsigma[3:14],bounds=([-np.inf,-np.inf],[np.inf,np.inf]))"
   ]
  },
  {
   "cell_type": "code",
   "execution_count": 40,
   "metadata": {},
   "outputs": [
    {
     "name": "stderr",
     "output_type": "stream",
     "text": [
      "/home/isaacson/Programs/anaconda3/lib/python3.6/site-packages/scipy/integrate/quadpack.py:385: IntegrationWarning: The maximum number of subdivisions (50) has been achieved.\n",
      "  If increasing the limit yields no improvement it is advised to analyze \n",
      "  the integrand in order to determine the difficulties.  If the position of a \n",
      "  local difficulty can be determined (singularity, discontinuity) one will \n",
      "  probably gain from splitting up the interval and calling the integrator \n",
      "  on the subranges.  Perhaps a special-purpose integrator should be used.\n",
      "  warnings.warn(msg, IntegrationWarning)\n"
     ]
    },
    {
     "ename": "KeyboardInterrupt",
     "evalue": "",
     "output_type": "error",
     "traceback": [
      "\u001b[0;31m---------------------------------------------------------------------------\u001b[0m",
      "\u001b[0;31mKeyboardInterrupt\u001b[0m                         Traceback (most recent call last)",
      "\u001b[0;32m<ipython-input-40-8b425d481dd1>\u001b[0m in \u001b[0;36m<module>\u001b[0;34m()\u001b[0m\n\u001b[1;32m      1\u001b[0m \u001b[0msigma\u001b[0m \u001b[0;34m=\u001b[0m \u001b[0mnp\u001b[0m\u001b[0;34m.\u001b[0m\u001b[0msqrt\u001b[0m\u001b[0;34m(\u001b[0m\u001b[0;34m[\u001b[0m\u001b[0mpcov\u001b[0m\u001b[0;34m[\u001b[0m\u001b[0;36m0\u001b[0m\u001b[0;34m,\u001b[0m\u001b[0;36m0\u001b[0m\u001b[0;34m]\u001b[0m\u001b[0;34m,\u001b[0m\u001b[0mpcov\u001b[0m\u001b[0;34m[\u001b[0m\u001b[0;36m1\u001b[0m\u001b[0;34m,\u001b[0m\u001b[0;36m1\u001b[0m\u001b[0;34m]\u001b[0m\u001b[0;34m,\u001b[0m\u001b[0mpcov\u001b[0m\u001b[0;34m[\u001b[0m\u001b[0;36m2\u001b[0m\u001b[0;34m,\u001b[0m\u001b[0;36m2\u001b[0m\u001b[0;34m]\u001b[0m\u001b[0;34m]\u001b[0m\u001b[0;34m)\u001b[0m\u001b[0;34m\u001b[0m\u001b[0m\n\u001b[1;32m      2\u001b[0m values = np.array([\n\u001b[0;32m----> 3\u001b[0;31m     \u001b[0mfunc\u001b[0m\u001b[0;34m(\u001b[0m\u001b[0momega\u001b[0m\u001b[0;34m,\u001b[0m \u001b[0mpopt\u001b[0m\u001b[0;34m[\u001b[0m\u001b[0;36m0\u001b[0m\u001b[0;34m]\u001b[0m \u001b[0;34m+\u001b[0m \u001b[0msigma\u001b[0m\u001b[0;34m[\u001b[0m\u001b[0;36m0\u001b[0m\u001b[0;34m]\u001b[0m\u001b[0;34m,\u001b[0m \u001b[0mpopt\u001b[0m\u001b[0;34m[\u001b[0m\u001b[0;36m1\u001b[0m\u001b[0;34m]\u001b[0m \u001b[0;34m+\u001b[0m \u001b[0msigma\u001b[0m\u001b[0;34m[\u001b[0m\u001b[0;36m1\u001b[0m\u001b[0;34m]\u001b[0m\u001b[0;34m,\u001b[0m \u001b[0mpopt\u001b[0m\u001b[0;34m[\u001b[0m\u001b[0;36m2\u001b[0m\u001b[0;34m]\u001b[0m \u001b[0;34m+\u001b[0m \u001b[0msigma\u001b[0m\u001b[0;34m[\u001b[0m\u001b[0;36m2\u001b[0m\u001b[0;34m]\u001b[0m\u001b[0;34m)\u001b[0m\u001b[0;34m,\u001b[0m\u001b[0;34m\u001b[0m\u001b[0m\n\u001b[0m\u001b[1;32m      4\u001b[0m     \u001b[0mfunc\u001b[0m\u001b[0;34m(\u001b[0m\u001b[0momega\u001b[0m\u001b[0;34m,\u001b[0m \u001b[0mpopt\u001b[0m\u001b[0;34m[\u001b[0m\u001b[0;36m0\u001b[0m\u001b[0;34m]\u001b[0m \u001b[0;34m+\u001b[0m \u001b[0msigma\u001b[0m\u001b[0;34m[\u001b[0m\u001b[0;36m0\u001b[0m\u001b[0;34m]\u001b[0m\u001b[0;34m,\u001b[0m \u001b[0mpopt\u001b[0m\u001b[0;34m[\u001b[0m\u001b[0;36m1\u001b[0m\u001b[0;34m]\u001b[0m \u001b[0;34m-\u001b[0m \u001b[0msigma\u001b[0m\u001b[0;34m[\u001b[0m\u001b[0;36m1\u001b[0m\u001b[0;34m]\u001b[0m\u001b[0;34m,\u001b[0m \u001b[0mpopt\u001b[0m\u001b[0;34m[\u001b[0m\u001b[0;36m2\u001b[0m\u001b[0;34m]\u001b[0m \u001b[0;34m+\u001b[0m \u001b[0msigma\u001b[0m\u001b[0;34m[\u001b[0m\u001b[0;36m2\u001b[0m\u001b[0;34m]\u001b[0m\u001b[0;34m)\u001b[0m\u001b[0;34m,\u001b[0m\u001b[0;34m\u001b[0m\u001b[0m\n\u001b[1;32m      5\u001b[0m     \u001b[0mfunc\u001b[0m\u001b[0;34m(\u001b[0m\u001b[0momega\u001b[0m\u001b[0;34m,\u001b[0m \u001b[0mpopt\u001b[0m\u001b[0;34m[\u001b[0m\u001b[0;36m0\u001b[0m\u001b[0;34m]\u001b[0m \u001b[0;34m+\u001b[0m \u001b[0msigma\u001b[0m\u001b[0;34m[\u001b[0m\u001b[0;36m0\u001b[0m\u001b[0;34m]\u001b[0m\u001b[0;34m,\u001b[0m \u001b[0mpopt\u001b[0m\u001b[0;34m[\u001b[0m\u001b[0;36m1\u001b[0m\u001b[0;34m]\u001b[0m \u001b[0;34m+\u001b[0m \u001b[0msigma\u001b[0m\u001b[0;34m[\u001b[0m\u001b[0;36m1\u001b[0m\u001b[0;34m]\u001b[0m\u001b[0;34m,\u001b[0m \u001b[0mpopt\u001b[0m\u001b[0;34m[\u001b[0m\u001b[0;36m2\u001b[0m\u001b[0;34m]\u001b[0m \u001b[0;34m-\u001b[0m \u001b[0msigma\u001b[0m\u001b[0;34m[\u001b[0m\u001b[0;36m2\u001b[0m\u001b[0;34m]\u001b[0m\u001b[0;34m)\u001b[0m\u001b[0;34m,\u001b[0m\u001b[0;34m\u001b[0m\u001b[0m\n",
      "\u001b[0;32m<ipython-input-39-5b2d01b477c4>\u001b[0m in \u001b[0;36mfunc\u001b[0;34m(x, a, b, c)\u001b[0m\n\u001b[1;32m      3\u001b[0m \u001b[0;34m\u001b[0m\u001b[0m\n\u001b[1;32m      4\u001b[0m     \u001b[0;32mfor\u001b[0m \u001b[0mi\u001b[0m\u001b[0;34m,\u001b[0m\u001b[0m_\u001b[0m \u001b[0;32min\u001b[0m \u001b[0menumerate\u001b[0m\u001b[0;34m(\u001b[0m\u001b[0mx\u001b[0m\u001b[0;34m)\u001b[0m\u001b[0;34m:\u001b[0m\u001b[0;34m\u001b[0m\u001b[0m\n\u001b[0;32m----> 5\u001b[0;31m         \u001b[0mresult\u001b[0m\u001b[0;34m[\u001b[0m\u001b[0mi\u001b[0m\u001b[0;34m]\u001b[0m \u001b[0;34m=\u001b[0m \u001b[0mintegrate\u001b[0m\u001b[0;34m.\u001b[0m\u001b[0mquad\u001b[0m\u001b[0;34m(\u001b[0m\u001b[0mFSI2\u001b[0m\u001b[0;34m,\u001b[0m\u001b[0;36m0\u001b[0m\u001b[0;34m,\u001b[0m\u001b[0;36m600\u001b[0m\u001b[0;34m,\u001b[0m\u001b[0margs\u001b[0m\u001b[0;34m=\u001b[0m\u001b[0;34m(\u001b[0m\u001b[0mx\u001b[0m\u001b[0;34m[\u001b[0m\u001b[0mi\u001b[0m\u001b[0;34m]\u001b[0m\u001b[0;34m,\u001b[0m\u001b[0ma\u001b[0m\u001b[0;34m,\u001b[0m\u001b[0mb\u001b[0m\u001b[0;34m,\u001b[0m\u001b[0mc\u001b[0m\u001b[0;34m,\u001b[0m\u001b[0;34m)\u001b[0m\u001b[0;34m)\u001b[0m\u001b[0;34m[\u001b[0m\u001b[0;36m0\u001b[0m\u001b[0;34m]\u001b[0m\u001b[0;34m\u001b[0m\u001b[0m\n\u001b[0m\u001b[1;32m      6\u001b[0m \u001b[0;34m\u001b[0m\u001b[0m\n\u001b[1;32m      7\u001b[0m     \u001b[0mprint\u001b[0m\u001b[0;34m(\u001b[0m\u001b[0mb\u001b[0m\u001b[0;34m,\u001b[0m\u001b[0mc\u001b[0m\u001b[0;34m)\u001b[0m\u001b[0;34m\u001b[0m\u001b[0m\n",
      "\u001b[0;32m~/Programs/anaconda3/lib/python3.6/site-packages/scipy/integrate/quadpack.py\u001b[0m in \u001b[0;36mquad\u001b[0;34m(func, a, b, args, full_output, epsabs, epsrel, limit, points, weight, wvar, wopts, maxp1, limlst)\u001b[0m\n\u001b[1;32m    339\u001b[0m     \u001b[0;32mif\u001b[0m \u001b[0mweight\u001b[0m \u001b[0;32mis\u001b[0m \u001b[0;32mNone\u001b[0m\u001b[0;34m:\u001b[0m\u001b[0;34m\u001b[0m\u001b[0m\n\u001b[1;32m    340\u001b[0m         retval = _quad(func, a, b, args, full_output, epsabs, epsrel, limit,\n\u001b[0;32m--> 341\u001b[0;31m                        points)\n\u001b[0m\u001b[1;32m    342\u001b[0m     \u001b[0;32melse\u001b[0m\u001b[0;34m:\u001b[0m\u001b[0;34m\u001b[0m\u001b[0m\n\u001b[1;32m    343\u001b[0m         retval = _quad_weight(func, a, b, args, full_output, epsabs, epsrel,\n",
      "\u001b[0;32m~/Programs/anaconda3/lib/python3.6/site-packages/scipy/integrate/quadpack.py\u001b[0m in \u001b[0;36m_quad\u001b[0;34m(func, a, b, args, full_output, epsabs, epsrel, limit, points)\u001b[0m\n\u001b[1;32m    446\u001b[0m     \u001b[0;32mif\u001b[0m \u001b[0mpoints\u001b[0m \u001b[0;32mis\u001b[0m \u001b[0;32mNone\u001b[0m\u001b[0;34m:\u001b[0m\u001b[0;34m\u001b[0m\u001b[0m\n\u001b[1;32m    447\u001b[0m         \u001b[0;32mif\u001b[0m \u001b[0minfbounds\u001b[0m \u001b[0;34m==\u001b[0m \u001b[0;36m0\u001b[0m\u001b[0;34m:\u001b[0m\u001b[0;34m\u001b[0m\u001b[0m\n\u001b[0;32m--> 448\u001b[0;31m             \u001b[0;32mreturn\u001b[0m \u001b[0m_quadpack\u001b[0m\u001b[0;34m.\u001b[0m\u001b[0m_qagse\u001b[0m\u001b[0;34m(\u001b[0m\u001b[0mfunc\u001b[0m\u001b[0;34m,\u001b[0m\u001b[0ma\u001b[0m\u001b[0;34m,\u001b[0m\u001b[0mb\u001b[0m\u001b[0;34m,\u001b[0m\u001b[0margs\u001b[0m\u001b[0;34m,\u001b[0m\u001b[0mfull_output\u001b[0m\u001b[0;34m,\u001b[0m\u001b[0mepsabs\u001b[0m\u001b[0;34m,\u001b[0m\u001b[0mepsrel\u001b[0m\u001b[0;34m,\u001b[0m\u001b[0mlimit\u001b[0m\u001b[0;34m)\u001b[0m\u001b[0;34m\u001b[0m\u001b[0m\n\u001b[0m\u001b[1;32m    449\u001b[0m         \u001b[0;32melse\u001b[0m\u001b[0;34m:\u001b[0m\u001b[0;34m\u001b[0m\u001b[0m\n\u001b[1;32m    450\u001b[0m             \u001b[0;32mreturn\u001b[0m \u001b[0m_quadpack\u001b[0m\u001b[0;34m.\u001b[0m\u001b[0m_qagie\u001b[0m\u001b[0;34m(\u001b[0m\u001b[0mfunc\u001b[0m\u001b[0;34m,\u001b[0m\u001b[0mbound\u001b[0m\u001b[0;34m,\u001b[0m\u001b[0minfbounds\u001b[0m\u001b[0;34m,\u001b[0m\u001b[0margs\u001b[0m\u001b[0;34m,\u001b[0m\u001b[0mfull_output\u001b[0m\u001b[0;34m,\u001b[0m\u001b[0mepsabs\u001b[0m\u001b[0;34m,\u001b[0m\u001b[0mepsrel\u001b[0m\u001b[0;34m,\u001b[0m\u001b[0mlimit\u001b[0m\u001b[0;34m)\u001b[0m\u001b[0;34m\u001b[0m\u001b[0m\n",
      "\u001b[0;32m<ipython-input-34-574c029a72d9>\u001b[0m in \u001b[0;36mFSI2\u001b[0;34m(omegap, omega, TA, W, V)\u001b[0m\n\u001b[1;32m      5\u001b[0m \u001b[0;34m\u001b[0m\u001b[0m\n\u001b[1;32m      6\u001b[0m     \u001b[0mf\u001b[0m \u001b[0;34m+=\u001b[0m \u001b[0;34m(\u001b[0m\u001b[0;36m1\u001b[0m\u001b[0;34m-\u001b[0m\u001b[0mnp\u001b[0m\u001b[0;34m.\u001b[0m\u001b[0msqrt\u001b[0m\u001b[0;34m(\u001b[0m\u001b[0mTA\u001b[0m\u001b[0;34m)\u001b[0m\u001b[0;34m)\u001b[0m\u001b[0;34m*\u001b[0m\u001b[0mW\u001b[0m\u001b[0;34m/\u001b[0m\u001b[0;34m(\u001b[0m\u001b[0mnp\u001b[0m\u001b[0;34m.\u001b[0m\u001b[0mpi\u001b[0m\u001b[0;34m*\u001b[0m\u001b[0;34m(\u001b[0m\u001b[0mW\u001b[0m\u001b[0;34m**\u001b[0m\u001b[0;36m2\u001b[0m\u001b[0;34m+\u001b[0m\u001b[0;34m(\u001b[0m\u001b[0momega\u001b[0m\u001b[0;34m-\u001b[0m\u001b[0momegap\u001b[0m\u001b[0;34m-\u001b[0m\u001b[0mV\u001b[0m\u001b[0;34m)\u001b[0m\u001b[0;34m**\u001b[0m\u001b[0;36m2\u001b[0m\u001b[0;34m)\u001b[0m\u001b[0;34m)\u001b[0m\u001b[0;34m\u001b[0m\u001b[0m\n\u001b[0;32m----> 7\u001b[0;31m     \u001b[0;32mreturn\u001b[0m \u001b[0mf\u001b[0m\u001b[0;34m*\u001b[0m\u001b[0mdsigmap\u001b[0m\u001b[0;34m(\u001b[0m\u001b[0momegap\u001b[0m\u001b[0;34m)\u001b[0m\u001b[0;34m\u001b[0m\u001b[0m\n\u001b[0m\u001b[1;32m      8\u001b[0m \u001b[0;34m\u001b[0m\u001b[0m\n\u001b[1;32m      9\u001b[0m \u001b[0mCalcIA\u001b[0m \u001b[0;34m=\u001b[0m \u001b[0mpd\u001b[0m\u001b[0;34m.\u001b[0m\u001b[0mread_csv\u001b[0m\u001b[0;34m(\u001b[0m\u001b[0;34m'../../C12_code/C12_730_37p1.out'\u001b[0m\u001b[0;34m,\u001b[0m\u001b[0msep\u001b[0m\u001b[0;34m=\u001b[0m\u001b[0;34m'\\s+'\u001b[0m\u001b[0;34m,\u001b[0m\u001b[0mnames\u001b[0m\u001b[0;34m=\u001b[0m\u001b[0;34m[\u001b[0m\u001b[0;34m'omega'\u001b[0m\u001b[0;34m,\u001b[0m\u001b[0;34m'sigma'\u001b[0m\u001b[0;34m,\u001b[0m\u001b[0;34m'error'\u001b[0m\u001b[0;34m]\u001b[0m\u001b[0;34m)\u001b[0m\u001b[0;34m\u001b[0m\u001b[0m\n",
      "\u001b[0;32m~/Programs/anaconda3/lib/python3.6/site-packages/scipy/interpolate/fitpack2.py\u001b[0m in \u001b[0;36m__call__\u001b[0;34m(self, x, nu, ext)\u001b[0m\n\u001b[1;32m    308\u001b[0m             \u001b[0;32mexcept\u001b[0m \u001b[0mKeyError\u001b[0m\u001b[0;34m:\u001b[0m\u001b[0;34m\u001b[0m\u001b[0m\n\u001b[1;32m    309\u001b[0m                 \u001b[0;32mraise\u001b[0m \u001b[0mValueError\u001b[0m\u001b[0;34m(\u001b[0m\u001b[0;34m\"Unknown extrapolation mode %s.\"\u001b[0m \u001b[0;34m%\u001b[0m \u001b[0mext\u001b[0m\u001b[0;34m)\u001b[0m\u001b[0;34m\u001b[0m\u001b[0m\n\u001b[0;32m--> 310\u001b[0;31m         \u001b[0;32mreturn\u001b[0m \u001b[0mfitpack\u001b[0m\u001b[0;34m.\u001b[0m\u001b[0msplev\u001b[0m\u001b[0;34m(\u001b[0m\u001b[0mx\u001b[0m\u001b[0;34m,\u001b[0m \u001b[0mself\u001b[0m\u001b[0;34m.\u001b[0m\u001b[0m_eval_args\u001b[0m\u001b[0;34m,\u001b[0m \u001b[0mder\u001b[0m\u001b[0;34m=\u001b[0m\u001b[0mnu\u001b[0m\u001b[0;34m,\u001b[0m \u001b[0mext\u001b[0m\u001b[0;34m=\u001b[0m\u001b[0mext\u001b[0m\u001b[0;34m)\u001b[0m\u001b[0;34m\u001b[0m\u001b[0m\n\u001b[0m\u001b[1;32m    311\u001b[0m \u001b[0;34m\u001b[0m\u001b[0m\n\u001b[1;32m    312\u001b[0m     \u001b[0;32mdef\u001b[0m \u001b[0mget_knots\u001b[0m\u001b[0;34m(\u001b[0m\u001b[0mself\u001b[0m\u001b[0;34m)\u001b[0m\u001b[0;34m:\u001b[0m\u001b[0;34m\u001b[0m\u001b[0m\n",
      "\u001b[0;32m~/Programs/anaconda3/lib/python3.6/site-packages/scipy/interpolate/fitpack.py\u001b[0m in \u001b[0;36msplev\u001b[0;34m(x, tck, der, ext)\u001b[0m\n\u001b[1;32m    366\u001b[0m         \u001b[0;32mreturn\u001b[0m \u001b[0mtck\u001b[0m\u001b[0;34m(\u001b[0m\u001b[0mx\u001b[0m\u001b[0;34m,\u001b[0m \u001b[0mder\u001b[0m\u001b[0;34m,\u001b[0m \u001b[0mextrapolate\u001b[0m\u001b[0;34m=\u001b[0m\u001b[0mextrapolate\u001b[0m\u001b[0;34m)\u001b[0m\u001b[0;34m\u001b[0m\u001b[0m\n\u001b[1;32m    367\u001b[0m     \u001b[0;32melse\u001b[0m\u001b[0;34m:\u001b[0m\u001b[0;34m\u001b[0m\u001b[0m\n\u001b[0;32m--> 368\u001b[0;31m         \u001b[0;32mreturn\u001b[0m \u001b[0m_impl\u001b[0m\u001b[0;34m.\u001b[0m\u001b[0msplev\u001b[0m\u001b[0;34m(\u001b[0m\u001b[0mx\u001b[0m\u001b[0;34m,\u001b[0m \u001b[0mtck\u001b[0m\u001b[0;34m,\u001b[0m \u001b[0mder\u001b[0m\u001b[0;34m,\u001b[0m \u001b[0mext\u001b[0m\u001b[0;34m)\u001b[0m\u001b[0;34m\u001b[0m\u001b[0m\n\u001b[0m\u001b[1;32m    369\u001b[0m \u001b[0;34m\u001b[0m\u001b[0m\n\u001b[1;32m    370\u001b[0m \u001b[0;34m\u001b[0m\u001b[0m\n",
      "\u001b[0;31mKeyboardInterrupt\u001b[0m: "
     ]
    }
   ],
   "source": [
    "sigma = np.sqrt([pcov[0,0],pcov[1,1],pcov[2,2]])\n",
    "values = np.array([\n",
    "    func(omega, popt[0] + sigma[0], popt[1] + sigma[1], popt[2] + sigma[2]), \n",
    "    func(omega, popt[0] + sigma[0], popt[1] - sigma[1], popt[2] + sigma[2]),   \n",
    "    func(omega, popt[0] + sigma[0], popt[1] + sigma[1], popt[2] - sigma[2]), \n",
    "    func(omega, popt[0] + sigma[0], popt[1] - sigma[1], popt[2] - sigma[2]), \n",
    "    func(omega, popt[0] - sigma[0], popt[1] + sigma[1], popt[2] + sigma[2]), \n",
    "    func(omega, popt[0] - sigma[0], popt[1] - sigma[1], popt[2] + sigma[2]),\n",
    "    func(omega, popt[0] - sigma[0], popt[1] + sigma[1], popt[2] - sigma[2]), \n",
    "    func(omega, popt[0] - sigma[0], popt[1] - sigma[1], popt[2] - sigma[2]) \n",
    "    ])\n",
    "fitError = np.std(values, axis=0)"
   ]
  },
  {
   "cell_type": "code",
   "execution_count": null,
   "metadata": {},
   "outputs": [],
   "source": [
    "curveFit = func(omega, popt[0], popt[1], popt[2])\n",
    "\n",
    "fig = plt.figure(figsize=(12,8))\n",
    "\n",
    "plt.errorbar(data_omega*1000, data_dsigma, yerr=data_error, fmt='.')\n",
    "plt.plot(omega, curveFit, lw=2.5, color='green', alpha=0.6)\n",
    "plt.plot(omega, curveFit + fitError, lw=1.0, alpha=0.5, color='red')\n",
    "plt.plot(omega, curveFit - fitError, lw=1.0, alpha=0.5, color='red')\n",
    "plt.plot(omega, curveFit + 3*fitError, lw=1.0, alpha=0.5, color='purple')\n",
    "plt.plot(omega, curveFit - 3*fitError, lw=1.0, alpha=0.5, color='purple')\n",
    "plt.xlim([40,200])\n",
    "plt.show()"
   ]
  },
  {
   "cell_type": "code",
   "execution_count": 73,
   "metadata": {},
   "outputs": [
    {
     "data": {
      "text/plain": [
       "1.0474999999999999"
      ]
     },
     "execution_count": 73,
     "metadata": {},
     "output_type": "execute_result"
    }
   ],
   "source": [
    "np.mean([1.043,1.052])"
   ]
  },
  {
   "cell_type": "code",
   "execution_count": 128,
   "metadata": {},
   "outputs": [
    {
     "data": {
      "text/plain": [
       "313.1909270272907"
      ]
     },
     "execution_count": 128,
     "metadata": {},
     "output_type": "execute_result"
    }
   ],
   "source": [
    "px"
   ]
  },
  {
   "cell_type": "code",
   "execution_count": 129,
   "metadata": {},
   "outputs": [
    {
     "data": {
      "text/plain": [
       "-235.60577521902874"
      ]
     },
     "execution_count": 129,
     "metadata": {},
     "output_type": "execute_result"
    }
   ],
   "source": [
    "py"
   ]
  },
  {
   "cell_type": "code",
   "execution_count": 130,
   "metadata": {},
   "outputs": [
    {
     "data": {
      "text/plain": [
       "310.4856871278076"
      ]
     },
     "execution_count": 130,
     "metadata": {},
     "output_type": "execute_result"
    }
   ],
   "source": [
    "pz"
   ]
  },
  {
   "cell_type": "code",
   "execution_count": 5,
   "metadata": {},
   "outputs": [],
   "source": [
    "def CylinderCheck(p1,p2,r,q):\n",
    "    vec = p2-p1\n",
    "    const = r*np.linalg.norm(vec)\n",
    "    return np.where(np.dot(q-p1,vec) >= 0 and np.dot(q-p2,vec) <= 0 \\\n",
    "                    and np.linalg.norm(np.cross(q-p1,vec)) <= const)"
   ]
  },
  {
   "cell_type": "code",
   "execution_count": 6,
   "metadata": {},
   "outputs": [
    {
     "ename": "ValueError",
     "evalue": "The truth value of an array with more than one element is ambiguous. Use a.any() or a.all()",
     "output_type": "error",
     "traceback": [
      "\u001b[0;31m---------------------------------------------------------------------------\u001b[0m",
      "\u001b[0;31mValueError\u001b[0m                                Traceback (most recent call last)",
      "\u001b[0;32m<ipython-input-6-a36741f469af>\u001b[0m in \u001b[0;36m<module>\u001b[0;34m()\u001b[0m\n\u001b[1;32m      2\u001b[0m \u001b[0mp2\u001b[0m \u001b[0;34m=\u001b[0m \u001b[0mnp\u001b[0m\u001b[0;34m.\u001b[0m\u001b[0marray\u001b[0m\u001b[0;34m(\u001b[0m\u001b[0;34m[\u001b[0m\u001b[0;36m10\u001b[0m\u001b[0;34m,\u001b[0m\u001b[0;36m0\u001b[0m\u001b[0;34m,\u001b[0m\u001b[0;36m0\u001b[0m\u001b[0;34m]\u001b[0m\u001b[0;34m)\u001b[0m\u001b[0;34m\u001b[0m\u001b[0m\n\u001b[1;32m      3\u001b[0m \u001b[0mq\u001b[0m \u001b[0;34m=\u001b[0m \u001b[0mnp\u001b[0m\u001b[0;34m.\u001b[0m\u001b[0marray\u001b[0m\u001b[0;34m(\u001b[0m\u001b[0;34m[\u001b[0m\u001b[0;34m[\u001b[0m\u001b[0;36m1\u001b[0m\u001b[0;34m,\u001b[0m\u001b[0;36m0\u001b[0m\u001b[0;34m,\u001b[0m\u001b[0;36m0\u001b[0m\u001b[0;34m]\u001b[0m\u001b[0;34m,\u001b[0m\u001b[0;34m[\u001b[0m\u001b[0;36m2\u001b[0m\u001b[0;34m,\u001b[0m\u001b[0;36m0\u001b[0m\u001b[0;34m,\u001b[0m\u001b[0;36m0\u001b[0m\u001b[0;34m]\u001b[0m\u001b[0;34m,\u001b[0m\u001b[0;34m[\u001b[0m\u001b[0;36m2\u001b[0m\u001b[0;34m,\u001b[0m\u001b[0;36m4\u001b[0m\u001b[0;34m,\u001b[0m\u001b[0;36m0\u001b[0m\u001b[0;34m]\u001b[0m\u001b[0;34m,\u001b[0m\u001b[0;34m[\u001b[0m\u001b[0;36m2\u001b[0m\u001b[0;34m,\u001b[0m\u001b[0;36m5\u001b[0m\u001b[0;34m,\u001b[0m\u001b[0;36m0\u001b[0m\u001b[0;34m]\u001b[0m\u001b[0;34m,\u001b[0m\u001b[0;34m[\u001b[0m\u001b[0;36m5\u001b[0m\u001b[0;34m,\u001b[0m\u001b[0;36m0\u001b[0m\u001b[0;34m,\u001b[0m\u001b[0;36m0\u001b[0m\u001b[0;34m]\u001b[0m\u001b[0;34m,\u001b[0m\u001b[0;34m[\u001b[0m\u001b[0;36m11\u001b[0m\u001b[0;34m,\u001b[0m\u001b[0;36m0\u001b[0m\u001b[0;34m,\u001b[0m\u001b[0;36m0\u001b[0m\u001b[0;34m]\u001b[0m\u001b[0;34m]\u001b[0m\u001b[0;34m)\u001b[0m\u001b[0;34m\u001b[0m\u001b[0m\n\u001b[0;32m----> 4\u001b[0;31m \u001b[0mprint\u001b[0m\u001b[0;34m(\u001b[0m\u001b[0mCylinderCheck\u001b[0m\u001b[0;34m(\u001b[0m\u001b[0mp1\u001b[0m\u001b[0;34m,\u001b[0m\u001b[0mp2\u001b[0m\u001b[0;34m,\u001b[0m\u001b[0;36m4\u001b[0m\u001b[0;34m,\u001b[0m\u001b[0mnp\u001b[0m\u001b[0;34m.\u001b[0m\u001b[0marray\u001b[0m\u001b[0;34m(\u001b[0m\u001b[0;34m[\u001b[0m\u001b[0;34m[\u001b[0m\u001b[0;36m2\u001b[0m\u001b[0;34m,\u001b[0m\u001b[0;36m0\u001b[0m\u001b[0;34m,\u001b[0m\u001b[0;36m0\u001b[0m\u001b[0;34m]\u001b[0m\u001b[0;34m,\u001b[0m\u001b[0;34m[\u001b[0m\u001b[0;36m3\u001b[0m\u001b[0;34m,\u001b[0m\u001b[0;36m0\u001b[0m\u001b[0;34m,\u001b[0m\u001b[0;36m0\u001b[0m\u001b[0;34m]\u001b[0m\u001b[0;34m]\u001b[0m\u001b[0;34m)\u001b[0m\u001b[0;34m)\u001b[0m\u001b[0;34m)\u001b[0m\u001b[0;34m\u001b[0m\u001b[0m\n\u001b[0m",
      "\u001b[0;32m<ipython-input-5-3bf43c0945ce>\u001b[0m in \u001b[0;36mCylinderCheck\u001b[0;34m(p1, p2, r, q)\u001b[0m\n\u001b[1;32m      2\u001b[0m     \u001b[0mvec\u001b[0m \u001b[0;34m=\u001b[0m \u001b[0mp2\u001b[0m\u001b[0;34m-\u001b[0m\u001b[0mp1\u001b[0m\u001b[0;34m\u001b[0m\u001b[0m\n\u001b[1;32m      3\u001b[0m     \u001b[0mconst\u001b[0m \u001b[0;34m=\u001b[0m \u001b[0mr\u001b[0m\u001b[0;34m*\u001b[0m\u001b[0mnp\u001b[0m\u001b[0;34m.\u001b[0m\u001b[0mlinalg\u001b[0m\u001b[0;34m.\u001b[0m\u001b[0mnorm\u001b[0m\u001b[0;34m(\u001b[0m\u001b[0mvec\u001b[0m\u001b[0;34m)\u001b[0m\u001b[0;34m\u001b[0m\u001b[0m\n\u001b[0;32m----> 4\u001b[0;31m     \u001b[0;32mreturn\u001b[0m \u001b[0mnp\u001b[0m\u001b[0;34m.\u001b[0m\u001b[0mwhere\u001b[0m\u001b[0;34m(\u001b[0m\u001b[0mnp\u001b[0m\u001b[0;34m.\u001b[0m\u001b[0mdot\u001b[0m\u001b[0;34m(\u001b[0m\u001b[0mq\u001b[0m\u001b[0;34m-\u001b[0m\u001b[0mp1\u001b[0m\u001b[0;34m,\u001b[0m\u001b[0mvec\u001b[0m\u001b[0;34m)\u001b[0m \u001b[0;34m>=\u001b[0m \u001b[0;36m0\u001b[0m \u001b[0;32mand\u001b[0m \u001b[0mnp\u001b[0m\u001b[0;34m.\u001b[0m\u001b[0mdot\u001b[0m\u001b[0;34m(\u001b[0m\u001b[0mq\u001b[0m\u001b[0;34m-\u001b[0m\u001b[0mp2\u001b[0m\u001b[0;34m,\u001b[0m\u001b[0mvec\u001b[0m\u001b[0;34m)\u001b[0m \u001b[0;34m<=\u001b[0m \u001b[0;36m0\u001b[0m                     \u001b[0;32mand\u001b[0m \u001b[0mnp\u001b[0m\u001b[0;34m.\u001b[0m\u001b[0mlinalg\u001b[0m\u001b[0;34m.\u001b[0m\u001b[0mnorm\u001b[0m\u001b[0;34m(\u001b[0m\u001b[0mnp\u001b[0m\u001b[0;34m.\u001b[0m\u001b[0mcross\u001b[0m\u001b[0;34m(\u001b[0m\u001b[0mq\u001b[0m\u001b[0;34m-\u001b[0m\u001b[0mp1\u001b[0m\u001b[0;34m,\u001b[0m\u001b[0mvec\u001b[0m\u001b[0;34m)\u001b[0m\u001b[0;34m)\u001b[0m \u001b[0;34m<=\u001b[0m \u001b[0mconst\u001b[0m\u001b[0;34m)\u001b[0m\u001b[0;34m\u001b[0m\u001b[0m\n\u001b[0m",
      "\u001b[0;31mValueError\u001b[0m: The truth value of an array with more than one element is ambiguous. Use a.any() or a.all()"
     ]
    }
   ],
   "source": [
    "p1 = np.array([0,0,0])\n",
    "p2 = np.array([10,0,0])\n",
    "q = np.array([[1,0,0],[2,0,0],[2,4,0],[2,5,0],[5,0,0],[11,0,0]])\n",
    "print(CylinderCheck(p1,p2,4,np.array([[2,0,0],[3,0,0]])))"
   ]
  },
  {
   "cell_type": "code",
   "execution_count": 8,
   "metadata": {},
   "outputs": [],
   "source": [
    "from sympy.physics.quantum.cg import CG\n",
    "from sympy import S"
   ]
  },
  {
   "cell_type": "code",
   "execution_count": 14,
   "metadata": {},
   "outputs": [
    {
     "data": {
      "text/plain": [
       "sqrt(3)/2"
      ]
     },
     "execution_count": 14,
     "metadata": {},
     "output_type": "execute_result"
    }
   ],
   "source": [
    "CG(S(3)/2,S(3)/2,S(1)/2,-S(1)/2,1,1).doit()"
   ]
  },
  {
   "cell_type": "code",
   "execution_count": null,
   "metadata": {},
   "outputs": [],
   "source": []
  }
 ],
 "metadata": {
  "kernelspec": {
   "display_name": "Python 3",
   "language": "python",
   "name": "python3"
  },
  "language_info": {
   "codemirror_mode": {
    "name": "ipython",
    "version": 3
   },
   "file_extension": ".py",
   "mimetype": "text/x-python",
   "name": "python",
   "nbconvert_exporter": "python",
   "pygments_lexer": "ipython3",
   "version": "3.6.5"
  }
 },
 "nbformat": 4,
 "nbformat_minor": 2
}
