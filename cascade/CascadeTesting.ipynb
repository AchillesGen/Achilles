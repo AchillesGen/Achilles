{
 "cells": [
  {
   "cell_type": "markdown",
   "metadata": {},
   "source": [
    "# Final State Interaction Via Cascade\n",
    "\n",
    "## Nuwro Algorithm\n",
    "1. Take nucleons and pions created in primary vertex\n",
    "2. Move each particle by the distance of its formation zone???\n",
    "3. Put all of them into a queue\n",
    "4. Take a particle from the queue and calculate its mean free path\n",
    "5. From an exponential distribution, obtain its actual free path\n",
    "6. Propagate the particle by the distance of its actual free path, but less than some upper threshold\n",
    "7. Check if it is still in the nucleus\n",
    "    1. If outside, then particle leaves nucleus\n",
    "    2. If inside, then was the actual free path greater than the threshold\n",
    "        1. If yes, add the particle back into the queue\n",
    "        2. If no, generate the interaction\n",
    "            1. Check for Pauli blocking for any in the interaction\n",
    "            2. If no blocking, then add the particles back into the queue\n",
    "            3. If blocking, veto interaction, and return to previous state"
   ]
  },
  {
   "cell_type": "markdown",
   "metadata": {},
   "source": [
    "## Josh's Questions\n",
    "1. Do we need to worry about decays of any of the particles in the cascades?\n",
    "2. What particles should we consider as possible particles in the cascade? Do we need higher resonance Delta's or Rho's for example?\n",
    "3. When preforming the cascade, how should we treat the fact that we are moving through a nuclear potential? Should we use something like a Woods-Saxon Potential?"
   ]
  },
  {
   "cell_type": "code",
   "execution_count": 44,
   "metadata": {},
   "outputs": [],
   "source": [
    "import queue\n",
    "import numpy as np\n",
    "import pandas as pd\n",
    "\n",
    "from scipy.stats import uniform\n",
    "from scipy import interpolate, optimize\n",
    "from scipy.signal import savgol_filter\n",
    "\n",
    "from nuChic.FourVector import Vec4\n",
    "from nuChic.ThreeVector import Vec3\n",
    "from nuChic.Particle import Particle\n",
    "from nuChic.Nucleus import Nucleus\n",
    "from nuChic.Constants import hbarc"
   ]
  },
  {
   "cell_type": "code",
   "execution_count": 4,
   "metadata": {},
   "outputs": [],
   "source": [
    "# Import Geant Data Objects\n",
    "import GeantPPData\n",
    "import GeantNPData\n",
    "\n",
    "PPData = GeantPPData.G4LEpp()\n",
    "NPData = GeantNPData.G4LEnp()"
   ]
  },
  {
   "cell_type": "code",
   "execution_count": 113,
   "metadata": {},
   "outputs": [],
   "source": [
    "%matplotlib inline\n",
    "import matplotlib.pyplot as plt"
   ]
  },
  {
   "cell_type": "code",
   "execution_count": 114,
   "metadata": {},
   "outputs": [
    {
     "data": {
      "image/png": "[encoded data removed]",
      "text/plain": [
       "<Figure size 432x288 with 1 Axes>"
      ]
     },
     "metadata": {
      "needs_background": "light"
     },
     "output_type": "display_data"
    }
   ],
   "source": [
    "angle = np.linspace(0.5,179.5,180)\n",
    "E1 = NPData.sig[-1]\n",
    "InverseCDF = interpolate.interp1d(E1, angle)\n",
    "samples = (E1[-1]-E1[0])*np.random.random(100000)+E1[0]\n",
    "angles = InverseCDF(samples)\n",
    "plt.hist(angles,bins=90,weights=1.0/100000*np.ones_like(angles))\n",
    "plt.show()"
   ]
  },
  {
   "cell_type": "code",
   "execution_count": 192,
   "metadata": {},
   "outputs": [],
   "source": [
    "sig = NPData.sig\n",
    "elab = NPData.elab\n",
    "ecm = NPData.pcm\n",
    "angle = np.linspace(0.5,179.5,180)\n",
    "\n",
    "sigInterp = interpolate.interp2d(angle,ecm,sig,kind='cubic')\n",
    "\n",
    "def InverseCDF(energy,y):\n",
    "    interp = lambda x: sigInterp(x,energy) - y\n",
    "    try:\n",
    "        return optimize.brentq(interp,0.5,179.5)\n",
    "    except ValueError:\n",
    "        return 0\n",
    "\n",
    "InverseCDFVec = np.vectorize(InverseCDF)\n",
    "\n",
    "samplesE = (ecm[-1]-ecm[0])*np.random.random(10000)+ecm[0]\n",
    "samplesSig = np.random.random(10000)\n",
    "\n",
    "angles = InverseCDFVec(samplesE,samplesSig)"
   ]
  },
  {
   "cell_type": "code",
   "execution_count": 193,
   "metadata": {
    "scrolled": true
   },
   "outputs": [
    {
     "data": {
      "image/png": "[encoded data removed]",
      "text/plain": [
       "<Figure size 432x288 with 1 Axes>"
      ]
     },
     "metadata": {
      "needs_background": "light"
     },
     "output_type": "display_data"
    }
   ],
   "source": [
    "plt.hist2d(samplesE,angles,bins=[20,90])\n",
    "plt.show()"
   ]
  },
  {
   "cell_type": "code",
   "execution_count": 194,
   "metadata": {},
   "outputs": [
    {
     "data": {
      "text/html": [
       "<video width=\"432\" height=\"288\" controls autoplay>\n",
       "  <source type=\"video/mp4\" src=\"data:video/mp4;base64,AAAAHGZ0eXBNNFYgAAACAGlzb21pc28yYXZjMQAAAAhmcmVlAACY9W1kYXQAAAKtBgX//6ncRem9\n",
       "5tlIt5Ys2CDZI+7veDI2NCAtIGNvcmUgMTUyIHIyODU0IGU5YTU5MDMgLSBILjI2NC9NUEVHLTQg\n",
       "QVZDIGNvZGVjIC0gQ29weWxlZnQgMjAwMy0yMDE3IC0gaHR0cDovL3d3dy52aWRlb2xhbi5vcmcv\n",
       "eDI2NC5odG1sIC0gb3B0aW9uczogY2FiYWM9MSByZWY9MyBkZWJsb2NrPTE6MDowIGFuYWx5c2U9\n",
       "MHgzOjB4MTEzIG1lPWhleCBzdWJtZT03IHBzeT0xIHBzeV9yZD0xLjAwOjAuMDAgbWl4ZWRfcmVm\n",
       "PTEgbWVfcmFuZ2U9MTYgY2hyb21hX21lPTEgdHJlbGxpcz0xIDh4OGRjdD0xIGNxbT0wIGRlYWR6\n",
       "b25lPTIxLDExIGZhc3RfcHNraXA9MSBjaHJvbWFfcXBfb2Zmc2V0PS0yIHRocmVhZHM9OSBsb29r\n",
       "YWhlYWRfdGhyZWFkcz0xIHNsaWNlZF90aHJlYWRzPTAgbnI9MCBkZWNpbWF0ZT0xIGludGVybGFj\n",
       "ZWQ9MCBibHVyYXlfY29tcGF0PTAgY29uc3RyYWluZWRfaW50cmE9MCBiZnJhbWVzPTMgYl9weXJh\n",
       "bWlkPTIgYl9hZGFwdD0xIGJfYmlhcz0wIGRpcmVjdD0xIHdlaWdodGI9MSBvcGVuX2dvcD0wIHdl\n",
       "aWdodHA9MiBrZXlpbnQ9MjUwIGtleWludF9taW49MSBzY2VuZWN1dD00MCBpbnRyYV9yZWZyZXNo\n",
       "PTAgcmNfbG9va2FoZWFkPTQwIHJjPWNyZiBtYnRyZWU9MSBjcmY9MjMuMCBxY29tcD0wLjYwIHFw\n",
       "bWluPTAgcXBtYXg9NjkgcXBzdGVwPTQgaXBfcmF0aW89MS40MCBhcT0xOjEuMDAAgAAAIiRliIQA\n",
       "F//+99S3zLLtU2+2C6j3op4mX0N1JQGblsTtOoAAAAMABoGP/xGojiAoIrF18xoHlJrs68P0llqS\n",
       "k9pJgGLklH69GPOrMKnM9TcEPpMy2724a+qSgIUBye4/LP9B4LFBljtUltQEGoQqKf9Vb7GMSR4j\n",
       "Xxs7Vv9tNhJfE+z/U5c1a+L+VyHEXmfV7HtLoAf97ASrbwiswiJI3eOOGxBJn1jHdQbBg3WsYAOi\n",
       "XCEDowcpetP91WXutndkEXqFbSBFvqcIIJ8lFnc0j6uNdna0eUWt3i2grcR2f2ucUGP1/6e4l/KD\n",
       "A2bpZ4peanDYCeygDKllVviy57wTIcqpXrDE5Cr52S+FnwHZCzLIO68iX07UTdoP59ywSoSJJGSj\n",
       "cHcPG8zYpdz9uXNFy60X7r1Fxq7/ZoF9wGe34ro2JxrKb/ikm7sOX4YLYC5xEAbckhTkpzxMB5Oe\n",
       "WXL+4OckPiJDfGaPSwYcvNelc/Qu5EMMeShcNuW9S2C8VJVy4Rgw/LW29hypMqxzueqWfgnp4ral\n",
       "HeLEbzp1gyA6SlErm7dvBxjvSLAvfjLqj+aH+8PqNvPVrM2KwMDbaZ1GvdDcd3YQj7U5ANzfszxe\n",
       "zlSz679YftNnTtmDbOoW0SVFLrDTaVwsi4Cn/JSb8m95RyuOHVfhIGULfxbSZJE4ezPufZL4YOG6\n",
       "sBy56PS3s/ta2KPI3TKRy4HLrnTmPDdP9GGXHy/CKs0Ua+p8vkGaUNTYf/S9A0UpXkeasjokxpBs\n",
       "w+2l/QM2bahLt79v06uxNoRv4nc7Ri4DPlBZx4h6QQlOuo4L2IQ5qEx1LjxcmtFvAAz6UFzrEBlE\n",
       "ydyDxmdszrGsb0P2z+KCotytQnmoojB78p/DJ4jVSndBzfDDFqbaX029wAogh0z/NDfPpM575JLV\n",
       "5SKCNXrxP+AfmdnzPqDrIhvKpRCXD5h4uBbcNjNdkYopmLeadbQTl8nF7sPE4aHrA9JDaUmH975q\n",
       "EB/jk6tAl4/XtxH53T3JsRqkiclpR8SBDybIPMfpOCAFfXxYaKnbhazQn4h/lgXxDn+L+UJUmqbk\n",
       "gsb5kStSZRv9D8xtepNqqLni5I9mQm2zh0auJ0e2OsaiyEPRSeDyuEyg1IDsuGr3tPiFohAiOWGn\n",
       "qU7+7XfSj8X7xamwCvIxbJnPQ8ZAj09PRxV5Ac0kxRXqfn+qcSlZ3GWm/mPBdc+OLOvQJJF+R2qj\n",
       "gpiQ4rIjffH9zdztpRIhVkcjPDyzgfRAiwSUjqNC9zyifnwfNr8UQsaXQlq7Z1Wge33s1PsnMGJs\n",
       "FPIebMHJ9nCQEtkc1JjEwriOECZ54NOsYToUnydPHRFP+0SLCbuGiY1eu/J8cNb+34htaOsdPqUS\n",
       "3UoIDHB5JK5wdiM8HpyI15BSznBSPXws0I3Z17ObJD+5m/wCEeDQx0rEdqMs2hDM7q0UIHV9ArX7\n",
       "618Xs2aei/fnoZsFH9e/8jcpbvb91ccxSfZT7SX8Ef4Ri7n8R4TvJY9NvfUUt5E9rYs7IJzA75Q2\n",
       "UfM7Ex3xM2YxQzlu35mqDJ4Et5n1trRyuGg0qz3/stcRetvTahdj2l9Gyppccx5UsKFkO4IK/pr3\n",
       "guZt1hyXweG0WRm3h3qcTkjLsgUNdq3C8ucrlfFckh2iZnMZT40C9l7RqUDtl+ync7de6USIDQGh\n",
       "hgH73p0ykLdaZtqV4K3Dnh7Xxmi9fjxJSyQOyYd3bDb5HhD36QfSaaGHM0Tji4TyhjTTEM+y+uBJ\n",
       "tGjO+CvYhA1xFkOWeZWs5IVPgIyE0INwgdKaC8T5C+UtLzcssFSkZPJW53CSU5APCrclRGug954K\n",
       "Ld6znvR3M7AAAVTnbMtZgRlwl/vFDcoa/1Se3LYGwMre5FoS4BSwtSgYf8Husz13v0w3GvSMnnID\n",
       "zslLJcApprAdtczbUZbfyyueg2V4J4ISpl5qu0ngrBkFzYaPZz87hVID55OaLAxpT6hsUrPPJFnc\n",
       "bpJvgyRvtsVBwXcUxAJAYYn76/edUNQ/ntoo83K8qJ5fhi8JtYeaH2fkW+y5KHPOnDqbTMyTwEjf\n",
       "g7ZOYIGkbOHgNp1vRj7XA7Z+bWTBeFZb7pYhFmaG/2Cm7TvNqER/j1Svwk7BrgZDbQ7V3gkfSyhR\n",
       "Az7E4MjBcJzSFpI4E+S4T/1TwR3eOnFJ2yA/jWC9mNhIMWG37Per62oolzi3uELx8BF2/rJU8rnN\n",
       "z4qhQew2EDMk3PAaYKcIfKllT3CGImJdKXbusjQcSpKwTGdt6mj12A9iUMj4hBWhlduN4S+nbKh1\n",
       "SbscJX/xLcJ1daPf57xB0XEEKK4kNDmVUPqOYygVloCgV/WbFhevuw9rYnB9CDGr3Le8JA5nYHUv\n",
       "ml60xWJ10r8POtGWA5/NMK+LgCKzngmPV497RQjy7sKeSnVKmG+VQMatMzomsqpjftAM2Aft4Cxd\n",
       "rXucl1PDjdBdWCcwgpTGZPbAGi5lMJKUEt5lieLG/yGPeP5zxM+BoM2I4SeArQ7xs+LurqMvPQbN\n",
       "VM+4uIXAM11o1n207x09edj/rPcCn5YvH+xu8VyZCnRI+gXtFmGaOY/OIJFUCXkwBKCwIjnuZOkA\n",
       "udOXjxSfvw9vmL0/OWN4Y4tH3oljueqAwn8wPB7y8NCIfAjB9ue+dZP4T54jtcgHuDRBkanXxyzc\n",
       "Cop92lDsuJ0bJ1HWHvW3KzwydJ5+0cDfO9lVvAAAAwC98JgNTCCct6n+15HK0KJEvBiVNhchrDzg\n",
       "AKu2SjS4ezupblMQvcCLbAVyGRLeAGVT9k9zRAi57F/eQV9RqfadSOInTiL+xB24zCJY4ItJ4CZR\n",
       "/uHdWOpDy17ooccOcTSknKKCPqMedMu51Cco6zbZe3/BAE70+2MoEC4lx+Bl7hWeQNdwySw5zhY/\n",
       "6qwtGiIDJMyJHbwkD0TapAIkiAMhbL9DI30Pz2t7fE3qPX6qG12nxTzjqSa7cPtgwhD7oDGf8qTo\n",
       "DpOeiIs2vacar/pqBf92kjRDuqOKbSfAiYcPydTjZGZOld3P2kSDNydRIpcKMMIVMG4Basxd4o3o\n",
       "8h4XQNIMcuMEQ+bUSZYQbmhJ861VbjI/Zzm3/2UhVN9oXk/loQuZDMgHjEOtOMqEupX2eBQbfzF+\n",
       "Eg1X0tHl5V8MCGUGs/8pKq07ylaVd57OX0djpfD6V0w8aZEVvf9MeWheVhaPXJeoBU5m9bp8sWxE\n",
       "ulZ1Aq6cfW6y1nr6rGHI4VHoywmwlyCUVgtdVFxjP5WspohhEDSBHb/04arCcEEXOocuY9v4c1+C\n",
       "MXhpdaiVmLejOQvfwy2ycZLJpfocEvzpV3yGY6QdZ3QBPpfIecSCPNhLAqbYJ6AkaEkdvDsrbswQ\n",
       "dyQ6hI9y+v2zloupKTcAJzr5ELF2O3pwWfJg2FOqr4usnmRIvpdjyFGJ6J5hS+722EzmsM76vCXp\n",
       "0OqbmtUFmTtFUEB1AaEY3hlDFEiCPmJvsa2XPViGXLb/hxAY5AnHwg5o41JDHOmeXX34fBQ/L9gG\n",
       "p+GTS7/vy/at7l3k+erIc1aTGM08MOAuDaM1OtET6k2qY+eHtxmdSBcJqFUxS0XqXf6v7sKEZS5K\n",
       "q0fxhyk9en8MVfIZaRhHV1wAje3qL7/vB2wq+ur0m5uuSMdc7NFWFS0xeAsYRtdfGxPhdMm7YKQO\n",
       "Zz2LSUEt81rsdf85iDoRt3CwbNBQAbJzMDvbu7l0x9Hu6iP7yhAOJnebrDoO8Zo9UX8yr2MaHZBU\n",
       "Ck40a5kYn2VQYMYneiqvlBwAjCWLxKAA2nrq04l1KSajS9Ll+ssTWSZvkZNegDj+79ye9J7E7Nkn\n",
       "owfFrHi8Ip3iV1k73Y5iilJDnURXboDdf7dTEGu+d6ordUvmkY4urVT7aLHKd5QJY//T9EWQfXUs\n",
       "W7kIhTcceA0UXA9B9NNLKD/4aUabiQ7odPCh4Xl3vnr89PTzvs4Uwoq9xnNjr5wAhgstluYKFHb6\n",
       "MC3qU2TmNODMwntSXEQMwy8M/65HKqRAV9xK6bW8H8wbO7eMTf/mho9TeJcq1PyPuS43aduE2uDd\n",
       "rfn1WMnTWO/+Jlnf2f92CpGL6oZJc0OOJhVDZYTvLBBM4XnnIs2kWtoLCu/IarAr7qvuIVqBStAd\n",
       "1sX/zFpelw6OAJsP+ZBXm+R93pHxmjPxk+CuvpOOLrWddV13FrAKMgvPxd8G/1LJ4RjfGG55xJvx\n",
       "8yWfRei8Rl3Am99DBiBUhu7J1MspIvwqELII8xMYlYB0fGhSBTaPqDnVKsp0qGL0eysjOQJQ4LdK\n",
       "sbR9LH+0KULpWVl9pVFlmKVTXKpjNxiF1omAbsXTkkU1MK02CNNWcJQ3a1U5WLyYVilpISxBP4Vx\n",
       "A8pyePclwKfi0ePgMYwmGnNTSSc/lNDXvMihAxT/2aDJtSG98oDo5ByROoHq/DeUx11TSwjl7srF\n",
       "CPUh6RqndyBdrqd/nwrmi5NIgY3PgwvlUoxPpNm5YvMbGHakFHQRixZG1Pupg/V5Ek/RjW1+RYjy\n",
       "UB4A0gfb43XmCIv/JfV4SnMw6uPg8VDgGElMpeM1nJtAW0YuIc6CkKkD8tvtvZWO379vqepskUqQ\n",
       "uCoosl4IG3ocgaRuZ++3NpQs3yeC7VlWtV4m99DBiBQBu7J1MwOxxWHUzZX/0nUBWVHMtU0Cqt9F\n",
       "t8b2Af/OKc5bJqNOf6UrNiEZ7sgWK6gLzDQonaZQXFd4vYzE7pbpWVyKpFPTG+HP1H/ZCkBzXHdg\n",
       "eN1XwB9hbfG+2AVvHwF6g63jvmGqTsmUdfvxEigFM4FBr1Uqs6VzOd0YQvQm7tdqRE9IcZ3nqbrl\n",
       "N6zdrzyNyE3+qst5CQ+Jsz6V9ww7FmilVCATwAVZwmCmEsQZFXm9DyemnqSha1yoTOj7hm5BtdIL\n",
       "jocS/YWjNehlC9YaLPVNBpsATlqXMOAPa2ljQAmOS8kSONXXM1AleH3j8cvBTlXbq4doxgqK+djs\n",
       "jxjJhuM6bijvijU+jBj0ygMHslT3O0qA53EoQnpomHqRPMHXfxZjrKzrvPo81ffWdOzJJAOJ7gJ6\n",
       "kwzZhjf43/opJryhejn1AAJNdJt4HPSkyfck9rrQYQJburOi7R60R6bGG/IRtarfoiNVQWhNurQa\n",
       "ZWHjEeybVgZkGFiHRp5yHNECkWI6RCsGBwuKI3XQQSVfcfqY3Jgo4HIG3OarZDEGoeyKUvbwRfBW\n",
       "cjCPgl60p8FGBTjudX9qHkwO9t0AEwho7D6G/3Vx78/GgpJ7DAU5ZFpK1xqZvnh8vb66aqihrpqK\n",
       "syHvXVYopSXXL2WOzavEh5TNRLSU1fCv7Mp/mX6Hkmo3xBq/8VC/F8DWieH02MzFtqDqN3lcCATq\n",
       "WpT8VfFAZOBgM/DmlHNhsVtvLttX3XTWnccyqpDDlbJ6LJsMZz1qjQET/+uq8S1Qvk6JAfDndrnT\n",
       "A/wnulHF0TojjsZejI6fPHEQYh7ALLwz/ZOuZMU/BMm18Mx5AEu4CcZ6CkTlaqWlFBp3Kvm9/hLk\n",
       "86oHybYzsl3LCzEwZfLrsKDekEJAnaxnxpjSYOe8z39s6qPg3H943kSTZNKUWlJ1rxXB2LRYbylo\n",
       "NkhKmhKi6CbLBwEErire6Ds+Y5rvvZi4l99gOgu5MNt5YhNsrFh38KXHEb4S3dSiutSLcvEKsx9F\n",
       "7MTwJA9e5g3fHPUDGDdX44CBDMRdG9w0cUSPwVY2ZiD+eW6yvwENx91CuT0tp0veMEdZOBMco30Q\n",
       "M7tghdKzQltH2QHIA4G3E45U3Ee5BoqJwl7FMth7f+6bAeYcKvTf7FBusHhDC9ESx6i9Y7kvRAK2\n",
       "wVrjH4z+iBiRlnZF3Vpu7vQ1dT6eWcB9y1FoSIcMFtCaS+J/ap6OLHG8a2LGJMHMLqtnQcszRK/j\n",
       "fqeiR1FI4+w220CXEQl5eX9fhEtKE6uht1/OJ2Wb+wvqH1fYJ75xpc+ZTF6kvaVc1iSnuoGa1Hzq\n",
       "JcDPecEQJZ6+qC9sZOyLrnrH0TxoJaadtVwTzaVF1CNCT5T87u97kMy27Co1mwN2G4pz4hEUqpEY\n",
       "UFhoy2LhoUz2nySzCUInxYOFuKRiVLnpXXE/E3YKNGvPB/1L0O8rsnxhDINvmc3SnU+2rTxXBNYt\n",
       "s9aJw39K6vmYryV4GFHtgkS0/7zVFWZu0cy/vn/heYNnyF/ZwonPRQD9o2/V4mhJxbuilUSq9bw9\n",
       "BqN4VMkgetv7uVhCVzmHUXGDqTJV1+Z61qvNSgIC/4/uolrJo6/JZHAoM3RU8h/2gLwcLvlSRhoB\n",
       "cRxGfOYv3f0MNICwNqGfERqf/veSiicl3AmaA+6N39kkxutNlp6D9Bs5OMXytozL+vvZVOFA9x7H\n",
       "akyO8+mMigWRziK3qhmnypIm3uNhsJWPDia/w4AwH8mnaUVenW0qoom4CXBtLKI/OYA/bzy1q4fx\n",
       "LoDcvYgZwNMJa6AIkInkSOOlZdX6WDYPwcjb6mSrTAXfHlqfXge40EH+6zq8RoBgsOzC4JFDHOwO\n",
       "HRWEWZhUcruawhntRvpXqJOfzDM6hIIVNErTim8lnZqjaf6CRm0ZcHwxoyaQFcAt6PKbFPnWT8Wf\n",
       "I5Fxk1WrQICPPopN734UeFd0bVHho0zDIO1mBLs6ulvQlqtj5wCqS0tv/+1/sVBx8tw9s2NvMnas\n",
       "2ntPR2PJ8DVe4YYL//4fG3P2yS5J1nRaWTl7aUNEuVA5abvVkIkmOeHQuf3tEHj1NVMsR8dHjaVJ\n",
       "E/dDnjL0yQ4KbldJXV1+1XModZ3GpYzp+BeYqj75SJGMkXnUKzXtina4aZx7+QA57oLgPmj6tdXz\n",
       "s8PZkbn/5LGqEK+hbwAIX6xWi/3uR82/WDZ/GjkrBvUEHdil88IPyXHhXM5CS05phMXXGj6xci9+\n",
       "LzX/2A6fPCIKqxIeYm3xUMZnRrn05AIp0HZFMxtNfMrwlyFB8ge9bHYF9T2pMJ/xR6lJA2BeXGsx\n",
       "0hs0J0zjTGgohgr47okoL4Xym2xN0Wqnk4hI0huhCVAR9VCq4wYsif3aT+L4yct138TQURR3/gBI\n",
       "jpNqB7UOr9ltPaBv7yMt6hrZrRFFX8ZVlLCYwClSlg27JF/zsfiAvY6REBP/BcifHVMxTuQjo9qR\n",
       "/OjV+wWuub5tkWYH/zqsCQ2nZz3n/ep/YN3i9/lVXPVDk1OGGDv9WmBemU42PcQRVl9vaMJxti1r\n",
       "XmB4gFaVmgBnQz6JZCu0hROHgVkd5qz1ZiSGcn9ELJP0mGqLneybA2SCK0wTV0pUKzIoY+4cSNGJ\n",
       "pfJSQ/9YlS0beDnkDoNKDCO8HZm0EfKp6/X6mpnsPkkvMWVnflj0sCFjwnZlNligG6zy96dpl0br\n",
       "AfvG8SLrBHVxhXlVBejGAY3hRCpXKTlwWy3ryXdfWgb2GJ8kiwg9kg9Gv2jgb6BZ3S5OZRY9ATWN\n",
       "zFLW9GxvP66sbVijctxKDIK+umKJpUiCBqlmXFpK3f3VsAqmmn/oEqnhibp80qA549Q8BwxHuJQf\n",
       "Co4QJaMZ3J3XJQ8sqeivjuBmUCuISxduMqPiyCYSpc4yLyZsjxB3BBacQlZE6U7X6nDtdEZeODZV\n",
       "ydK1AwatulcTwjpDdyCUas30VFeelivMbSihlMT5PYlO/ETZcO+3sVuxDk/Z9OR85l0ugUxOz/0n\n",
       "W9DKJsi3cZ5k3KGBQ6iwrqQ+Lvn/1Ro3nGbqReK6lQUOcZIO6AjKqjjLec9UUiJ3zAnpEhSgDtWc\n",
       "K/4j14EFB2Qm/fAztNK/Yhes5aU3ye1Stvhw9+YXYMYV/1I0RCM9wVHNL/if+HkgSn67yYNDX5Ui\n",
       "1uXqd9ENuay0G+M6WjLnQZRHuFN5pzNyWY3uqeMDNmv1uDsRN/UwQ4Bc1Igs6jIce6TFc/6gMYQC\n",
       "QNGhdQmf/N4NVENr2VpgJ2+chgwq2fLS7fFb4D8+JxeP1fHEKCi1CUaJfmCeJ7Uv4gMbDcQdGCyK\n",
       "44Z1V+3yMZZ2s8s5NDJnXmv33mwsU/bmnO6cXDb2utlTvEx7O3UF+/pCkp6VchatKJZE9kuMqYZt\n",
       "9erw4S8bkP4YLlTHNzgDWpz2HLcF2PxA//FiMhja1//lf2rrFeIrImQUqX+dXChENItZQdik+atc\n",
       "XtBbfQ0u7w/SMT2yFdlmY56FBWxhjlLHEFmBuYIkUjqbb6Q5ekuq8opUhoy1VjxQBiqH54J6mM+o\n",
       "BTVVclxFOPAi6jCx9Elj/PyBRacdKdLd5xgM0o5pO6f+yTYM+CY/p0FDVx7bcZfHpUOw9akSE1GG\n",
       "MoQC0eI+40dgoNLR9QhonE1x2tGovSJkZnXI6I/+tztlB17V+DKuzn+h4Ga4PxZ34D91JCB5+Fgq\n",
       "uJHO0jTozic5I6JOTRNbhgJc8VGI7YxZh1uKr3JFoIXUH4hivSVHXKDThUsDjHKwfKBhXh+t2Im/\n",
       "74po6b1xYsYYZqCqlSJNBSwhqshieGUo/7ScCx/8FEFyKlmmQ6gOO6spaUaTFyzvblqKhSGGw54Q\n",
       "jJQ+xlCTShshxSX0x/b/oIygLrEYPFDzIQ+S0d97c2Nj/j6XdgPcjBmNE++e0C7IFVr1lYDNRGAR\n",
       "MGiEmr/C9x/Uq28D8K1X2Bum3h6lDgkggtxHUfLIdwwVCvowLwRNzluG3C04OFRMNtRo2BWYtm0x\n",
       "+98F/21DliOV6L5kTJGdDmlTkFkoLzV7xZoDeyPA6UVpXTNhNBVrv9FxgGfzErll4JL/kWlGgxX6\n",
       "JN6St9qIAivuuMiZqo300wwbr/dGoIYcQoi3sbpREpUbk09iGeOIed/VFaPk7DfWFYxozGNeAlAD\n",
       "2a4U/PwWcwH5tSjNj8AznLShoJkW0bHsexBEPfmNf0arZyL6+c9UkhCUrMJkRZius2ZYC8prgOVy\n",
       "ZmzXOQrgaMZ0CqgYq+CiRRHhTt3xBdeygEzzhsV/LtH+5Do2GDAt03xoRMBlUzxscaVOuAdmnGM3\n",
       "shUOA3wex3jLaYOElthIypqCiuKoRNub2sp9/01Wnt1lwmTf3o1SpM8NeOsao2CWfJkeZb5Ldw4j\n",
       "1TUO/VIEcDvgoJ8Y3L96G/9xHf9dmEJAuxsMoxYVM4utf0xA2osa9K7osShDVKbkwLDAtJKmOP99\n",
       "Vjti1OiYFhpmlMpc/Eu68Vbn0uvSwmUA/r2dGAE3z5rjWUS3ONvInB3NOjFHqWTntkpLW/RRP3E4\n",
       "csotGUC+xbnXkXqbq+/i+dXc+ZBf3ZwC0Cbvj3AXkNRQYtgKcjsET5V3Kp9Wfzw9rvZcsME9Lirh\n",
       "Pikpv4sPO2nuTdiu4wxfyGGQd0BDmPGMNpmZdPnzS0kQ2OpYdlg9x/vWcwTCpjmH0njZOimPyYAS\n",
       "U7B+Q1lPwrEGImaGFQ7tyAW39TdMHzGNkRvHgF8W7yh1AjvSE4b7tr+277yoLdZn0lEcO/qEaYSh\n",
       "gOZ9CDL7d8AEevl+fvb4SvCxVW71K43gHwJWsig9u86Pz7aZq59lEEykMkh+wpIJBBUeRa9lzlOo\n",
       "uOzImHOKiqiZO9l1ydKS2dmfXzcZ83+l5eILe23O1q4oIFkk6NQA2bcUplXmCx9PiOq/UfZ7SIcB\n",
       "XZQ64QxUC4tqdw9HpRp447uk86jsOBzyq4fVB0FHfIWkaGhwyNfP457i/vFRK9v5hQVp5HBx2QEh\n",
       "lxSRHme2yMXqe/anM1gKaR3sbkiryMd8TgOThEbA5tR/L8el/My6GtPEoDTg3ttAnLtxUsX4bAY8\n",
       "/UTQouZHAWQZ0wVILdEtKENAElqArtHfDqvmzzQ4+gKxizXETDX6RjiuHeWW9+jUv9M+xebqAawk\n",
       "9kXw7wAIT2DVTFIJEhGWtSCJnVYWYymjAQf5n9wAeNXOnHKuVwwhKcdHGX8Or26NrDVJe6B37XxG\n",
       "wHU8NzGRR9apHllFaCkhMTQuOd/JFgNsn4fVv3J8LSI2tDlJiPQ8Lt6J8fe8J+7pcurdwsB9Gz5T\n",
       "bfc7qJ5EpDJR4q0hi7YMcVf4cOh4Okl1wErhfkrKfPe1vSPwwytDQxK8ej++6adl3e/f9/cXS4NP\n",
       "fjFyrbLmvFNMFZ3t9W/YAPOiXlXUUXFxsVKC9LpYvtyD6P1Qd4m7CdxmDkDMVvhmbH8HLQ4TC+R4\n",
       "Vr9gnBzg1Fhan9R82Z7/ma/SsyNekSY+qr5ttOzcfXtCi6e0v15MPtzz/EoEWRzRdUAyCgU4ztd2\n",
       "qXft6dSBAY7eNaPLrpQTaN7/oG4vYHlPZsIKOoLPnn+DGVQ65T4nJynvJH6O87V8W3Oi4T8axkRx\n",
       "hU/maMmY1AvPfbJEpBvm99iIOZj5w/LsmtasHB+KlEwUM0i8uuIn6ZhVwqExIevYuqIr5LurjYjk\n",
       "SKe0TzrSzvXoHlRSf3D/hKdkuahA04jECxldrjiHvv2erVhYFaRln5qupZSqXbe93LAjnF8CTGp4\n",
       "kDy25P9g67YrXnOs9tQDnrgJyZoXHi6AQAGTxAt0wMvz1Ld6vK2Y0fPMIJ0x0Xvc7Hk5IU632imn\n",
       "XxbvKH/CtDYe1mqzQnfixJDBVCz6+Lt/g5Rh5Uz0XJTEG9rmuaDn0F0npckVgLEAAcDUG9AjNpg7\n",
       "eZd5hxvV2mAA4no3DSlNgz9ZQf3+szyk/ECPEqf/8Q78ej32rtn/NMZHKbnYhJ+eY8atpBcSgQfd\n",
       "Y+dQdrI7+W6Z1FTuFKfa61DvxqOkD8jI1pgFmm2DPaZBI8WyQqrGd6r7De4ZQpeiCW0cYS9M9cuX\n",
       "di87f/VrHJc7oYdYpCE7JxMOp/YsuFzZozaWv8QxH47aWm3XV7zJ39KCaz6ANZlxT/GZBwUNOTz4\n",
       "vRy9MCvcM+WQwbmWvMUfh4HlkLc54rVE/6hklS+5Cc3vYAuYLFz7ygBYoDz4h7BBn0gspmbdNPgl\n",
       "FbSrAJ2Z8xb+ahj07wB+WE1rrK5dszjc1xyte9axgyFaCnvd1MPtF3yw7EBKMS9VYymu8IObsbxw\n",
       "Ms8TEH0wdinK4w4P/7KiNwwostOv1oJKxnlLFOAy9hMfNMSbwclZS55I9KjfRuNSEy45m9QQKvbI\n",
       "vURwsrj2WItdSos54rScPpszysVOrwwKGmXREv3ZmefV1ISlletX9BB4I/GHHmijlhig2HWMx8Ed\n",
       "aMZkZl2anUNwarvV4IyxEIFm2OcAt+3aEyaiVMsBVsizveaZQ69fupYDzOPATOSCw7idHbCrh8LS\n",
       "51zCqjsiDgqkuz1STqc9l1CU3O7yu0CN5LEpYMdOz2VF49L8PX9aIzvhkXYZLf43IWXYozdQMmO5\n",
       "1sCM6CG/V//VLKX0L+xJq4DEk/AsQW0XvPbEYzrH7hwenKl2afeegfHWGONZQJhHIFh2Av9IQR4g\n",
       "fQGTMNmWp1GIVjAd1HLAqKKpre4JUf1KKFhDzTd4eclXgMP8mxYsD0U7TgXXyrNheJVHKjNe4kDU\n",
       "4BiuHwRuH/f84Z83NC3LB3qeJllLa6n/yZGsgZ3wVr4WcBUj9jhpGW1y4tyKAl+hzLCweI8FN5xD\n",
       "/YJp5IKalbH3GxbcdW2V7eOTuP6sHDYBDoULMo0dch05jXhQSZB3DSldtAy1tlDiyixWfoEyb8+0\n",
       "hXXef/UulTQ0DVLFwUmJuZegyY2IuqoWvEZG6yqrX9sxSB3LJS4gMrGRaH32jiLgbOrssNn3MFa0\n",
       "6he0aZV8CFfoCbGI5DyExJCyA+x43ioF2Fx19ISqxR813nBKlaAtaahUsUruUvXJu96Zqrr6BVZC\n",
       "b0McyxLQRSM/kKceDAErAAAJjEGaJGxBf/7aplgUjMeQA3U3xnByVm+nXmycJQUKZDkLH6GmdDTg\n",
       "EsuezhmutUp4oSKev6C0M3JQ6gDutj14ysLGp4rv2xIc0qgv8hKjg1uAgv0nBEF+Ylqt25m0u12/\n",
       "0WUX8KU7rIWG8SujRq9P8T6oQWoiulXMU3rqthe+qrf3xLpQy3atynFmC/SmjML9EPSAHKXKBzwH\n",
       "W6SqMPOwnMZFRR5grhjHFMrVQcqsA4ecR7swBLYsuzVwXXgZ28QEAFlRB6AusE1sbEVTThewkdwZ\n",
       "awZH5IKMJUiUVXAhYeXTXlZE2YjDhKHn80Z1AanVW/gNswyxEQHCLFsiRtALcV0SClQecCDSL1Ed\n",
       "W+dgHD8+ifPpmfyNrXl/RP+z6Ja534UgEN9QWpvqK8/pU4bTSbAJGD1Nlj7K+4g6+2EdMpEA9qrl\n",
       "FdsP+WPdqkpeUFAfqx9OQw/BEUVS/8J5KA0gdvr3NaCNzIJVcZ1Yn5JehvwoLqS2RptIoT6irQ8c\n",
       "aAvL5TEGjpb9ll58itUFSVzDYFnhLaMFP6869No2wcD0F/YkZYvOILfNf2DxdrD9rFUpN54jmITq\n",
       "NhZMflxJfNp6OvHoDiEoPlcGICVLzYx5o2m2J09p+8oECiXy3nZLuU9SqHXxb5Z/llPS/Ws0Uiv5\n",
       "Bxa37pb5SMIneOI0ze2CGi2dFkCVr6LoIdCs1p4b9bCZvfYx+/YZSztC0bhd/WfBzyfpvxoBu8cS\n",
       "FoJD9jbI1Ynva1oNczMxPQCVikhiF64Z/EcaOkyKGaWyG194Nlzr3Cdhq6M8DMUgsP7F6oZIxN/B\n",
       "/gVslwj7YCAvoSndDCUovxR04tvQY7K6xt9YuIfeE+yUhdqdOHLlSC7gsc3VF2jf9tJ8eB/DWfdl\n",
       "CKHzZL7TGMWyapG5ktTqxrc1IFeDwf3sluyz/IdKHBOfyAi4hfm4SWutgdWOY2yIPapB312BShDL\n",
       "6mrWKVG1tglk6G1Je1KuwoprI/2vZAQ+GJwAElvclmBZ73/XpvQRr2Yt5imFWw7V7GxWh/4K3nSY\n",
       "hxpPXmDEtWINYf8wh/OZK+ILumkvkltgmO9KOzWX1yJ3CCArz11RrKjkj0xoTCmVzM/iWFJU1SzS\n",
       "E4PxWxVsXGyCXZdVP5xbKZFn0VtQ3xlivn+PzH3zBfdPgbPSHMc+DfZvx1tnXMVFijwkKhPnmmoj\n",
       "lZLsnRJbFeEdj6h/7jFCCME/FAvh7HwaCtmSds0R6hSz1F1xkoTMYyPQraPD6knj0XeI5Yfk+tYC\n",
       "Em36EKieS89vqSOsOtBUqFLY3ONRkyILH4KSs6wiBEO5ob1Np1VY/dCkCOzXPLJDtW02p6UCqG45\n",
       "Sx6ZlL7pyjyzndNo+OC4w6iobG2+W8aK5VWDp64HfI5SdwWqIFev8Jg37iKsYn5O1TiHNHad5x/C\n",
       "B95sTVhFWKUQIgwFwDoSqsMzyJXpEZc6E9u6nPm9Sq3imfH7WI3tLKjV/yVLy0San7TbHy/F4DFF\n",
       "5ckTQmj5hgrOks6bmP61mg8JJtWA2asiB3Wpx4RHdtGpevwW0yKUrQVb7QtmUETKx9hjszy2e8pZ\n",
       "+lpldQWAwVDUnTu4VE38yFEwTeazUMRv7xqnXYg/e1DpWvjfaWvv4sx2Z30HWDOexNQHqvpkRAU6\n",
       "vQbjiaT/gBP8YQ3j+mfvUyFozZ6kvlXNNPiik0cGD8ry633hSEAPZwfYZCtculd6YVOmj/+87UFf\n",
       "EQOUx7oqRxMNvOSarMCQq/o1OudKr62Cq7Nlqm3+dR3MHkUSgXllZi3r5QE/r+d7KaiUvOFBuha3\n",
       "UYHVpV+w2eLz1W8vMvGrt4aWAY5vZPjhuYVmTObw9ME6ujnT+S7Z2PXashO1iJl0cluuiO7kcvhY\n",
       "dskhqmM+c3QzF1/cxYDJF9t6/fVtMLUQ4SzAsBFmoP6NHnXRyFZMoJnSfP/b7iIsfyu5LO9ZO8fb\n",
       "4bnLD9ALyaTJdv7qusgZKIdl+cCcQ7qK2NJ4Wg0kKUQh5hXEz5qQ/S2p7cUVHQapkdCbxYaeXP1e\n",
       "Y7bPw9cSYtEERpmjPoVOAXpLV56gh71YnVeQ7gIIEpmLGjM5vwU0ZMudmxKzwLk9LHW3jPQspZY/\n",
       "L8UsqNu5RUuuRnkhMyVtRPoUEw7PHLbBtpF6ZBnMdUqObOi/ZbDYsuwsWVvPsCny6jGRBjNjeQSV\n",
       "msh9dgXGUT3MczwZx1HVO66+Ijy/0MuTOPn5k18534LpAiWDLfJb4Ai3puW2BuDBKyHIsmeCRBoq\n",
       "RLLJb5EBqLSgROXM694pykF//8l81UYFIZ606p2WpG9BMiCT3tB+sROs8WGOVCKxOBahnHHm5juz\n",
       "zjjN5g1hGqzLLB+7okROStPsmqmlm1sYeaur2YQXhaHDhNx/xoCP8azR2XSCFXQVut8tnZkZc4hV\n",
       "UXg2G1QDro0j8Dn44tOUJQvAv6Lk8toO99fPKO1pyvxnPh6fQKkn7U/dVzKa+XXQSEcJHPI5KdXN\n",
       "owu/aQ7FeFYHXMd/TBgrwWxD8JIG8jkHV1toWayItQel+Tqd9US5akTQKlwItaU2r3RlRSIqW+Yv\n",
       "CrmQKw6zjcP3GEK1DkIkbZfiJtbYeALCceLICzgJ8KGuUviNciJxrCEkqNYLgt6ZN/Zosa/stxun\n",
       "ODaMxqsOimS7WVEphOGmh37ITxFj1d3zUtd0nm797SE0iT+iip2xlnWHsQ7K7HBEyGumPeRZsQRg\n",
       "p6aLjINC/CQMNeI3K+1Q4IHhNqnrrJyvaRTTnrLLODVDBRZgF4j0nke2XWp8+0XAMP3SHEfA9PBA\n",
       "GgLg7q4JRs6Dlo+4o8KMoGWGNdFgWcFv+iHKEN2BeL+s2ZAfoeT114HrefOly9rX1ymSRtkcBxJ1\n",
       "ddAnrHy4YUawajYE+jwbnnf7+7snZylHFTbGgFs9M6t5epeNdBiLMJowzmg7Tdpx2uR/1sLtwsl0\n",
       "iZycVbgQwfo54THaGbE+UA2jJqL/x9j2o2dvOov1y0F/W9OLcTZ7iCecQV2j/klhUOvwJOiKlxO7\n",
       "3pEFj8QGh76tir5DIHmhDzxhqIlP/4Wy/782kKk5MMHFkMpzk10WzZZXmBB0gdr49+rlFyMQez9l\n",
       "fswRIrx0MlLIUlmlsnQP8aeR6StglkGsihTcLv2DQsqTe3uE6SO4p7EdltPusOkPp+8yUOZrKtWs\n",
       "l/VU1o12HrNsPlqhRQ2bVtJyQ4aupCdFVg9ttHa3Q9yvB5v5sts4kawLIR7Pcfp4xI/F9OAwKWU3\n",
       "FPgGXL6H7E6oxeawAAAHAEGeQniC3wADjzrSABLKiP6IQJ9zifGOQ/zg6CRpWaOxkYjDBz9eYU3/\n",
       "BxyOaAKji+Ep/RpGyX7kR84FIBRKdVPS+MBBCBLUvQn2+SYQ8I5sY12ZVkS1ZHoMowuri00Y02JA\n",
       "4W0DZAbZHiGXcQxObqhn2iutdK6FnJtJQyjexTA7fDKHHK8OFtU+E44pjKas5pGtwHDioc7aiQQz\n",
       "5uSH5y7+xS6WHCMJ0sCpYpeg4agWDlmOqVRNOKoK2f/6TacOcV/8eemDnx0vyk+uNfjLvWiEd5w2\n",
       "GLMoeXz7EhAYYzKPAutRJYqzi4bQH4acZwGoIp7aZtHe12/nmXNDpzVhLvRlZGbz2Kjnrz1hYxgU\n",
       "fvbGFYuMnHMC0uvQpxiDtxTG6Z6/00qgN3zQP7Th6OoJPx2WKI0h/r7zPT5eRcQODhwhB22fMm18\n",
       "Td/ajJzbm/pZSw8Wl0Tx8hPQX6bCNVf4z1xECvTcR9JBZ4uDktpkYzu2b7Y/bslSrGREH/v8fbNh\n",
       "svLSL1rr625o6PUHsC2HhR4TI6j69Zpuz14+MYICWBVPwA6fXwQU5CYxWVI67EJQUvczM4B3LoTg\n",
       "dR5Y3Gy2v1WCRsN64oM3EOLQjoeqtpAvZTq5L9iErSMFREacICbgry4fbzR9ZwQN/fK4l/vWV0dw\n",
       "3GrgDalH7zXkhEw81qhMmYNHW0/82vw29KdqJexqiJpNPKSBpRHgfMATyCUJZidjl/LPbQCbgbkG\n",
       "q0GNIwoLzsagTbTRFkXhyx7GrR5Syt4XP4c34alPteldtTWxBbVGjP8JS/nCJDP3Av4VxLgnq+Pf\n",
       "h+ZB/EcDpgSmzqmI6iYYvu2eUn4LWXPduH0vDPSrJC4797MWkmZ2RLmXWjBUAqV80re0IQNCgPv7\n",
       "raD5Og2aM1RXnOUmSCe5ynR6jnGP8EzUh7Pv7Wx32ShLMd10QroaUaDRTEzIwJ6LV3dPmV0IZKW7\n",
       "x48gModg43IuJHPXUvPBI3n3u85ZDTSzByq4Kl56BMYw3ifCCKalJ3Gzp9CmPF4+RGzy3zZEkSFs\n",
       "qfekIodvtNrcOGU7VvmsxIi8P3Es7hRx2+1kDlMiCO2aKBNEdQXSZswTddvbysxC9HtZyjKJrPSe\n",
       "0t2t3rSAF52MH0cxBTZqz0P1Q5Iu5hT1oWOoJ7q8Uxt2NeGuPIZWz6/1kykWGuO/ikC3T7GwEXjO\n",
       "p4U1MwhfK0kZ3d7zT0d+Kf+Heu1/vF7JhsoYQvIOqoad+hTr2RwUdNZU2AfHEblkhEVeqe0lG0Ho\n",
       "AAnv/t2PAi9QHu3+2kC9T6NZniI0aYDEh1A3s9dL2Uq7amJmjArA7STGFaRcJOcTp1KqqLvkG1d9\n",
       "fRVqIazzlKS6xjcPfceOKZpiLsRt38BX8pB33fjQrRXjhrbsJl0yjdjoY35SIuPfAHzU9MDDdfU6\n",
       "9LTLWTy9/WdTs74LbHjMv2aKhUE+inw1mNx/bjPNtlFrTI4xKTpZoyT0vtd1kwrAJFxi7Bf867fs\n",
       "XQYSJ8DT4NGR5YNd5Z7YdI0Qax12fnUk62piRnZDf7T8rvWIAzJPXUUNRdd5vwxP8Bj7bmmo9aOs\n",
       "hiFq9fYWQsLmhYtd7TPBVmY1ENRml3MNe9neRDfYVaRhJrZF0iY2gPQ3s/89MWMfU+xvkOpcVMVD\n",
       "nSFEyER57Q+zwYJa7Q1Nzha6ygBRxdX5Te2yjnWKSlElf6xaXVulmLq5ngpbCTZh6RPcIE7e3J1C\n",
       "TYbIQvs7ohJq4sbMIR1IRA/FjxscT6OfLCxwThlFfR/zzmg7gCWEDfSGiHblFSjrcmYGeFupe25t\n",
       "9i/OskrCBYjbz8tLqMWzRP15Za5GqXF1jqhU/tWoDbRiZmMYFP3Q7XkGq7MDjBI8z3/93WNa2+R1\n",
       "9mHNj5nY/ujE/Q1VsP3RMFTq11oYYj5Gl6uEhMJMMa5xqSUzfBzx0BlnCKXrVGEWx/TGu1XCm15C\n",
       "JNP26d2S5RBuuwx3nGVVeE3ttR18QuU6JE1HkvF/s4Hi0ZpM/O03woKt0Uok8f16wDZdlQNAbqHc\n",
       "DCFsH6cwJ/af2mW/nxH3YVB4yn/2KW4oxnolpqBSML/1iyhEERWfyrPX92951XzNy4ben74zUAm9\n",
       "J6ZSvG/Z1b4WghhxGNmt9UMyUwx8zQP9yhOJC6emIw15/Yu21ojM2rZ7jC9REAESnEIVATtk1t2Y\n",
       "thnI/ZAKRLfYE2ih0JmMtcGm/L+Y0x1asDITKNixPiPJxYV9Ls69hoqTcjNQysnQFx71IdVqZb2V\n",
       "pc/BHGYTUGzMF9IRyoKCL0ARAHMojXH//5QpV24stLQ1/zxAPcIiEmWzzM2pEJn5QyUQuFdMV4Rn\n",
       "coVM0Knlqqi/OzmTphHCotLaIo7p77fVyxwSzT+ijGxwW3nazBM4CCEAAAVoAZ5hdEFfAAU/W7sA\n",
       "CICK+PL/vDVPBNOjnD/XmgMOmZVnX8NyDA8xBRFpV4o9wtvyBX0fSABbZDNODaip5+L6A/HtWcQO\n",
       "PW4BTZQ5yw1IAgaUmgMjzlu2sW3GgZJ7hmxplMvsPnxH6edewhAjacQ8ErY4YJs97AbtuBwL3cwO\n",
       "8t28f6m0QZqF8dJd/uQwo/CxTIXhxNC107GPFAIP1he6Ik81jjtdR6WTroYfLaD+XSRp3eu8cbhB\n",
       "ZMnvnRkt47nWoZHs7KdV3diY0nrrSTfId41fEEqL783Fi2BfTJGZ7lmiV45YyeuZQ85atCyEz/OO\n",
       "WyIJqq0pLOzGg4+oESfaBshQZ/Ih65NkRve8yAzOhXn8odVIUY8ivIOfYAzA1R3LtvbR7S37/UsM\n",
       "boHBuQBFXJ4zopgDFxDD5mNFzRb5Lei2VCw0SWlkfE+iIBQ1uNI48RRVjqx4M+XSEmnc5xtQmuFT\n",
       "RLTf+RVREAkN+pGAm4T9ECglkeVmn5T+znI2t0RzNrAZZmLvFhPkkxLhFGHpG5lt7iuGKtWw/hK3\n",
       "gc5qBiurSLQcEmMLmM7WbMlypKf9gZN4t9daSqfO9ApBlx7lau5MJ2b3rKxAknE/lU5qHWXyyfA+\n",
       "jDgkrKL3J0oqxWZ6l9pQGM9NcmR2rZtEhNYtPOv58mn4duaXLI3x0T3ONkVJ+UoyQMQOM3BAcTrw\n",
       "qmWJzyPsDSMXH0267DS55mWu7MhquO6gTWmE6f9t62QhBlZHpTPSP2ujcN+cG5hKIkocqrU4l64i\n",
       "P7uxr4O54kEbeF5ID44ey5ulFu6Ri3YH9z6PAzurhi4s52rqP9ZguvPNEQUWMW2M86oT4Oe2nga0\n",
       "QnPRiS1PKUk3dYoPZ0IFGYU4EC7gYpKG7SEiHoIPY93kngwcAsODGgC/YVRcuRtDwztmyIkSr3HF\n",
       "OnvccUuNNpeWCNYQPEikmcQ6fyl1zzi2Rv2m188oXfsIp551NIIoxgc6wJ1K9nIRZyxf4sfUAAFM\n",
       "7K0dBB+WlL0vd9kTwE7uYzn8l8h9KA3W6bNOUm/T9J119xOwPlAQ7As42mh3FHl7WB8fcTmXJeBu\n",
       "bphZAqj1qzZ3AO0m2H8RfACsGJeuHk8bqEQ3UdT0O7y20mqzl/qGzGdMUcbs4UbxvWsJMyYAm+zh\n",
       "DYnuH62mOe61h0v2aQzs1HBgcA36GihBt8Ys//D4i4xUDZKl58AAy6QfzFbd58B/pEj5u2bi10B/\n",
       "rVp/o5XNZzx2Lswz+3vhSzuPgckVDsOqXIrJlGOZ+hoHNZOrKeHYRLUSgtHAXhau087k1EX4hd+g\n",
       "GmHfqrm5k6kVLxXfIoSM4tY8x8c+xJ9dRm55wGqIPNV1ghz5p5ljCBXHsEMPHhNUsdfCyTFSrEmQ\n",
       "F/4UqdoyX6QV6cXEO/pztqLYg/ND8Z8CTxTnzpjgjuZ9xUozzXNv/aV5H34ymtP4ixYLEGefTmdW\n",
       "tG2ZGOHMN+WA0gvEws24hM13vCyi54BxyOad2A1EvJLjlLLJC/5fcUARVPxdPDZdi6Sder096MPM\n",
       "YvcJJtLHs8UfUfEQc863W9R3QsTkBnJB966CdjpfhKhqvHXXN9iyOKgjubgAH/uERBMqI4CTqyCD\n",
       "ogbXRd8da9RX+lU/xQABJgWhopLvMVEzOoq3WgKzEeNpZVdThPOZkOe9zBw/3PtFbHAZV+KDeALG\n",
       "q+Of05oIn7nfiANMwT+9YloZfyXvGDwtvzIdczf0DPJhJ5WTMBRGq1x+4pGtyGyKEJjAt1UBoVu8\n",
       "v85RBfNhjaYWegmn/UolHSAESn2VsCB7CYxhzDSXnRu4xPO3htxyZkCmFiNbdUrc+Ly5wI0MMOaA\n",
       "awkn9AAABioBnmNqQV8ABT/uYoAEQmwlpBWG/dY1bAUoVvgDORe91hpn3b+WKiqXOhSy3oFLKpI0\n",
       "NR7Mu5jmYZ3NwgXRWDX0ASQsaHagdkuwqHsg2hLWdGQLiEwBT4hmXxTyjc8nUs9qCK4Xnt6O9G1A\n",
       "2x+3fQRx0dXocoapjQw/2HBf152rHF1mpHqJ9isVEIlW0iVBBjQUYG1OjMIAWTbyOJ/6BBV2QTn5\n",
       "mcLxGlSMOjbtWexm4lJgz54bkE0iAN5SvwtwaS6ARcPKbh8AnJFgquq+rrTVjVOMW8/3lyMzpeZk\n",
       "hdCEGxHa1SfYjCVsoA8wpZBAxDBnYKDhzfU1COpP9cjeMJMWX8LJu9cvg+SR5G9uXFamQFop24Xa\n",
       "ETxXSLSabCnqxugcHD9Upkcbbiq9iODnxHlHNsDzjeiabdYvFaZSvEd+NJQR10SV0bG7x7dmH2pV\n",
       "p1Xe9vMrZoWtCY3jcJQ5JXuZk0XCBMv1De1MCPHIB3pzbIROsHdnIsq+DD3pFE0mB93WiV2swZXI\n",
       "Un3dloMTPw8dukkZ6fwergly6n1UVyGRFZIjeiKtOTA4UbyfoOOW49phwG6PQJqdEDrGkf9PPb2R\n",
       "AOtUGAXfnigsKFU5ahpe7Cl1bAAw/ezS130sd0fOha/qlyhppQ6xQYc+DR6J+OhhxxYwHZ1IGDVn\n",
       "k2uoW5HXoTxM3lUk+uv9IGU23yIE3Uvg2dgDkuB2PJnQNCjqOr/uaBS4qdqhbtYRTczC32ZjtMLb\n",
       "Qc/kh9pRjxo4nhC74pzWw913d8cx8+mrBtGbrcyDZcUFsv2WLB9vOD/uc5JWQ+LLAdJrwHsfKQyH\n",
       "wHpOf1JcdO75DZW9AW6EGIPesorX67LXD0yNjpuoiOuVUBbFvB1j4mmvpqDovajVBzvWJet6pCv2\n",
       "SpB3QVBtK+VAEMt8f4EHe3WcUQhqvYOpT7PUsgwwEXFmRv29svssr2D7aikgSJFyM4mddBHZKQ1I\n",
       "BdV5gO0yHEwFc40+qF8Ys6gI42f5vL5jAz2oExRX+PELim+kv47TXFyxDyhrztvLvceFl65IOGxQ\n",
       "D2VXcPIT++NHjbBQRh47r7TFCyCwULjawcH1+Jb5ADyNmZec0l/Kn7Tw4PrMlvVbD1foKIjNhzpW\n",
       "OSL+T9IvFOUitXyRuY+9XDYKCNtKI/2SdoGZ/W1yZcfIhccZASc+eXrlalcivDIJmVnkEMeq9r8y\n",
       "PjngTpT0i3qW4K3AswUqSth5ZQsPSG04frxENKS9p/k4vcAG6YVWF00XzixWheVWmDnwQK9J4TG3\n",
       "sncyK8dFG0esLxzAYom1UcDuNKcEzvQla2PouvALVFnqro6lil4/1QNAsW0IRyUUIrKfx1lIJiRV\n",
       "qDiMyXrVrDB3IjHOlk3mfdM0LNC4+ikVx153P+F7sNa7a6k5WSLn5J8r7jBbroNt0jDjrKiT1arO\n",
       "azdAeEXW3NdpyZCeLN/taThbfsoBj9Q3uGPuMHArGb7jeQEi07PRcjactx/omm21gvFOsgOGV6My\n",
       "0MZ2Tzwl5V3+YH4X6oCJpy/oDNKFhmkEUuhd7yK23a3NVhEQQVhr10RB3AOYhJOu7Ec0PTloH144\n",
       "gZEvc2OiGWpedO0buJ9NI5nUrTZWWxevrBNxu9i090amMWH/dCAhJ4vR1IRkMxbno5jKoGY0CgP5\n",
       "D64Wy+YRjDAxcSC4CT1LPj5nRnS2lY5JXAnoxd9DhwTc4tlyvKcNuOQJp9475k9mEWa5WSlqduD8\n",
       "lqv1F+iLthsie7P+8Uu9k5rj5QnSWQm373rxL+RfPcWG5WjVPgnxzvajH+yqUP6HNTvAAd04hQon\n",
       "VnU3uBRb8M0gLPL142/cIbFqrJMO9XVgJ8NucCYQpAtuBQfPGk3CoSPR9+VUYBoUYO6oEcsZuf/n\n",
       "pgLdGQx4KR9m4f//aXxDYmKJi566i7VX7vJ4EFBoMLF+CA2YIO7nNu21KofkIEDqMRIcQsF8uNm1\n",
       "GCV1m7upcV4l5t2qljIjWpMqOm8VamMZc18kCYehvRtOQ/G4rfON9DEkqNHpabRTxk1ITnGg774y\n",
       "+FZ3M3JUtzQfM6N7Q8wyR8CodDkfaVM2XFKJLlLofgftCzST7P6m9LgshXrAwbcAAAidQZpoSahB\n",
       "aJlMCC///tqmWBSXZulABdCq/PVipwKC+/xWh/wzNLk4xms2g3VhKCf/S7sXEdu2YWvNHasDvn/O\n",
       "/1ZiRqQ0wxVroCwmtTxsnF1YvwQTp1mlCxqqvjjjn4/9DG07cKB7AffykSH1/buZO404ou3T9+N+\n",
       "VRaQJwW6bWMjxzl6x2o9tTPCu9ewEaeDtqz5wjm8BsA3ASunaOkE6ca99T4RJv1gA/j9DyRVHhQk\n",
       "Ri2Ly/qDrWB+BPBJ113fHjuDOUeGwbI/LFEqR5WjRq8VMvsLxKVVzyQXXb9j9hjhyVH88ZAb1Uc2\n",
       "ISKox8UA8eUc5qn/FG+9hWLhY1O5Y+E7+ajd6isYGrxNQONTDtMHzOv3+LcNj6wzKUo9q6fwkjXY\n",
       "tfWjkuEq2cEDA8u7o9TWmBJWiVhP3stnkXFYRqkxSaiAtx73IIc12giVKd95ruzNMYXuMz+9+feH\n",
       "wjhufn+9qkGfAlHuJPr44gbvIykreGsmPWgStGn8NtrcRG/D2O6neR4m8L1AgsYbgN+2bWGDgpJb\n",
       "u8TiGvE5c4MhHz6tK4RaqBSQjSyiWIVCVJEY/1Hmj/zbwvHFLGwWqn20FNOit1eAp34FE415Nvke\n",
       "uz6/woIYk//WaFhE4eb4ovQnd5VBBDIZfky6iTIpiJywReydKnZn15tKtdkC+fMvH+7Q1fSSWccX\n",
       "ph+vWIkOrnxIkiwihshT6ns0O4byITHYUL/zPRO9Bz7OeO9QmAnjlGo3SCjeMH8J6xZsZUCrIIPV\n",
       "oDvkjydX8gK+ZlqaRkkdDHfKFYiWGQKO70jsofSy964RUXD+40MdZ4r3YkNUalsOmVjWxzWqSkz9\n",
       "BB3p2GgcBDFjhz9hmhjZmmSn/ewD8yEJs3kARi/3IZSXCgRiW7oS2Kr2fpndbcqH31HY8Bs1QYDs\n",
       "U8zk3pFNJnGJ5RkzxbcDsfrxcaMiL2ECKyl3nLebg13fKEBEwFe7xWBkCIcKnbKwBNxQbpCya88f\n",
       "90srrvs5gs5Gw6lCriwG2ndMf8DrT7z3tZTpLWbDgZ1OMe+pYxAya7ppJxHx833GlIMMRXLHdVWZ\n",
       "cV8D7+4TYHyuWOBbHcOI5HcGEz5xZxa8gdiUfBy1WbctWZXPD4ffIGpwodqnBmJZpW8dC3cskI0X\n",
       "/7HaSpj4vDMBhOyrgP5hx4OmFsqsPJ5owrv6zCBExt6amKeF0HKGzh5rbY82d4C6/2AKD8NlR8Tj\n",
       "z2slbK98HlaVBOQTD5KCLrL4B9elN8zPayowy6VFdxPILFTL9MSwF77zqmkrbya7KDxCeAMXMdfz\n",
       "JmGtiwzyyRFjlE5e5S+gq0rSzTVrA4DSC3dwhQNvEq18TU51kZv+mRry5uuyn1Wdhpn59QUAC4ub\n",
       "N1B9hpTc72cikfF0cySiGXz9LmOQPH2RVsRcylUZlYymip9N8H8rVFurnxOmSsPAoCSAAAADAHoG\n",
       "7RrwOcNPv99HHQOQfPNTzS9c+rklVQ8+9cFVf0lS4igbKHB3DBd4ZqtNeHB5NAKQuNKVFxd72MtN\n",
       "Qhze1DM6fEVIKmxfhDYPzQxhIhBZUulXeMKRc2mTavwuxii//Ba4IDQn2I4RE4mR+Qm+GT7VepEP\n",
       "gXaaxXrLgOjY7nt4cCoNWplBS60JTBCkwET61AmvPHwc6maXxM0vX5Ptovo7Zh3qp5DdfxwF/ufs\n",
       "GLOusz0KOPt+afDlGmjk1A3eeHmEPb15/gMHkLtR9x3EeeNBuXvQuk1mrXpo4swToFsZFbQQ424V\n",
       "nGljq1lDYgXkvNwI7HOgpq8NTbj3u3KYTfMbGnSwOEGBsycd1iUXspVxMcf9sULWLBt7A1GBheek\n",
       "sQOHVZ/xaYWX0DZOS+eXOQEaAdHBI/7G+CLbSq9Gw/HxPenXJfYK2lv5ER47ODA6vxULvo+LBKkO\n",
       "vQ/7+WS5hEjbhUSFgBwWEZ8zMDdQS42n4pW/q7nHAIwN3DDuRIqzZh2VfMUYyLzP7JLuZxgyQCrq\n",
       "p0AQZLsmd9A5BaMS6VWsfvuVobB/n6/cFZNsL1PFXOigEmN9bvJo7y8CDeIpSVbX2DfdY9g20wFo\n",
       "3u/uNXxrJChzeE1QJncqWYLVj87OQnRCXgerIjCCjL29Ci3NGOe51JznOHqJiPRpoCFUgAz8rIQV\n",
       "G8iYMslljiiM4pgwS06fd4lp+T6r/7MFLy21Ddb9+g4KpyJsJ8rzzGvCvtvkA5HudUHhwMBq7sXJ\n",
       "kzeiahprrBVRGs4dW/jAV4EmWWLtZSdabO1Tjy/DBnx3o2uxjo2RTdQId+0rhKicoMdg7dGps3Mn\n",
       "0zbF6tFhPVkhUMLuQXvy3pDHnm5XjY9eUTdY6EobDpdKYnFduoWeJTQ2jKg6fyQKWwKYHIctYWDv\n",
       "5MtLQd6H/YT96/v0yfGITs6IIa2GGdnCnDzltkMfV5LueUZcmkboLagSow7Z3ZD/KyQrEflywwh9\n",
       "MvzaKhp2Rzo/x0adDwEiYmFy8XU+jjXTTmrRIMIB6hXOcV1WyICC2UVyzBvcgUo6TV07UXXceIBj\n",
       "kGiPsTv7DSZXQdAnQuOnX2aDR/JN0zneHnEMLANVqFzlVI64SHujYneOI4gLyevNuBRrFsjd+Pae\n",
       "ljH9QKU2UYqEPczQSxTz+oFI4mcyF2fSN0w+ENlmhbzQnK5YpvHe6vU0qCDwZvEo6MdPGH54bkdU\n",
       "FfFEY254KxNX1X0kbGpl4ew8wohscXh9l30/yZnyWoXkzsdL60fHlgx6eiXqbatpgIyPUOyG3Oxl\n",
       "zIGjzSV9Z6sSe/wA632zb2MQDv+dJuZk88gEH+IzcL3aClSaNzlBxNts74P5haGq9qJDIL0Paulb\n",
       "R9GSn35mMvaCPLNUc+mroqUjvAJkGeKK4AjESeIjHIR3LMRxuKRJXysFRlPaZVTla9CC7wiUa7EV\n",
       "q1lMjnAaftn34kOJKjhnOeYy4Gh/dYadCb15pEtQ4THBAAAGIkGehkURLBb/AAN1Sp0itABbqB34\n",
       "dgfeGkazIgWFO9n0Z8FCMrFLNfoTArvvZZ9w7UYnioPIbZ0YwWv6PnJD9FITEmBUA3/C4DzEMdsn\n",
       "3d5tO6ohdYJsapfIoyhtXTbHkZKuwobO2sZJVJfCTGToT2Tejaa6JXKCk7MDbREb/SP7W4sNyO9H\n",
       "eKJHjUqTwD4jZ4xI6xyJ2mlp7as43E7a5doLeGc37cfoIsc9m7XavNxIjde92zkDbr37ScZ/oYwK\n",
       "0Rcbrqw1/um6T4Dhf0qiG96CXfP0PFdjWlIvB7A0SCeKiwppzH4nWJLPue639j/q+ZLDo+kM5Iob\n",
       "G+F8xkHJNsykOPysPomrPfEynRINXRbQOdnF/9cuBCbaXtw3K1VeeiUCpjGkoEJdM44y+GvZ/4ct\n",
       "vOJRqqJsml7MhjVT2gBaxG0x6HJ+9boqz7dOrCLW3JWvm1vPprUxczIr2EAJM+kcFHB9uqg83sAl\n",
       "y6+Z8rcwhWpKUAF2Sjh0X8u1AFdbRwWX3sD+wDSnZsiSoD41AGWh99p+AJJHuI1qtpIs7gQDRvmw\n",
       "6poy9oScmbDZgkjXqqED1ONLVGFcFNchoyXODdIF95mj4DOU5d0kwnKtc4NGgJIUGkDuAF9MjfOh\n",
       "jpaHjzDHzkR4uMzOAMepbv0hcMIjygQuaqCdZTHdtMFUZ66MYU6e492qN+/C3lOnH2Y1uZHaCNGn\n",
       "G5kHqo6nv9U0sbBMSEtRwB+2KmbmewmiXPIYGpxRIfwpO0rj+SApiLVnnF4ks/SjAx6SPkUw4hdp\n",
       "+ccYwLFhCPYLEjd/Os2G9tQ2HbT0ACZHbSNykeGPQXq+8BHl4g6l8vjgrzSRvuOprD9OiaBbBMKp\n",
       "hjdOPIi/u0taFyOrbrEE/o0GzG8SEF+uJYSjCP0TlygRMDp5sQur0ff3md7v52SQZ57w0Tbu12fn\n",
       "z5ZJGCcnNcvpW/nz2NFIsr80w6Oe8UV9iXK07CsHM+gVDHbH7Fp8jhTGchBJCDfGM6Zn5pDD47ix\n",
       "YfNFyvVY7zYgC0znad0xhci+UQoC8r/9VXocvhmm4Mn+a6emSUDzoHI4/mPkkDosCz9yUdXiQuDW\n",
       "JOodG4YvYAJtSSml4bprE3kMrvdI+OYWXXHnp9qTRJ1K7Zy8Hr9xKB5NteNQ0eRUNp69frRlPdli\n",
       "gn+HWF+LVZb2UeuNpfnMcYHPnhraIPvJ89BadgWXXCyMuUZFyvGKuqtNzkAtUWHzvEfxTtI0/F1Y\n",
       "6JQq5eQ6eToKkyssvH+sv8pgTa7bI/A5jmmTCAyq9ilAFhE7zIvNDdTf3VGTQ0TIRQCHThK1Y+ng\n",
       "2jAHfUl5woImMtBjbZrJJyPgS6RQRP5QBSz5qSBHhO4xjfiuWe2ZrPWyf35CbGmTKmOWYq6BWDV+\n",
       "xDXgr524d0TwWtfukVQh9abgt1h9fmm3eJkIGQZ5+MHB1YbYTRMW74KieWFrKiSb50oV73fEirHi\n",
       "GJtOxbvCkkPVNy4IuEbxsnUug+w1I9bYGZCgdjt2hnGUt3L/l7JNyZZMmiw8R2pU+nk9LrRuYwao\n",
       "ZK1KX667vZ74gLspoVvpO844y8dsemWbxDkmFJ2rueUwAZlMLeMe7q23cndJsm/QEpKFR4fU1GRx\n",
       "MAhtSyX4Y1n68o3FLdmjHisuUuaGg5DpNsDrKbxpuW6kvRvXiFKQARmy86IPOied9tTS5ELInVT+\n",
       "0lXM9bnvTqZH0YLcVdZ3vTr88KHWzM6p87xTcOiSbR/9ru0UMUReokB2J8jSCT+G6gkhpBjPSwRR\n",
       "zT6rIug2Oth6/KuuqMaEqKw4Xs3StH0jqbnKRZBIOsFBBjUAV9z39hbmM7K156dt3dn7tM4kQGWe\n",
       "ObaO8rwOpgReva8BtF+BusGRynd759MKmtZJq20yxf49ZmcyvsrrmqbrUzejH2DuF5b0+oLlJ5xL\n",
       "0LJeVtLPdhkw7fxNBy2qQvxGEHZ0pSRkgWF2qQ7IShXZWzZSdKZdgeBiUKUZ1VKUIzXn7Am1Vmen\n",
       "NCnZP2Uj4DSYSQ8ug+1R4p3iJLF8OTjwH8qBJT89xLweWNtm865XNK2BO+esyVWI3bbSPFaMierJ\n",
       "JNnXALjzf5peOUEAAAZlAZ6ldEFfAAUX7GbAwRLYWgARCptyBdl5udxduBnHHDrXyirhb7Zx+hoq\n",
       "ADsHkh1U6CIkHvl7WyH+Tpr6Geo8DLvViYwZDhblr+hYNLIdhHlZqzynAla7MHBy4KhlCtvorXmP\n",
       "ovdcuf6d+DS3RGTVaSNJ4i42PudLkBe4Son0PzZApniQFaM17p6w7p88Oh2U3rNlKUp8HFprwrKV\n",
       "qgm/vsZ2dwUApQ+HDcfIcsMsYAQVj/RygMgUVBswe47E0gwk9gWJVz808hfZOJ80RHg/4jeuWHpP\n",
       "hq9P9lLXb49QSG6+FtEDm6AT8N2GAX0PDtjx7BBBy9E7+miewxpPFm11vv6Ky89J+mCDHWFFRzkj\n",
       "77YoSYFi549IvK0OcRvm2egXyX2gL1hYovi2hWXuH14wUxQfAyakcKxV2cjegetKKvUGZOCpqHx8\n",
       "tynyD3IRIgSROFH03Wyux2Yq7Pz7QS0hsBPzcxmn6UCTsE5ka00UOxxqBD3dky5cwefpJpLCh2uR\n",
       "cS6ebL9I4CIZ+YTYFiuN18vE8mCCeskuvEClIT86w4MSE5q6NX2G2nlZYKg/D2+gXn46wE808Tfp\n",
       "IAXPp1LxrX8OEeGKOW9oWbSQiZvNn7dpe7QkmWSQaFuMvx5bs89dzVurUXcCT1ydExZH/QZJQLOr\n",
       "9LC8vS5Q5tNv8baJVzOFCeHwBR65mAs9wqLI38RJA7kismQA+tvs1icU+B+VJUYHwBtRYro8C6r0\n",
       "LGMasPufwTSdjO1HQyJPf50GDYuNZHw4kkDA2eb/HCjDsnZlpOxG4EY6YC60x46zjbN56rYQwuwW\n",
       "8EGKWAF4p5dBrIrb5S9cok0ZGiaEwWEXn8oISmJnCohEFTU3pBQEQM5Q7RUUbqE67EP8LAEq3bUS\n",
       "zKOLbPhq2WzCmzAFPZgjPzoyoU+vmid38o6y16IkeYcYMDJJfTwx/WhLMqnYC+n9u8vaBHVAk6Pm\n",
       "hlthq99cTnnPG5ZvckQbKFLHRz7MxE2xbVAKHGq2zsypm70yaj4/3WC3rAQWpVy2kchtsMkOUvrm\n",
       "Wrj+uNA1zDZmgLoHy9TwpaJQldwzvR4KXdMcNp6HMWU6BnFVmDJ27QvsE4qViadZfK9+uXFzSLPI\n",
       "w/vk6zzaHYS8v303o7NbN/3VEsiHmzhKbPMhsRYFsCADKWLzlYkA1QUpqbMqd/YXQnylCtj7Fwvi\n",
       "PvcsNonBeAET8CgYWsINSTTdVe49csw0RWa4Gn5/IMlxNdR83srOKojMvbKxDWnvItBcF5yCSb2K\n",
       "xgnKhR3F2yfS/27d4SW87hXoPBZDb6fV/VMxes0w2NC4JIkIZmE0mktq2hVw1dklZHk4RzWGhnAc\n",
       "MlWeFpTub0ILlhw7PGTuyHOodg8Sib6T3pQgJ9nJuZ2CRFzgKyQsJdR91yLMiidR3d41DEmIT56a\n",
       "id67EXmBY4PcLaG9DJvfBpk+ZEYoISycN/0OtpGdXvyHeyJ1PaImWcmIqcXpmAB07v8IwTewUcMf\n",
       "flyxE0pFqQUPV+dslwojYQE7ouNj441Dc5JTLNka5WgDSTM0RNpXL3d9P61Z1q+UyzfheSSiBSMd\n",
       "BzrJQ9KX1NeR6z/qPL04M5JxQACdK3IIREpHmikQi9XyAOCvMKEduqmaHrIWFqPYVwM1T/Ctcp9a\n",
       "+lM40mdhrs5JApmBqUhJaLYV6cM2iRaGmIrMHY5RvRTHQmuthxd4NkqAAaR6poOvsARzTSFW2oas\n",
       "MrsOpucvBe9VXbzqTkhC2+5ih9kfOAKgi9bMYquVvAgEcYDAO9FLPvfknDRK9/TGDRp9uHfRn9pq\n",
       "OOPOZGgg46IyovOBNDaEz10uzQ2+bX6IBhcrxrURGNCIxUmYxrYFlTlX//CBE3lCBb+86tFZ6Ini\n",
       "SBpBoCJKUTmUpzTy1WMfhaeLy4CRm1PBnvlzpteqZhNxcJ6uP35za5FvJfVtC3Q4YlZBeMtCRlfg\n",
       "VBJN6x3y8xscfqo3QVmT4KXHTFuCCLh7gyNkno60AihYZPwpG4SqF2NugYvI/MzlLC0gn4i8+n4K\n",
       "/fAVviFRVHAjYrSLuZ3S//2e522yGG8T1bU+KM5pnOXuVj0TPap2a8KVOemsOLKP3HdDBpL6C2dj\n",
       "RaSQF2RUr6axItJbhz/Zw/ZiKCZvuNZ3hFUP42wSvmGp/2IX4+N518yh7sM7Jcc0WaBU/oN8Y2kA\n",
       "AAURAZ6nakFfAAU/7TESaR9EACIDuKLu70/WtIUbXgsoj2atWafNycu3mfINOqAlvgPRxNoONJ6k\n",
       "34xPBV/BmbEIbWE34pmrEABTzhevzxR8Xlbpom+4UcsbgutDfFUD1WrunbR61vkhTX/1X9+iHjVZ\n",
       "QjR4u+TLLicRzr+aVPP5g9XXKTj3lAQruhMqOdGfAPO4ocCDdb/Sp7ZLP3GNL64aJ3N8tGhmnGcF\n",
       "50WjPruoXrLpoHgn+2cz2+XiuWOg3ZPqZx+7Zr4DxEmn2yuM7l5MayYclm8dG3cKf0r1rLx560po\n",
       "77unryDjrLC8kIeEwhfnlSodimhR4MGAr9LAJjE8kR2DQdmBBpDOHOYhzNBM9Jfz4ZRtHCUgw4ba\n",
       "mj1QJtAQ/pcjnCWYWAqTmJKNUjEDd3glvl1WOxzH7xVmlJ4mWVSmzGOQRfsnt5Qw6hZepIlJ3ndH\n",
       "+bytTToqPd7EoOzkkEsB6E4/C5L9hEefR7OMtKpsigjFdkLX8hjHl21y6CMCUTl9cyc/5mSCu94Y\n",
       "8yRPt0PdU95qnPhT6ITdAAgLXinmfzxF18cz9y6VVUsAS565gmVDXajvwZ9iC1UnDAuv7k5gdDL1\n",
       "im8knnwwSF7E5PmW/1sePL+h3A/R3NI2/ZjRy4jePNAi+xHt/5XeQz8EZNdzhAN7NCHtSqPSHrQf\n",
       "1TcBzPn/+RQtUJMDse2khnGxHJiYHN2rO5Ri+me4HB2SM8uPfKBWFWpSUqDPiuEOXAVaMd6LVpwo\n",
       "nSfMs7HpeE5jHseyVmaixKAdNA5xk6Gl9yrpiYlIXTy/kaYueLRruDiFnjzkNYZuC+pniFQIX8Q7\n",
       "aSvKXOXxAoOpTAC4pquL5tWS7BTx50wpRvitbPE/WIFB+FCkpx7dT2nqaK3hu/Qah7+7sEBMUnoA\n",
       "o5A3M3gaNiBbTpIX0RLMhz7CnfgMZ2klt8KoIjMMrfD3eanTInNHto81szGBq6B3c92i3Ve0+fM4\n",
       "RmktwHo5hx9LbWqhb8AjC3UfMYaIC2cIfaZsoirXBdXEUG8fIqoIkseVVaRTPhSWWH56RsSvLbcR\n",
       "2hVQkrfuPXDnKropWbmTRSUj60fSYDncU4GmbAlcGlou9HBfJEOq90EhwIQzEvJ+udgYGQ3agteg\n",
       "OU59kMINd41VeJCu7/YpQeDKSBhV6tIobEiel/JH7xWzCfb9M7llZXO/vk8g63n3wSBzkRgIrdpV\n",
       "ggu8jSTnMRaJ6abYwD1zZlKcbJrNmTtCQJp9yXmf3v+ZmJqoCZ8rpCJcL2cY1XQKBH7eUzszuK/O\n",
       "UcrsszCIeEqPHDs/RMOBmBdz2s4u0y54Q+tUPIj6XD9ACR1Rx4QGl+UL1izm78TdTstD58xRnxM3\n",
       "9kKNnwVefqlbPNcOCrfnSaRL+wHhSJSkvlin+0FDHsz2NW1cRaJCOG0QWIKyS7inQJ/IgFzUSyp2\n",
       "6HQyJhqqZB2BZvYhTJWHFxdeEF1xxs1lE8+sxgrNW7fznUTOlh9Mtdohh/5fQpoW8hm6BUegS6aB\n",
       "UIjK3XeRCareJWhzW0zurPigB0qCb7q+TyX7Z8/pk+fX+TyNJb1mfZJFwGrhZIGyZ2YCGRmEeIad\n",
       "2JEbJI/YJYuLuQuml3ZkNrsysluWSci1fbj7Ct1zGPk4EFT5SjS1Hpc2rGwcANfUadBkER2Mk02A\n",
       "95tUvKVjfZsue8w4uzBN4XMbHDR8+uqo9rOw2htxAae5PyDccadXHXpecy9zaAAAB8tBmqxJqEFs\n",
       "mUwIL//+2qZYFIG5fN2kAIUTMDiOUe0VgzS0WI/5PSNLbgwgHDLLTpTRvhd7mRYSBJY9khSsSUTX\n",
       "Cjw6cQ2JHM9Iom2Qzf9HICtrRFRbxQRvum+dOcD+CLfxq/gfOtC8brwzbCypuUjVlW5wjPsB9qd4\n",
       "Fob1EAWRx6HItoz/4V/310YMLLnpvOyHE88LVFRwoUHMP7hREEB26EtOZUKQtBGwUcwSFFzLn9/f\n",
       "qwl8Nl+j6b8EpsghumI1d3ECMCeP8G8TppG2YWJlVG2WaUD3JPmggCa75HEqUT1qt8p6FUtFUrsz\n",
       "eWJ8b3IIaibUj753f7i3xE487J9k4ThnndTt6XNZdAYTAz45PlAP4NovYPeJbuZZ7vFnAxQkHV1c\n",
       "FZgE2JaUkC9GnjjGpo/fvoqtLOd625tuSvyEYFPiRaq0n73XP6LOjo2Q8ogUE/3zUatyhsquNoX0\n",
       "/6efrNmE14MMpmg1yg3TwmTfcjVEMaCB41+Ka8G9wnNeJPdhAzr5An8EKJeEcsPBqf69qrSELoLZ\n",
       "P1cqp0vN+qiDFDcfb/+YEAdHnC9BZGo1SdM3ujwNw9BDcdPAq1xq1lk0/ybPaK7tODrNUAXNV/ub\n",
       "q9Sdd3BO0w7Kw7nLfOGHwmszGXOWhoYty5uv5c9/XeEQId6D9VnZ6Ad4iI0aMdHQv2Byo6nfpsnZ\n",
       "EY8wJSHLwcJUZTScYuXh1c5qxKrSaX6pdMfaWJnoZf39zfUHi3VPYn4EUJ5LzfjNC0e1S5Ef66SY\n",
       "YEWALQPj8pNfzUz9WJ5uUjt+3iL0EkGJEnTksoS/Len0zl7cYDrlXuK0FHkzpVeG08fG2nNw4Hi+\n",
       "BKS56vCQiSMlRNCf5XwBruPBX6r87tlgyr2NiZFjydC/Po25GHQn8L8vAj7e179OHx+3YIrSgtQ/\n",
       "b+aG22G1CzKcIDqYMKXOPNv60m6XOu4HkH40OzDFLhYIs7vnxaeraBaYxl4wj+3aVFuN1ViqXPqK\n",
       "7dQARsz9db6qC18YRC/+E+0zrDlDHBGDiA5dBaiXhu83cHCxtS1/gLr5ry5OKk52y/S2AiH7Njzw\n",
       "ZLwv41n4wkYAZo1oJgoe5KptZ6kG5Rvl/LBsS1CV4XEzGg+p8HiH4C3db4zQ3iskOXo0l0qTqFVA\n",
       "TuDdMEpyjbH8lJzI7ptrDcfsnT3hA3O+9q2aAXdjc2PevtFl3Ks3XNgNX/vcCPafP7mUWUuI5DkA\n",
       "LGIX0pcQw443yrPSv2334J5QqDcNz1fpIGpoaRZOLit1HOr1dxgHaSvL4qXqCL3kbu5rAjawU4ii\n",
       "Ck8oUlfsacqBo49G7a7hYA0DUx7M9zF+hzlPrHVXCBjan3Mk0DOEOMke3ctt2ZjS5Pav2zV42qA9\n",
       "9qFTASrEwxMdrIY51ep9+0+TnYx132KX/bg2EGpWlgm3VuEHzUG2rCzCdWwvLJFqGAWufK5gIhqZ\n",
       "f2H+XjUfCZa1ZPt3XT1WIw9ah/Kly9zwph0B6Kf/s8OsE43NlXQuX8wmdAxNQisejvIddhP9xHwA\n",
       "RIP5wEUxWGleypgYw+KaEgDXsAczdZBcIFDD8IXSj02tOrY2voARu0YDu9WRo6B+oNCx4vSQ2/wA\n",
       "smAKzK5BmQCdw/zur3jtHfUNMJSbyNPKr2AU/KzW7lkE74TCU80GPzgNH5oUw5K+hI+mEApY6ZfL\n",
       "JaV+hcEaGJKVirzV9KFxbY8dCwhKPnMV7qgfuM+q1N/wZ9yieV4i82WjwTU1+Dwn+3+LtqZzSm5G\n",
       "ytgtxu5CRWewaeFHBTi35+LCDcwgrP/qeordAbvIdpldNPlh+CMguCT8auURUoOvGjzmwdlhKuIX\n",
       "kBZX39s07XojHCorVWBlxsh5u9+gW7tk1SfgGAM5GUseAAVVLMBg7N2RF94RuonToy8fNyO5JPNt\n",
       "n0elS+KZ7GsAEWW3PIZC/EM4OUVu6ij7wP5uYII87PPqYZwt4qRlW6kv258g7gZAkT5HpDVez2BH\n",
       "8gBGBnLPU9bPU2v3Hult1k3y+hUipHMRS9EEaiNcSS+NKIwyk3i4UmJsz04kn9exeGTw4FIAxtqM\n",
       "6IP4Q52i8uTX8OLwe+fdweCPM62gIzo6a35kWO04NABn6bjzlzZKTyGx1ULgi3vMS34lgqdgbfHE\n",
       "2ldOtzna6jFuYPMwbkdDvqz0F0fvfSlMhaAqbiFlV0x5W3zXhSZ3Sdzjb5xD1w+l9EHhPsUI5Xd6\n",
       "PDR2Z4fMB5zL6YhCsxCHlTV476eFasftvNpSuIJb2me/quZsxrZ3KiuLHNfrfwagXXBUbD7aYBX+\n",
       "+U9zqzWyB98DfL7beKNO7nyXK43Zoe3OI0pkq3UUjsf5UVGSP8hnOj+UTHZnpD4w2yWdudYboxPw\n",
       "AhFVVlFLucFGIT5/ir0gcCM0SGzS8dpKvC9m2U3uXo9JBWoxZH8ClFWjcqf/eXUaURBFb+3RHvCB\n",
       "hq9SnLg3OVHXkiU/42afC2/CQuvqn5rs1djzVvivGBmAorM0hRMHeH6JT1OFqmicQd3HJhROlbR1\n",
       "uyxyQn+sWPV/YJtcYQDxeAJc7+trbQ/Hhuv0SX4ezmOxsyFoxIBTxsj03tjHVv75Zi9Y8L5S7nGn\n",
       "LV8LQ2kTiHoW2siC+IRJ1CDEE5kNAtQhsPVqpoJz6SJ8LtOB8w9gytSkyXzUYNKXeq0AAAVwQZ7K\n",
       "RRUsFv8AA6EoAAudaZw8EURkpue/ips6rZYE+l15UasmVxYuXxGy2L5kzI3/hHzuvIJH5E/5X9rS\n",
       "+zgPf1TJpYLgaQm37xRi6LLdVAAWeYXvQBm+hSdb2O2kbtws7LmYJ7Z7VRb1+vYVzvPM9bis7FUx\n",
       "gm9cWbZgo579Y17F45n1a3t3eXH6fyZ/TWzNn23RJ7oWjsrSA++GhyvdJjYh2rZXI4POZJOMOVAE\n",
       "J6oO+IJxt1Q+Xo0C/JQ8VeuwB1A39xi2ABIgTuLgJ7ejB11D9LhcP5xFZUuZhaUgisW0fhB/Bn09\n",
       "jYzS4H/pMu1gHMvQvj+ySRMy+vt1mXl2DDVHzGKCeJu/sn7rWlGgAwEWMT/RCnvHiS4n7FcnHlQm\n",
       "fRXo6BqmtWw3KRnY20/ouTKPEl3wJAJUl1Gse7jN1Wlj8pdRIznax+xT5jjj8tvjP/8+Pf91R5QH\n",
       "v4FY0NVfpNiffNFAz5mZ58PdQRjqsuF9IJwfcXKYe4pB3936d1Rb1dHlHTjkCeGx5Gw3uiAKeZf0\n",
       "9yVXJTosqAn3o5pmaH3By3P/3yh7jAriCVRUJsU4fO8zgSGZy3Z1BvB75hWOkhJE0zvxUK9kOqSk\n",
       "7/rkElvkEgOYSAf+FlnEoCDBLUoi9/VXj6/UlgKJ7yQKtB2v4D2wHJG/06vxxlPhFclIzEMlLvY+\n",
       "ZyRCVWgG1aKXwxAxlCJPUpdIKnUhHDmkIp+BgJcsGtAgBw02xO41d2l+GnyFb2REnhOFQH2xgt5X\n",
       "eii1NO2XGPGv1vPrvuuqqshs4Md7KuVceLLvrYUf30sz9t7Rw+ZFqKcz8aY0u3I2m3nebTNGLxJ5\n",
       "ds+At9BQTz38LWJw87IF1xaWNAgGVVaQR7Vy422YrFJQHcZ0JLdRioWP+SBESAQnTSHh1gI+821z\n",
       "wAzZupiQs2Hdbxr4EMbCCVstw9p1GlhcjYmqdB3Qu4WMgHHkY2vMEDN+NOjaytq3A56PNgwXpt5p\n",
       "BQU/ApwJWpHztggQM7i3Fz4CAdGRo1Rr5r9cK7nOLdVrkfnz8kWyxjc963pSakuJhKiDSmllsnmg\n",
       "qXtYVN6ks1RX+oCfycl4ilPmtJo9tzqS67W1m//drK4qx0oxvGsj6GfCwOooCPdHFQ+wZDnKpdHj\n",
       "lXwQZ2I31YigxoSXPB/dM51W+l1AD3/ucLSTO0C2BVjMiz801huwbhFkiIE2aLp2dAvilcg8eJ8E\n",
       "/chLv8JOLeIdVq8lYfpctUK+xe9sFghSpjNSEBTOe7Nz5+XAGQHL5bes6aP39arlz5XNZIpcczmF\n",
       "zdlQf+0jexmD73BeySeQxS0OjRGlnyGCOWrMsyjmf1cUyQnTrIRCtNE3orxC2t2qZ5uEY2gntK1Z\n",
       "qd7ugTbt9yi/Nxn4/QnLabIXNm9peS37Ednn5Er1KiZop1VJRRbfarSbZ5sFDVwhdQiiLpa8m4hc\n",
       "bg3bT9pm95TwTcdkBpL6avz9QJdRqh3gySoSFV3lm3g7+Ppd9Cox/Mt8mnhRdRHU/6RU5LbMCL+r\n",
       "KeX7Ozb4F2RkODGUYmOuO0Came9cnd82GsfqoKicxb4uG7wlqkoJj9hElo0CPV/IpqA+nuQoT6fh\n",
       "oLuDl92j0YkPGw312AoEyvIcq3sGWWk8Aj9rHdRp6EFFa8HlVQZ3VHHev9jKZiOSvBcKOZgKM2p8\n",
       "5Eb+9WLmgT7OJPed51BAi+M6esnj7cDHbs38xI67PUB+JU3AmTcys+nZI/Vuy35dX8CZaLTlrFBK\n",
       "s0ZoDsf+G/Tba4+8GdAP33WFSueeQ5ccXB2mGDPvJSEr2H4Z2K3BoYJZz5AzlRhDnvAJpATEDO9w\n",
       "FxnEj4c8+2YASSz5m+arFfV/9kLpAAAFcwGe6XRBXwAFX1oAEPZiYChzHNNIfrmOk4eEltYollwx\n",
       "lE6lX3zEr3Cy6Kz9hqj2ASKkuPmOdYNFfl5lDnxz944vyfOJSnJm9Ur7DGSzWjrM1aX80ubzIsaF\n",
       "Aqf0pYs2s5wrsKbPsD1NFCF+nrxgerrYilys2igt60912u/YWNgeqxc/+gxiBB5oWoGEAZSCgH9H\n",
       "uRB0yJKEzrhp2WfsHuU//v08oEZ8RmYqJXJdAOjZJkJ54qdYAbbEdNJcsw/IreJ/PFQt93ltVGJ+\n",
       "HDes9le/excKaCb0fhJv5MW86Yruhux4pi83FHVqMh7Rbz9iXo+T+A3AAw0dqJNVwZ/OaNSnl4NS\n",
       "/mYOJlGQDRJw9jLxJtujFDFBqKO0CqLsG6fLBApOZBcZXLJU9o4dPFYqlOsdlzgnp6BiCfO+IBk5\n",
       "O+5ES2+soCHu7YnMud2Yf6tgTDBEGqdNhB3qrqLRcM0vT1VFY+W5qgbCb8uDIHPR1onIoO2WAoEv\n",
       "KsqY6JXwPFnuv6goMhCEv88IaSY9G9hA99EvcYj/0iN5OrV3utwwye1BK9CRTCvys89j4NwLnHvx\n",
       "yfD6Np42Crh4Q3LEQg+5kcaW9rYAnsyH9PEPKOPIVQ1/gNP4oxo3cxPWyhSTRHWcqhjba2sN3P0K\n",
       "kcDDjdb22AZu5U/ankzSEw9h7O7oBNg7QSsF6DcRObTCOL111hfyZ4b9lx8sV9MVaS8Dk/u8FkM/\n",
       "bsdisnklVBrIK/oWZGN4LtNYl1SSG4ea2DKtISDBLAu/wyXYKZ6Rw0MLtxa0xGMj/Nf3OlD4z1w1\n",
       "uE8aWn4k3LHJCffhVEW0HvR/vPkoNwOjgm6Y0RRtg4IwA+U18ic5KKWfPkHnIl56WVox9u8+v2QO\n",
       "XUTZHyo0UY6OE9lXW+SklYXbR2PfGUyMyJifdN/+COdmAiXfdOLKTZnkXnWY6Pj16D19hmWUMr4V\n",
       "iz+a16LDuC/a1nUgXOrT9WTSs7mVMwLXpzrfNGtQTVXd1/qD5AD6OP6zmcpjWWD1aunMSPE+00FH\n",
       "2UnuM+zH19lwQmfzTHjb70OTB82W5st6qVz7fgwPE8nSSWtH1fOsSr8FnFNOufx9fAhz+ExVsoum\n",
       "+IYwBlZhiJ6vbEHy8C6dARhETNwbVBApluBLDAz78BZ/w3z+BFEaYzsHiCXa5lVl4/HoicKer5ml\n",
       "MT4f631mY73PeJzQimC5YwVyxh3wBj+RdnleDBEv7RnlAR2pM70Vv42W7e9BtJb4C0AizP+KJk/B\n",
       "Lq1xtIWiSZ/RSY24Pbg/NUm/IVoRERMxHNi6GHn7EDv84xLxGPmSkJkOrNggmB9kxHpVWot7VSX0\n",
       "Q4J9Q3MSrfC9EySyT8VTsAwgJg7G4v2vi1BaKhATY3OOSzrh41tH5AuKwquILxnrMCxW/BmX9Hpx\n",
       "D3zibJfMqhhLp96mXaunCddOh1ZJmE+XKIZyf0LC8I4LChbjEqE04kL0qS9iZuiPcUz2/IFNaflY\n",
       "h8d+7jv1EsfGF3vKU4suY2wIrQHi3EnyD1ndLZDGrzMvdk58yIZd6cGPNpOXHFiC1vUtyMiLVMgG\n",
       "Fa2ERTmDoQHG07ypscjtTxp/Wre2HvYJMFbnEurN3u0q5fo76naEfqd4lz/1Wk9/j/ffwl8mUpXC\n",
       "GlPVUz60r5kgj7Rd6PlNLBLC6n4RfV3DTjm8V0a8RL7b4E2bEZdEhZy/yg/oFieCyE7oNilzXhNx\n",
       "43REIbQjLTPFbW59kgAHW89yHPsJWTzdj7Z8Sx3bdPZ7ZDjVS9IcDSXvS7XMa7WNeZh51zksCGQB\n",
       "IRU3Re9tHSd/PefYYcFc0ofk9QfjQic43h4iJVytkuojdZGPKR5XNK7Hla9w8rseZWuU0AAABHIB\n",
       "nutqQV8ABT/tMJqxJrNohnAoJiAAiA7ii7vqxf8YQCizms7E44WVOa/Xiu4YU8iHjH0MsxnPdFQV\n",
       "a1boqNH33rQ8eaoF9qs2d94M2X7MRL+bB6laAQAu8efMEiDymoNJyAVWBJwF92HmPyssjaXRx06J\n",
       "ni721WHw7fXkDudE9EdHOGnTIwPll85eJO/sAVlRpnVZ754NPxH/v76Cb6nGoKJIb2LN07AiVLrY\n",
       "X0EtuGwKNlYnWU2u94+Vh9Wpns8aW1YXuIXo/DAC+MQyAll0uRmcexZzh4X4ukfkckFYAkqYg0d6\n",
       "xiWhiCN+bKLbThcbued3joHi4AANXPCwGc+2On4wMZWWZyOZIaj38m9qW2U+ZdFNM1d1GHyaVHhp\n",
       "QGHIMsAmzFoG/GwyO/8XGBuRzz47RZp7bWvuX7EVSepxa8+wi3BxGr4ujzSiPWcS2StSohdWOZMC\n",
       "9eUPeRy8PHCAevELXJMp5XAc9szlVt8nyrnTWbFHKPOS3stpQbA2kriwyHIbzUL6SkjkH+KbBSLd\n",
       "QFxQmpIdjQ5n0KgTUzkpIaMUiCXOerWiIkKCLuglC+oXBVNGaXhK69EJlkhKggs5zvWR3e+zqw+J\n",
       "4fywEoVHqEiNVaxghwtadlP22jhewL7NpktbCcCbNT1JPkJqCi/3C0QaPECOzGb1qVRx1xnFc0mN\n",
       "dbuYL6g4CAXnrBebhENxRSmrGngzJANfoNwEYW6TAL0tyYj+cu2R4sTGopCeFuBQJPL9/qf4MVot\n",
       "yJAXEF0YbOr7FAt6b+1zpFV6DYc8t74L7njYoDl9aHzW8VeRMXQFGYau8zqltrW0zTVXGWjHIHTo\n",
       "wi/+SKeVPaoBaaZ4JepNDwMMqHe75YRePUAX26FjssI2fcObEHvX7yQ0DIPV8ZHcVjStfJGB9AU5\n",
       "XMG0EUcaQ8OlFqpuSWwzFeVmzR6rH066Lvkom+MJghfZBMzfRsW7xEPGwc70wLDcddTCO1ZddNKo\n",
       "CqkHYMUit24EaTlvi5Ps/SxT5SEgmlhR48Z0xihehOwOrh4ni4pTZoHaB94+bMFFzzSrcxbIG8KD\n",
       "Fm0JScmiWlre0qSYxXdK/OQB0o2GY/jpFYHjOWeDEThf2hnoqjPHHrueFaOzBc45vbbfFyYUeV+p\n",
       "rM8COCfgCqNhmNRPZlXogHH4z234LXTtLdztI/k1Nfe0XRFCE3z6IgBuKiaSOBu+Orcbjxw83F17\n",
       "QQ83bSzsOiH2yiY3rXKYQPMDlegCv751fh/2YCf+wV9MI7HzSuWp0rFiLP5rGc7fq/XjiUU4mvUv\n",
       "Y9J0q2s1bsEwX33PehcphsEJD4sCehUPYNoPgyYBguV4DaAAAd1wa3jaJacU3pkbDp/JVnIcxA2F\n",
       "990i7Ynk08mw7eMT+EvaGV+HVVZo8TCWMf4v9asWmrJNfTxc7/hbJqB/7YOeRRQZlF4i6Od3+Gbj\n",
       "5C59eontMFsO7+fvxxjQnogNxw5bYa7IbvrttGMhdLIUB0GnAP6UamHoEBA9FiPpjQZfm9qwAAAG\n",
       "w0Ga8EmoQWyZTAgv//7aplgVJboa9mgiEQAmpUN3G6xKxKQvUwGbLPi168uUlszXE8AAuQnLtLMJ\n",
       "oCkdw9hs2rpKDmrxAOu+LaMRwan9N+LOt0LnEzin0lwEEFQfMtaANrWBc96byu91Qnfwrx2QFs1T\n",
       "BBPyCbqmlO7R78m+0ogL6EzyGrJp3Q72XNgiCKEQtaAlch2TbRiZ5xMUuH8Wsti2jTjX8b6wfNO7\n",
       "7YIU4+duqEqjIp1FTay5xZxS+zWeF1hR1xAgWyLyO6jNlxg+yYAV08jzY0oopxZo5fBghqNyL6SN\n",
       "PalpVwJ45H8STM+sR3trDjf1JpIuTqEJksmKx8JqlHJUUn6t2ytCYrh0D1oyzYvF3jajCXBOQJ4n\n",
       "RXSz3SnlxOz+h9H+cfqVEJoDAgmNVtMAXPO5CraCnl4mn2BP07Z4RDS4P+z/mhNaXSSYVcnF1b/J\n",
       "iCSezmDKCl5jDHd5Aed6PkTXodzsZ3KLgZl885RwwtgFoLy28ONeTsSe0a6pVg8s+F+gCODHDMri\n",
       "X1oBBvZ0lARCvP/IG7hJxjbFSrJC3Fpjia/hY9tVN6lqFNzLyb+fCBB0OXUgqpwf61RwetkSDAy9\n",
       "VkOxXuq7SpwfmpHXXeehaWOTbc3rKLgC7g0BRfFtPn+3X1uk/DEn8D7Hqe3bHS6IrxmEmqwYlIZN\n",
       "lyjwaDkP/4Ul4BWg3RkOmt4oQ4PEis/Run0PcTKKJbyqDtKACbcHW+GUmy8u0TrMTA8bs+tx+3e7\n",
       "OB8/u25xVZn8dwxqEQSs5pO6/NthAHujZ9lAXVq4mbcC2mmhs/y7YQjW7Vo3c8rp/EErhVeUsvz7\n",
       "ZH/YuEZZ35jbFqAYJG3TWDWYRk7vng+ke2IlyJGj0FnaoNTgpf66HHR94UC/yOJ6Y9b5lVMX0QpT\n",
       "gLt6sktE0l9oFQzf78gaD23IrBv6XR/DpthAiQdZZKoUMD1+DQ4YUusFDeQ9wnMCe4x+yavgCsYe\n",
       "gCRPjRbgBh6zkeEyfV4rkLVh3Ty1+g3hxK/Ls67g0R+Y1jdh/cbZEffdaVjq/CtYC9S7Rlop4DUY\n",
       "XPpPpQmW/tDbtWSx/GBKcWZGh1YixaS9hvfDiu3VEYgXteB58PH43LdaOZt7pHsi0q8eRCSyqlsI\n",
       "53iYGwJJcngIYWJMEaRWM2eMj19LuuUyYqapE1mncPcp9YOXne/l+2z1S+FBbBHujGlQSM8ZIyqT\n",
       "QfhN49ewP6otBeARQZcTsylOVibDi3DlhgcW/QHiONzMr86m/zC8csD+RQ0D0U/8+40/z/6omktI\n",
       "JdjUZCwZ6yeAPUEyQS9i1/UNNZabM22YafYCucl/dlB0nV1B4SQO0GBVV0vRYiRrdqeQn3ErzT4n\n",
       "BgfoDvS+jrOJ7FQh4Gj8W26ZcEbTxCG1CBSTY5vcsmkUU1MOkzB4mfODaaoqlcyQ+7UejK5e8i2b\n",
       "QA7SVahtTieJY0d+HnnbfHj80ERkgoa2ZT6rUBtz8HywYta7GcwEmJfQOI/2jcoZ7OyHjW7ZdPF/\n",
       "oTVtXBwZ7Bde57EAoDa4bifRfT5OxXZJ2HW6HrB6fMMmlRj85c1oHoaBzWUDS/YCxVnEJxXHySgq\n",
       "SOtvY3HAnymlyQY1tyC/zLizhI7Cj5zjVZoZ+ROSI2u9Y+glyi5OxLHisYG0CCCRFCZQU/Ht7RfX\n",
       "PrQgj9qJJctpIYiPJOMuv3ThPjtwkwujEVssLvPLuZxQc3AHh5dZqKORmsJeiMunBu6z+uB7zNKr\n",
       "44l74keULTv8cvx4RhRxpBqu0QSPe/wX0sTHMNjtIUXvtQhaLMgdMw2M2K7PBfRB5YDrXakEsC4S\n",
       "C1wnXZ5c+T1rsEPYKsGIgzex0vntVS0Bc/dsJ1Mo4iQhbBxT2OtetBkUhP6q9Jwj8DCpFTziARnV\n",
       "3ZAJcrNG5DSEA8se0qYW3H2fJbfsVSD4DFEh9Cw11wJvEqF0AfsM0mvAv1mX0XmUgnta91X67dPL\n",
       "nfrM6Y+iw47F607eE5ZIyVJoG2B1EAAAnyx8rdG/2jZyx+7f4M+HhGUX2xY3y1ynZzCGLsFdJCqz\n",
       "mIhkWQzLxPHhYmvuICcJNB5zokm1SlbRtYL0rMun4LURpSC4xSYnbTSwR97xDJc5sLgPbNIG3I/L\n",
       "A2ZipjiTbqRoVZS2VV029bElD4vMutyMx0dD7TIoRjYArfg8NYEODyHgmVKowIsECRdWA1QWQN7j\n",
       "tDmHuizDgYmpkiMxP65U8WG7W/2VnH+IrLOihL4WQEF6HoDsjKN9GdcOLChSLoXYk0fSTisScIwW\n",
       "t9Aq0JhnnCh/3M0F6lc/aVfLYLuhCQAABeFBnw5FFSwW/wADjzrSABLKh7Cpj/jBMOp/ayaRUIqv\n",
       "ToFaV5XRoI4be+y4M94dcImFxOcdgPYNzPoUMmm29+WTEmT+xDCWlw620IBzZx1patQWlNoqt/e9\n",
       "iKR2zZ/+06a/zQjkPWqHo5N8gmLY8N0Q1YisGQ+0WR8ftlfLEJkMiSeu7tB0R4IaidunQCDE1eBk\n",
       "gDdMkVCnQXVqbJKz7s4RshbtAmHLOeo8XJAkhbFudlY6O7j+9EIgVKpcr0eQlXJ13usaFgTomqdc\n",
       "BNTyjC5+deZVjifNiBggiQnZZRB+U/bwEx+4Nnf8TgzOuwK/VBqfLQMTs0xV7rbRFrVqJ6oeg5cS\n",
       "9daHB+hNEudg1cg4EfETSbYviNxGtjXN01evxgPbtL9ablv+5rTUnbO3qGTckCDRr4mpQCw21uar\n",
       "Zust+cagmZ2DrD92UOvvIEL/dEzdirtWg4RFbynmXT69F5BW8aWH7MvC0PjG9MHSDBYVSljEdEKZ\n",
       "8Vwq+etdgNl1IUQT5yrcGRZmKEnrT2gHIo9IdfDb9chccEEZ9y1LcePM7FvT5uOJMw1jaA5l3kW8\n",
       "Bsq5/we17jKW+T5h9rpgXwibn7eajcOTyKc7++yZbTpI/5opXTApAw9QieiOSJXFZf8DehwsUdBV\n",
       "JMPlRjpT4CQ+eiTmiVeFsSV4Ild6/OWiVeXObdsux5ZZ9uCmuPR9z1KQiIbjiGwEE8a+Ai4jccGP\n",
       "muQj1/dPk/luVhYDcDrQaAQaydzxBVNYqE2LnvvYr6d7i41gNrk0wvOGR/WjFYXNwPDDDEYxWWcQ\n",
       "RgjSbmTSfAH1r6O26iPJFncoDMgqIN0EASlQZcV4Wq53n4J7PyY1m8JO0/rbwT/4v7koFxgUzMrn\n",
       "7Kx9PpFrMS06/kWGwshXTlky1jD/Gk5VFP5s+Wx8ZiLpoW3esYtFH+YczKQPWVVTufAnyyIj5FS6\n",
       "VXnvsLX7CNN/gZ89OpJSjRKafxVmYJJvZDxiZc3wkpgimxSVGgevomKeqjDd96Kc70BeVQcTPtOV\n",
       "AdBYfiiQMnrs0RXTYvMWpntpEf0nKB9o/QW8Tgq6OWJ6fHAYysd+RL50HcjtoC8qPdzXi5x/6rcV\n",
       "G+C8nP3RaP9/w6Am9qJeJrSuEH+bumyR7rfVdkGgMTr2eWayjclRCmKKwMH4KltgZMEvr2MNdfSG\n",
       "BObTIfouZXRWW4kEzDpJIYBndVplGmx0+3NrqgD4XVeCkLjK88w/62TkRL+YVqRr0igRAIORFOgs\n",
       "3GDNHFp+RAL31Fp8AYS8n7/KiTw8Or3vnZfyZT7oBIJEKciPRs/CVIptRYd5seYBTgogG1X6tOuk\n",
       "S/prVt0YEDXWZCTiQmKGuoZ8+g2vsTF9nG+v8jjmOOPm3JnuoLdTYHssyO9FBFZlpf3VedUQ72k/\n",
       "vZ/xe1cYkm9NEJCwjo5IZaeSZYNl6H15bAXvmwfwguBWSXVT39n5Pnj5bEQ/s5O3zrB0czt3I+pV\n",
       "tizC93tXZ7aRbkPduWsT9rzS/kVYYaVoGx27+3sl0h2QPXAcjefsHfkRzmcb0rdhl4MkIpIZbygN\n",
       "ovyrwXQcXdLXOABe/5xvT1JqrX5qcRghTktptaRgbR43TptFL2UvgWX62qrxvVv56t+7yRBinv3d\n",
       "jlbQjuDlcT+7tTRqOwtoRhjP6CZ4BrFLRepnFiZs6189O4Kp76lRwdU962E5MZZ8TfmFWW7WQ52k\n",
       "KKk7xx1JMUBwKCjvaUaDvqp0EAc5bID+cHIibZCOLkYPIhlaPvvuAtkLp0Bt0wqRLRPVb3/tkP4n\n",
       "TDbvnoPT2vqeTxJ/ntLf5DoX0hFGzPnINRuKvDeKf/E67eAMpWSHYlbtc5/UuU38mxLIFJK2KFKj\n",
       "ot0twAFmxtN0Qx7/3PQAmuohnCfQPYfA3yPuIZKa3BU2s35N72jO4rotIwmrW6ZZeshvO9/LIlq8\n",
       "aOdKQ9GCa7L07djOLQVKHoktvZGsfGl+neOHVqGkNTvQ2rDVBlSYaTeD7Pc/Ra80EQAABW0Bny10\n",
       "QV8ABRa+7xBJoAEQGgLUKL1YsXb9aUOuzjzBB5Opf0zaOiXsaG92vfPaZkyXqMdUDzpfuUGjmanv\n",
       "PsvZulEdmeiwfvqe8H+B4V4ew3OTuV25mizfv8RZhc4vfXXVGJ4CLoSg1RTpjmArFGH1NJ1ORJEo\n",
       "OT/LBYpVWntOdqme1j6T4CzzrtQE2XjAq4d3yQghSOADzQrqlWgbXOc520nOE3YYRfzRw7gTAACs\n",
       "NUH/d01CWE87D3dJ4dGsh4zB2150P3D3BnIPRSFwHYEVGwy0g0R/9nkslbQNC5cqveQWsQ0R8k2f\n",
       "svhJc9+NZLIAOxAPcLf9DCRpg2YrgOhrhdDPMDQ050XuDfX7JCKtgfNPKxwIH6P9GatkUSgM8LsM\n",
       "ZD4n2vvcqCKwl0x2EKhzG40S2Hugl9g448Lgk7hTE+jp7OSdQATyOj98U/ci+aHZftMkHs2Ks1So\n",
       "SvklP70ZsPpaeZo0SZWILgNSBue+nbpFTBe6pvC6RN9t0eEglpdLGkoD0tbmdOglIFMcvSNvUT99\n",
       "+ULKYex1zvBZf9WpseJIdTIV21RoAJft/ts9mQMub8dH9JcJPhwmXBOJUYSo/0lkncAzoG5jqHYP\n",
       "P4Psur2/dYPibjWcQF9GCrhJW+ZPCVJ98qTgdC2sh/0cS20OblQ/4LqjLsiUpSPt1E1THkkNCgwR\n",
       "6rmfQ2Mpgbg58ACbgd1eh85fNo+pPYv2jl2gAheCtuaOtSkR4lYsRK33m56bmZTPaH4AFCxDjqfA\n",
       "cei9E9a2Wd3yq0PSjdTzvlC1VMv6ER21AsvDIVr2L7Ax5CfGsCBzy0+1WskoPd/OdGD0wUO4W6Oo\n",
       "XdyY0rH/qzJbnIU9oKq5CmaOGKpxzQQ7uhGpucXmPIf0nQYxzLGRvb6+amQoxlwhAVXmUnoji15q\n",
       "UVHjaqpoyr+L0OgjrZKsCrVzPYPCatuWsWGHw+htwCi7VZmCR4/XBcYE7bXmqZhgWyNaLz/DQNcI\n",
       "PnG9IIt+9YbWNtIKioKKe4XI9sx5qCQ110XlolNUvJSQdzHsqS7pV5nWHGQw2g/VADSxHQUBuwZi\n",
       "3E21mIbePKYEvSgqv+n+FUofzKZ7T50ywaJliUKqJEGc8/ZbVHp0RRQuVcS8Gwz+jX/pIEPd+4Jt\n",
       "qBSJXsTCB/PbP/T+7HDldzxPGHHy8D/0xHyMekxfPcH3IUXzcqujmyEqVV7dqovVfgL258Kcyfjx\n",
       "VTI3Q3J1+fqTl88S4H3oRIKEHNjuWcfV3EEqGHV6uRqSri9s7/TqVG+uXCFqKueJ2EeA33eXEaay\n",
       "R2A3XHFLuEn1sSWORzK5qfzj9VE2RFSpfUF9bi4A+ZKSi4LNWkxfsKtJcLA1hdKTSh+5tpipve3+\n",
       "Y1bEQExh8bFPWPJuDW7M6pu2QsPez64ply0vpyFBusLmZvyw25PoKoXcIu6l8TIOcBuXLxnesSpc\n",
       "f/XX90oPItbVhz23BZ5LJjmTBVQGMO9mjWX39XbOgeifVwoKp2ImX1VIEyVmQ5KqFPkZdLDle2tU\n",
       "SA/VobYAJCa4uxrcyY9NMt9B9qAdyX0KMdOf8uTLxIp4HeaEMgtQ7V8pG0pfGjtq13rZGyAms1h4\n",
       "942F/sjeZweAiB0xt2y4v3zpXriiKPRPzWFmDbAUs9KFsJkLnyk+q+AYKhVH04xuHUTHf0TCjb5S\n",
       "IPMCj5m/6KvOPGJKVTubJ58cGBUbR0j0KLTIfjI9jbUiyUK3weuiCI4Nr/cmPC+iLoqpKgPV+DVy\n",
       "HnUcyGEEMRmgX/uhhnjLYI/BoCeP/674aBPaAG/2HEViZSXhkzf6ko39yWCaO/r4boMsg/yjsrxv\n",
       "d5oFnaI/a7R6SNjoZwc3ZIEAAAUgAZ8vakFfAAU/7VuYOTMAIUO53rewOQGEwZtEkeTmwfNV1CAY\n",
       "KX1vkHpH8LAkLOW8dhQNKfg+lO0O7EbZ34g5scGAbESQGkm6tPapF/igLLyzCEdNUlSvbKw1x/dS\n",
       "hv/e/7+JSfTzVKqfSl7lY5/s8Stp8gcZI8qXzKxOOCe9/nCNYo7bjNADvU+HkSg1sFkADIkeNxcB\n",
       "3VWGtFnHTZVI2xlnueQB9xaUbBIFvhzBgFizdbgGV57e+wTL1I6Up1V3hlnvmWBL4n+CTlBH9Pq2\n",
       "JsqPeN7TxWpDP277d5Yfaau7A32cb9GiocMYHbUh2V5/7oXk0NxS3CFwc1Q6/hCVWh99zvUaAlga\n",
       "PAAFKFiDAKb9YdLpNqNaZeci/m5UCCpF1+rfUFPWIeP7hMkxjnJO33Ux95DiAmYTaiqT3x3mS0+a\n",
       "TmG4b/vcz6TgVC8cpOM/yaQByDEqyR1vQUxzxshUIwXlLbFh2JMsELfhUhrQuHLaXC/+ELk7adbO\n",
       "4axoAkhWGsrh56fG+ddIMPqESZall7ttQiVLcMq25yjFZKRisdqiE3+/0jlxIR0G2qNZ4JzhBkpQ\n",
       "O9N/L6FEC7Gv0Odv9T10g7ySHez2EnVf+gAtbZ3FZg5SRYAXhfWTNNIiVzPsdSYmaqHRp8ynQ6sM\n",
       "uo7CDN2sc3kLW5bGhhNG8Q6xGtqF1nEd2ITRGspADXVd2UOeRrwSzWHS+CRlB63gPWLhzgkYF2h3\n",
       "+mMkmD47pDU3Vb0mypHmtCvkbR66yi9UF+g5zwhEBM8O+/y5knahea+/tIaiA3cK1e0wwP8xzYc5\n",
       "acBFbR8AMkc5OtxIw7CsU0vs+OZz0mQcViqH/rxYvnS2KRsLT6n0/IUyixDVwNXZ0Zu+ph1anqBj\n",
       "xTAYGyCF94/vaZZEUGi6JfiYf7aQHkzJKa3mRufmLOJPYqhRUmG60n0PliQpJArJ6925EfkQDe3C\n",
       "zT8RpmP7epUz7sxwb8UVzqXhPeZ3pWbouVYyh+aqXxmQKsqXdszSB7Zg0iG3hF6vlV9Ut+A6PsZC\n",
       "epulxTL1Jdz2YM2QSI+BpRd+wFGBovSHbefhpwOjH/KvSPBavDuvPTNbvKe3Plb0Wc3N1NIdRsyS\n",
       "qgF3D6RIPiYiK6BdYlWmPhaP/T1riLtFVbuRmqcyjc/jLr/Xy3MAhMKC/AKEFcDr/KdbvKrX2a4N\n",
       "8hs3VZ3SOdYMIvHkUQcmvaQkINBsKvxonH3N08fu13xmzJj3KVA4PQO4uylMv7vpYVZMylir0VyA\n",
       "2SBIOAhej4NO0VQDlbsjVI6qDqiMIZaMZQ1oRdeM1KfRivcH31txetM7KFl38xwc5TEu0fUmYNUM\n",
       "YaBcuDLri6O9hnOGW5gQzUj3/7Mr9cqTNHT4rCB5QzTIGR2s36fFvfUg/CIUtkUKHT6s8YsNJ0jg\n",
       "7uXMYMzfn8VkoOLAyjtARfJRCmXnAU8FBCbFpSTjytni9Mq4PFt0BSIWqKYPeYUAKaB3hF2GOqjN\n",
       "DW7dtyv2PFYXBtRMnT8O8xDNhx9OwRPsUdfH0g7yrDaucOeSYqudiWkwJ6jT9sL+pnfMrN61tJtN\n",
       "cs+jaEG1b83+gzF4A/UWT1OuF2VWqNrXwS3z1l2MFNsSSZYLPOqwyzah4pN+ZHbXovXG4OExja3b\n",
       "ZAamenRQZIYfhiOzBlWMXmlZ/AMCQ7xB6BPiTM6iCpGl+J9Fvho4bqe1ng7SIO4sHgi3UAn0StcG\n",
       "6qGy7F46Dh0RcnXTc2HekrQTEPD2IAAABRhBmzNJqEFsmUwIK//+1qVQFICN0ACIVNs/4/LmDP5u\n",
       "lMCLOh3NcHk/krOj9KWBmeZbwMjwD/t1DP8pfoxEgVG8ZJOrYyTJvam2Al0Y9I98iWsAqbMJps+p\n",
       "/oYpLM98ZhBa4enKNRrOYnzYUIbShqQOmitwhojF2Ny/829QIkYfhaEoipT9wqC5+RfjXmVLG062\n",
       "k3WtxhI4W50iU0yujuWy29EpOzxznaiCOubU32jJJDBjk2tL4v11W8lqB3UCiayr7k8ONJiJ0e8W\n",
       "X+f6/JFgA/c1QhsQux0/ukR6eYBtG8WrygesXHe+9MGfDnU9fwFQWdRtVp8zC4Bz64MepP3G2lwu\n",
       "AyULx3cJSPjku5gid0Hyxfn3DYaBASl2buajy5EyScpz7yb64fzG8n+G5tk7xhIvl0h179EXb3sC\n",
       "iFB0Ah3QKjSGb/ecub0vc5O8yuB8Yp+K/FFnpOCVATo/r7T/2+zuPDul84BPFPqfhOrY66koLYlU\n",
       "9seQ/RmFUs5PjI8w68HOS6m5pSAWZmGgCAaVIDhdpBULW6Lrhhhgqntc5JSeWmDLVU6iMJXCGQG4\n",
       "0I4xeajljhK1FwmFZZ08DEzFNutkaY7N8dupg21ydpguPRkXxNkMCnhLo3VeJX8KQmVP6ag4+Fpi\n",
       "GyDFuJVbEiHbvhC4Yp5BtsiDM+pvxDyYgnFREFR5ThAWV+sb3gHajdlcVfRv2FyVNrbN2M1IFRgJ\n",
       "6lkR0LBaU9iQZhcBUZLK0h9K3CdI7syG0Zs48fNGzOgkO8Rk2OT6d9zKCIyRiPVmmA7dmErJt1EJ\n",
       "kKzIpJd6UtpApVwXXjmXwx+Ah6tpSx5Te+8pi2KYkusNG3DBuApleS3joLd5lb3UZw3aZZIabfJW\n",
       "CCml4hu5Ccc+YZ3OVNKru113s0xDfCKwifMABHpfxBF/S+f2XhGkaPP3A7PTcHoOqwJvXYqRkxiR\n",
       "AwNHxcHbtUtzYjW2jQ3Yl+uYWlpSG2rsnHsVqT5hpi/p0AKeEee5SmNvTGJuibPG3fvf+DiCzvbc\n",
       "D5X3UqmniNMC7EPyQKS2PDMKSCNXLwdCA845qmJxXChyI6BNiq4l/FwXJQ1szx/9dBiyvppO7aKZ\n",
       "JU2RHWrhs4f7y4Jajyitw/6Y8ZKRDFMvie7DN1TuCPe1/tbGnfayrhMtaN7CuSGMCI8qdXjbc8Oc\n",
       "Omcad/kLzwC6AtADB/siZ6XorODbv5xOzEHwmmI6IWhQsBiDktLTSNOS6A1iwBh/NWiux4EVbm7a\n",
       "ED2Vd7ZpLC9FOmI2J789M03lzCumh90+IyPM4qtVjFwp9c3nINt2PBFto78a68NRvq+Mp2Pe30aw\n",
       "dHaMOZ9ShIw+bhh74kYXfvxYQdoghDZECjgBs6O510gb+yiUHWirDGOu4TeesxVpuYIoTMSAMRut\n",
       "UDtKs4eJbNa6v2Mhu8mSZluuBHpTbgDTWky7qGiW8E1KlRFH2ksEd/cYwT3Y3ZByphYTck7jxipX\n",
       "J3p8FtcpICxZ4NuE5QwUrRQWGDSxogYdshRThsfqydepYZlb7xPuv9Y00H6noK5fhkYGyUSrFAP7\n",
       "sc30gErqkDGrj4GqgyMGhEC2iANeVqTtjzap+KzHr6IRiD3uCfYGm86YuJRa7NBH0LD3Y7Rysv9l\n",
       "0TfTOHFHJUHYvJqrws3qBfGO+chIZIeoDHc/4/I36155rZeJl5C/ggC+rSpBGV2IblFfGzPfWCvi\n",
       "UAtale3pP65s7RFq1DiL5QT84AAABWtBn1FFFSwV/wAFPNXdEAH8cblYpX1zKQ6TlumxkLX+g5sh\n",
       "TM5GLnIpZ0ek/vgYlfq+8BoPb0Bf4oREt/C9DiBJJoqQlTXfGoslXccYIVDPzqV7F8XlFote3+bp\n",
       "uFBRcm/x1r8p6V9w6WBRbuj0ovt0v49IB4YCcpId1pTlya+H9Y/gpGlwC+SFktQB5WVRYmqKX+1l\n",
       "VJE3CTJOxPXCYcOCJhDutFxGWf52x85fOas/Bwl5rdSKVa6mcGO5Th3VFeD9pg0VmWNZOdP9aqI0\n",
       "IAA06z/nmvGWK5E40oAsAGbnKscMVPg8VJGjMBXvavDtVfGYdpIQLCYC9qD6lKxSJ9r4hh7GrIoy\n",
       "EfPiK3kgNIufN05uWVBrdLnYoBsvkqmNSDqyU3PYmqNSTh1DZqU2BF0TQE25MmNRJ2iOaz1u/8iV\n",
       "Dmom2mxg+GLp16ZDztckLbS9qZBKhyml6OVphoxP4bWvQ9RcVb3PfvYK/UEg5pwrbZijgvqXdwBO\n",
       "NI9mpJ82F8lo/eVQazESxV1qk+pTXTnoFvJdg92PV6avJ11Xp/uVI2YJBYsepEoSGgQS5N4n6vSg\n",
       "KuDbMX8N3Yq3nUSaWbVO4vv/NhDLT3szi+qxaayiiHE2NOZismwqRjmikUndILx3hAhEBUndS8DG\n",
       "pgI68FJNw9UweFTyrg7YcOgslFWl/d5NXsag4MZr93btT5RiqDEMxyCxhxkZgy0qLv1U/BjQ/MLK\n",
       "2RnNTNhIE3gc214XpuYOfSeh5IuPfHdoclo1Wvn1Zn5TjWfhtqI7Rgke9GnumPxD/p+tbM8HK6GJ\n",
       "VUgXsuwLg/VT8B111vWaMSJeRYCgzKvTS12TbK5mVXR/jb5I/AkhYdPgbROAtEZVp3/O9oEaFaKH\n",
       "8qPOh+UwDax7fpZE0PqPFLm/gJ3SidaRgdH7RDhfAGG2o4v4UXEC+N14411Yvv6GRp+3dA1l9LCg\n",
       "RLxof48Ypqcg8f10ko3/Ih3a5IBuYXvefjAmeKLFHzxYH4KvtAVlBsRFMLDe0M28Ya32bGmjk5mT\n",
       "mF46l3Hfk/HxNN2nuS70edP/37XKuDIhXhs/tWs4JwquxbeeLFAiuwGAoiM4OGI4ARYinIcAbRJo\n",
       "UkzNS9a3nkf2gE5KdI8i0HfLgsATbK7yFh9746B0bX97UMJkBUaBd8HBXw7bEap9BKG5Cjvj9dma\n",
       "kI5Ql/SSJgnDCt5LDcQmsm5Yw/L5H5tmBTbxuQJpKt4u6zO1u1YgwMwPmUipzu19byVsXTJhqKH+\n",
       "RaqbjcoApddefsVTV+W3auz0h4wCjNjaS01RlV03tl5/iBQ6O5UTm8qsPajulCDExHQMhfO/7lck\n",
       "aw8hDWiuxD+6XzkBGVTnaBvAzSf/z+giTRUmWBmcyj5+ny8HVyMF06n4njjHLnoweHzcamZPrnVd\n",
       "o7QuVJZvcyXFhb7FxQob93YYncOeEfzWAGqMFapfINNPkwZaDwr5UkoIMp8HDSJ50srG36SbocwT\n",
       "ZZAKl4IjEdhcpVZaY23yRbwI5jUT47pSXw54erDn85ym+RPMJYsXCCUwnBrbLtgsd1B2D14O/dIX\n",
       "MmOb6WsfEPAPXSQ0LbfgoMy8coq8oiDOLEbkpL5BzAexhrskDbM6aDfV1wxRh74G+ow86bl+9gl/\n",
       "t85RKYaZN0KZLyZf4yFPx0I1IlaSQZxUODzxWNJDb7ovsk76Dffn8L2hegTRAXQAMP4eyiMMIQnr\n",
       "LL5PeAT1lJXZW+rOecIvTlqkY4t2BQZCKLkUxQYoCNx8qK9cSBg6iSIGXSedlhmz3dJuNhReLLvy\n",
       "fg6Fo2U1D5vttmrMSucCtE2HFopBpKFQW7UTMBWaNQjyIdl7zAgZITXhAAAEoQGfcmpBXwAFP/Qd\n",
       "AAiFTbI1L8/01JQKSLPqgTc51xIlnvcinH3UZePfvF2Rs5SUDMd2arPKvypdAneYTiWsDoefGkIj\n",
       "4EeYnKlEefCRtf9IdSuwNqzov8mJJW9mbf0czqrUBVtQ4cuAAbhzUkzdyer+gfO7/LW0PJvv+ASX\n",
       "RX4u4TaVosVyEL04OEKd2PvxP6hRvDSG8yh/wA6pciBVZmxDUHqxRT02Sv3sNXSKYwbyv7TV78RS\n",
       "ZE4TcxolWtDXuBpRf8z9k26QGUTdgX+YE0vjelvGUW9HdDwbdWHk2zK1l8YTWuZ4CVAzqbC+zoaa\n",
       "JbB7oumm+GkdFh5n9Y9NILcNbl1YKzHZZ3sI/4QYuq2H35vz97wJG/dA6j/wZ9+RhyLHZ11XiaJ4\n",
       "tWtmGKDhy0N9Q3tnXnuE1BHEQ8vy2UZvyoKYjZheJ795fWttlmTYXUAS2u+2zCcTVRsIYK+I82m/\n",
       "f0O1/PW9J1cA1UafoK9iwjJUnOgYXXS4U8mW3/xnCx29AabMIOl0R0TtVLkUN+pL3vS+92TEVwrH\n",
       "9MbJ+rBG71aScrBNfFw6FYcTezNvsE0eXzkQz3AJdov127LkywPXK3GewfRiP8RVSb8A+zAQ9uH8\n",
       "41wr31DEWPzw9aeGslYAA6KVGXGWjlE1Qb7/Po7VdbnQkBnHeW6jdC84F/E9Wl0OPBQsKjEbtjWu\n",
       "Nw28Yr57ilj2QK7nM2mry2Gs5PBvw0VLNKauync7fegn+TyjNZdfSu+Fv79++3HgtkrWublmsS4l\n",
       "lv3FUJAJ1IoD0wJFt3LG2PNcB6Yd8+IPCHkTm+CvbpB3XVQNC/ImtCy/BKxkByzJ2FQtVYMx1kkz\n",
       "z4Wnkl9VYprmkZMLmG9eqdRaLxH4xbx5vYsrUTc8/oqCc5Kzl7E8lcSJmLjn2w+70c4m165ZttWo\n",
       "IFLdr6+B97gM1/Ce61D1WYyhYAg8C/P14RXhNdI3fgbS4zZZPq+c2pPI3zDgMiold/tX8DbsU7K+\n",
       "HcsIehceI9iJFTcS+26sAvAVPUgCAdhTcSc36BBeAwigl4mL+YkunMQlbXuaJd1ai5CjpXorFB/6\n",
       "L5qBTAiZzWYhhqs5VasJQpLNPzimUFzJEaFRmrVR8TDAfmbsjDC822hKK5f6sZVYoOw0TBK1qb0U\n",
       "PqFuso6Wp57ReMkQkvMk2btIU44qqHUvA4Urjaa8JvwubQw5KWtSKdGqrrJO8NvPP5vWK6Zaf2rd\n",
       "5Vinina+GIT57IOM73XyjEEdd9xvBDvXYffYJFp3+YteO87W8/2p0STngDRi+emFk4pexonJQjVk\n",
       "jK1Lk3ARIAsgeuQZCsxwejjTlQn8+P2Qo05pwzKzWp+lbqBnsrEFD4IZmx26Vnh4DxXb2TpIUI7V\n",
       "Jbw29RZmwIEheBjPkEYpHaeTXGsaKXkmCDWCe6h8U7HUvU1fZiEP+dUIVH6ADS8dpKlMqR/FxBPO\n",
       "DNtDZ/Y1tEjfznqWKK6GFgADb5q1gMD7mOvDLgvtQ0C2QgGJCGavAkqxbAgoGtjQB5N7mJTvLOqB\n",
       "5FoxvHYMCvUN0z44/RPijVhNaWjyF3QaYtn9ORDiaMoU0AAABBZtb292AAAAbG12aGQAAAAAAAAA\n",
       "AAAAAAAAAAPoAABOIAABAAABAAAAAAAAAAAAAAAAAQAAAAAAAAAAAAAAAAAAAAEAAAAAAAAAAAAA\n",
       "AAAAAEAAAAAAAAAAAAAAAAAAAAAAAAAAAAAAAAAAAAAAAAACAAADQHRyYWsAAABcdGtoZAAAAAMA\n",
       "AAAAAAAAAAAAAAEAAAAAAABOIAAAAAAAAAAAAAAAAAAAAAAAAQAAAAAAAAAAAAAAAAAAAAEAAAAA\n",
       "AAAAAAAAAAAAAEAAAAABsAAAASAAAAAAACRlZHRzAAAAHGVsc3QAAAAAAAAAAQAATiAAAIAAAAEA\n",
       "AAAAArhtZGlhAAAAIG1kaGQAAAAAAAAAAAAAAAAAAEAAAAUAAFXEAAAAAAAtaGRscgAAAAAAAAAA\n",
       "dmlkZQAAAAAAAAAAAAAAAFZpZGVvSGFuZGxlcgAAAAJjbWluZgAAABR2bWhkAAAAAQAAAAAAAAAA\n",
       "AAAAJGRpbmYAAAAcZHJlZgAAAAAAAAABAAAADHVybCAAAAABAAACI3N0YmwAAACzc3RzZAAAAAAA\n",
       "AAABAAAAo2F2YzEAAAAAAAAAAQAAAAAAAAAAAAAAAAAAAAABsAEgAEgAAABIAAAAAAAAAAEAAAAA\n",
       "AAAAAAAAAAAAAAAAAAAAAAAAAAAAAAAAAAAAAAAY//8AAAAxYXZjQwFkABX/4QAYZ2QAFazZQbCW\n",
       "hAAAAwAEAAADAAg8WLZYAQAGaOvjyyLAAAAAHHV1aWRraEDyXyRPxbo5pRvPAyPzAAAAAAAAABhz\n",
       "dHRzAAAAAAAAAAEAAAAUAABAAAAAABRzdHNzAAAAAAAAAAEAAAABAAAAqGN0dHMAAAAAAAAAEwAA\n",
       "AAEAAIAAAAAAAQABQAAAAAABAACAAAAAAAEAAAAAAAAAAQAAQAAAAAABAAFAAAAAAAEAAIAAAAAA\n",
       "AQAAAAAAAAABAABAAAAAAAEAAUAAAAAAAQAAgAAAAAABAAAAAAAAAAEAAEAAAAAAAQABQAAAAAAB\n",
       "AACAAAAAAAEAAAAAAAAAAQAAQAAAAAABAAEAAAAAAAIAAEAAAAAAHHN0c2MAAAAAAAAAAQAAAAEA\n",
       "AAAUAAAAAQAAAGRzdHN6AAAAAAAAAAAAAAAUAAAk2QAACZAAAAcEAAAFbAAABi4AAAihAAAGJgAA\n",
       "BmkAAAUVAAAHzwAABXQAAAV3AAAEdgAABscAAAXlAAAFcQAABSQAAAUcAAAFbwAABKUAAAAUc3Rj\n",
       "bwAAAAAAAAABAAAALAAAAGJ1ZHRhAAAAWm1ldGEAAAAAAAAAIWhkbHIAAAAAAAAAAG1kaXJhcHBs\n",
       "AAAAAAAAAAAAAAAALWlsc3QAAAAlqXRvbwAAAB1kYXRhAAAAAQAAAABMYXZmNTcuODMuMTAw\n",
       "\">\n",
       "  Your browser does not support the video tag.\n",
       "</video>"
      ],
      "text/plain": [
       "<IPython.core.display.HTML object>"
      ]
     },
     "execution_count": 194,
     "metadata": {},
     "output_type": "execute_result"
    },
    {
     "data": {
      "image/png": "[encoded data removed]",
      "text/plain": [
       "<Figure size 432x288 with 1 Axes>"
      ]
     },
     "metadata": {
      "needs_background": "light"
     },
     "output_type": "display_data"
    }
   ],
   "source": [
    "import matplotlib.animation as animation\n",
    "from IPython.display import HTML\n",
    "\n",
    "fig, ax = plt.subplots()\n",
    "text = fig.text(0.4,0.9,'ECM = ')\n",
    "plt.xlim(0,180)\n",
    "plt.ylim(0,0.04)\n",
    "plt.xlabel('Angle (Degrees)')\n",
    "plt.ylabel('Probability')\n",
    "\n",
    "n = 20 # number of frames\n",
    "Energy = np.linspace(0.07,1.5,n)\n",
    "a, bins = np.histogram(np.linspace(0,180,180),bins=90,density=True)\n",
    "xx = 0.5*(bins[:-1]+bins[1:])\n",
    "barcollection = plt.bar(xx,np.ones_like(xx),width=0.99*(b[1]-b[0]))\n",
    "\n",
    "def animate(i):\n",
    "    e = Energy[i]\n",
    "    samplesSig = np.random.random(10000)\n",
    "    angles = InverseCDFVec(e,samplesSig)\n",
    "    a, y = np.histogram(angles,bins=bins,density=True)\n",
    "    text.set_text('ECM = %f' % e)\n",
    "    for j, b in enumerate(barcollection):\n",
    "        b.set_height(a[j])\n",
    "        \n",
    "animation = animation.FuncAnimation(fig, animate, frames=n, interval=1000, repeat=False)\n",
    "HTML(animation.to_html5_video())"
   ]
  },
  {
   "cell_type": "markdown",
   "metadata": {},
   "source": [
    "## Nuclear Densities"
   ]
  },
  {
   "cell_type": "code",
   "execution_count": 62,
   "metadata": {},
   "outputs": [],
   "source": [
    "c12Density_db = pd.read_csv('../densities/c12.density',header=10,sep='\\s+',names=['r','rho','error'])\n",
    "c12Density = interpolate.InterpolatedUnivariateSpline(c12Density_db['r'].values,c12Density_db['rho'],k=1)"
   ]
  },
  {
   "cell_type": "code",
   "execution_count": 63,
   "metadata": {},
   "outputs": [
    {
     "name": "stderr",
     "output_type": "stream",
     "text": [
      "/home/isaacson/Programs/anaconda3/lib/python3.6/site-packages/scipy/signal/_arraytools.py:45: FutureWarning: Using a non-tuple sequence for multidimensional indexing is deprecated; use `arr[tuple(seq)]` instead of `arr[seq]`. In the future this will be interpreted as an array index, `arr[np.array(seq)]`, which will result either in an error or a different result.\n",
      "  b = a[a_slice]\n"
     ]
    },
    {
     "data": {
      "image/png": "[encoded data removed]",
      "text/plain": [
       "<Figure size 432x288 with 1 Axes>"
      ]
     },
     "metadata": {},
     "output_type": "display_data"
    }
   ],
   "source": [
    "r = np.linspace(0.,5,1000)\n",
    "rho = c12Density(r)\n",
    "\n",
    "density_smooth = savgol_filter(c12Density_db['r'].values, 3, 1) # window size 7, polynomial order 3\n",
    "c12Density_smooth = interpolate.InterpolatedUnivariateSpline(density_smooth,c12Density_db['rho'])\n",
    "rho_smooth = c12Density_smooth(r)\n",
    "\n",
    "plt.plot(r,rho)\n",
    "plt.plot(r,rho_smooth)\n",
    "plt.show()"
   ]
  },
  {
   "cell_type": "code",
   "execution_count": null,
   "metadata": {},
   "outputs": [],
   "source": []
  },
  {
   "cell_type": "markdown",
   "metadata": {},
   "source": [
    "## Nuclear Potentials"
   ]
  },
  {
   "cell_type": "code",
   "execution_count": 64,
   "metadata": {},
   "outputs": [],
   "source": [
    "def WoodsSaxon(r,A,V0=50,a=0.5):\n",
    "    r0 = 1.25\n",
    "    R = r0*pow(A,1.0/3.0)\n",
    "    return - V0/(1+np.exp((r-R)/a))\n",
    "\n",
    "def CoulombPotential(r,Z,A):\n",
    "    r0 = 1.25\n",
    "    R = r0*pow(A,1.0/3.0)\n",
    "    if r <= R:\n",
    "        return Z*(3*R**2-r**2)/(2*R**3)\n",
    "    else:\n",
    "        return Z/r"
   ]
  },
  {
   "cell_type": "code",
   "execution_count": 65,
   "metadata": {},
   "outputs": [],
   "source": [
    "def R(E,A):\n",
    "    x = 1000/E\n",
    "    y = A/(A+20)\n",
    "    \n",
    "    \n",
    "    result = r[0]\n",
    "    for m in range(1,5):\n",
    "        print(m)\n",
    "        result += r[m]*x**m\n",
    "        \n",
    "    for n in range(1,3):\n",
    "        print(n)\n",
    "        result += r[n+4]*y**n\n",
    "        \n",
    "    result += r[8]*x*y\n",
    "    result += r[9]*x**2*y\n",
    "    result += r[10]*x*y**2\n",
    "    \n",
    "    return pow(A,1.0/3.0)*result\n",
    "\n",
    "def a(E,A):\n",
    "    x = 1000/E\n",
    "    y = A/(A+20)\n",
    "    \n",
    "    result = acoeff[0]\n",
    "    for m in range(1,5):\n",
    "        print(m)\n",
    "        result += acoeff[m]*x**m\n",
    "        \n",
    "    for n in range(1,3):\n",
    "        print(n)\n",
    "        result += acoeff[n+4]*y**n\n",
    "        \n",
    "    result += acoeff[8]*x*y\n",
    "    result += acoeff[9]*x**2*y\n",
    "    result += acoeff[10]*x*y**2\n",
    "    return result\n",
    "\n",
    "def fV(r,E,A):\n",
    "    return np.cosh(R(E,A)/a(E,A)-1)/(np.cosh(R(E,A)/a(E,A))+np.cosh(r/a(E,A))-2)\n",
    "\n",
    "def fS(r,E,A):\n",
    "    return np.cosh(R(E,A)/a(E,A)-1)*(np.cosh(r/a(E,A))-1)/(np.cosh(R(E,A)/a(E,A))+np.cosh(r/a(E,A))-2)**2\n"
   ]
  },
  {
   "cell_type": "code",
   "execution_count": 66,
   "metadata": {},
   "outputs": [
    {
     "name": "stdout",
     "output_type": "stream",
     "text": [
      "1\n",
      "2\n",
      "3\n",
      "4\n",
      "1\n",
      "2\n"
     ]
    },
    {
     "data": {
      "text/plain": [
       "594.0879277081013"
      ]
     },
     "execution_count": 66,
     "metadata": {},
     "output_type": "execute_result"
    }
   ],
   "source": [
    "R(100,20)"
   ]
  },
  {
   "cell_type": "code",
   "execution_count": null,
   "metadata": {},
   "outputs": [],
   "source": []
  },
  {
   "cell_type": "code",
   "execution_count": 67,
   "metadata": {},
   "outputs": [
    {
     "data": {
      "image/png": "[encoded data removed]",
      "text/plain": [
       "<Figure size 576x432 with 1 Axes>"
      ]
     },
     "metadata": {},
     "output_type": "display_data"
    }
   ],
   "source": [
    "x = np.linspace(0,10,1000)\n",
    "yW = WoodsSaxon(x,12)\n",
    "vCoulombPotential = np.vectorize(CoulombPotential)\n",
    "yC = vCoulombPotential(x,6,12)\n",
    "\n",
    "plt.figure(figsize=(8,6))\n",
    "plt.plot(x,yW,label='Woods-Saxon')\n",
    "plt.plot(x,yC,label='Coulomb')\n",
    "plt.plot(x,yW+yC,label='Total')\n",
    "plt.legend()\n",
    "plt.show()"
   ]
  },
  {
   "cell_type": "markdown",
   "metadata": {},
   "source": [
    "## Nucleon-Nucleon Cross-Section"
   ]
  },
  {
   "cell_type": "code",
   "execution_count": 68,
   "metadata": {},
   "outputs": [],
   "source": [
    "mN = 0.938\n",
    "\n",
    "# From GiBUU\n",
    "def nukNuk_nukNuk(sqrts,massIn,totalcharge):\n",
    "    if(sqrts>1.338):\n",
    "        srtf = (sqrts-massIn[0]-massIn[1]+2*mN)**2\n",
    "        plab = np.sqrt((srtf/(2*mN))**2-srtf)\n",
    "        if(totalcharge==1): # pn channel\n",
    "            if(plab<=0.525):\n",
    "                return 17.0546*mN/(srtf-4*mN**2) - 6.82506\n",
    "            elif(plab<=0.8):\n",
    "                return 33. + 196*abs(plab-0.95)**2.5\n",
    "            elif(plab<=2.0):\n",
    "                return 31./np.sqrt(plab)\n",
    "            elif(plab<=2.776):\n",
    "                return 77./(plab+1.5)\n",
    "            else:\n",
    "#                return 11.9 + 26.9*plab**(-1.21) + 0.169*np.log(plab)**2 - 1.85*np.log(plab)\n",
    "                return 48.0+0.522*np.log(plab)**2-4.51*np.log(plab)\n",
    "        else: # pp or nn channel\n",
    "            if(plab<=0.435):\n",
    "                return 5.11775*mN/(srtf-4*mN**2) + 1.67284\n",
    "            elif(plab<=0.8):\n",
    "                return 23.5 + 1000*(plab-0.7)**4\n",
    "            elif(plab<=2.0):\n",
    "                return 1250/(plab+50) - 4*(plab-1.3)**2\n",
    "            elif(plab<=2.776):\n",
    "                return 77/(plab+1.5)\n",
    "            else:\n",
    "#                return 11.9 + 26.9*plab**(-1.21) + 0.169*np.log(plab)**2 - 1.85*np.log(plab)\n",
    "                return 48.0+0.522*np.log(plab)**2-4.51*np.log(plab)\n",
    "    else:\n",
    "        return 0\n",
    "    \n",
    "# From GiBUU written in plab\n",
    "def nukNuk_nukNuk2(plab,massIn,totalcharge):\n",
    "    sqrts=np.sqrt(2*mN**2-2*np.sqrt(mN**2*(mN**2+plab**2)))\n",
    "    print(plab,sqrts)\n",
    "    if(sqrts>1.338):\n",
    "        srtf = (sqrts-massIn[0]-massIn[1]+2*mN)**2\n",
    "        plab = np.sqrt((srtf/(2*mN))**2-srtf)\n",
    "        print(srtf,plab)\n",
    "        if(totalcharge==1): # pn channel\n",
    "            if(plab<=0.525):\n",
    "                return 17.0546*mN/(srtf-4*mN**2) - 6.82506\n",
    "            elif(plab<=0.8):\n",
    "                return 33. + 196*abs(plab-0.95)**2.5\n",
    "            elif(plab<=2.0):\n",
    "                return 31./np.sqrt(plab)\n",
    "            elif(plab<=2.776):\n",
    "                return 77./(plab+1.5)\n",
    "            else:\n",
    "                return 11.9 + 26.9*plab**(-1.21) + 0.169*np.log(plab)**2 - 1.85*np.log(plab)\n",
    "        else: # pp or nn channel\n",
    "            if(plab<=0.435):\n",
    "                return 5.11775*mN/(srtf-4*mN**2) + 1.67284\n",
    "            elif(plab<=0.8):\n",
    "                return 23.5 + 1000*(plab-0.7)**4\n",
    "            elif(plab<=2.0):\n",
    "                return 1250/(plab+50) - 4*(plab-1.3)**2\n",
    "            elif(plab<=2.776):\n",
    "                return 77/(plab+1.5)\n",
    "            else:\n",
    "                return 11.9 + 26.9*plab**(-1.21) + 0.169*np.log(plab)**2 - 1.85*np.log(plab)\n",
    "    else:\n",
    "        return 0\n",
    "\n",
    "# NASA Nucleon-Nucleon \n",
    "# https://ntrs.nasa.gov/archive/nasa/casi.ntrs.nasa.gov/20080014212.pdf\n",
    "\n",
    "MeV = 1.0/1000\n",
    "mb = 1.0\n",
    "GeV = 1.0\n",
    "\n",
    "# HZETRN parameters\n",
    "a = 5.0 * MeV              \n",
    "b = 0.199/np.sqrt(MeV)     \n",
    "c = 0.451 * MeV**-0.258      \n",
    "d = 25.0 * MeV               \n",
    "e = 134.0 * MeV              \n",
    "f = 1.187 * MeV**-0.35       \n",
    "g = 0.1 * MeV                \n",
    "h = 0.282 * MeV              \n",
    "\n",
    "# PDG parameters\n",
    "Zpp  = 33.45 * mb            \n",
    "Zpn  = 35.80 * mb              \n",
    "Y1pp = 42.53 * mb              \n",
    "Y1pn = 40.15 * mb              \n",
    "Y2pp = 33.34 * mb              \n",
    "Y2pn = 30.00 * mb              \n",
    "B    = 0.308 * mb              \n",
    "s1   = 1.0   * GeV**2           \n",
    "s0   = (5.38 * GeV)**2 \n",
    "n1   = 0.458\n",
    "n2   = 0.545\n",
    "\n",
    "# JWN parameters\n",
    "gamma = 52.5 * mb * GeV**(0.16)\n",
    "alpha = 0.00369 / MeV\n",
    "beta  = 0.00895741 * MeV**(-0.8)\n",
    "\n",
    "def sigma_pp(plab):\n",
    "    Tlab = np.sqrt(plab**2+mN**2)-mN\n",
    "    if(plab < 1.8):\n",
    "        if(Tlab >= 0.025):\n",
    "            return (1+a/Tlab)*(40+109*np.cos(b*np.sqrt(Tlab))*np.exp(-c*(Tlab-d)**(0.258)))\n",
    "        else:\n",
    "            return np.exp(6.51*np.exp(-(Tlab/e)**(0.7)))\n",
    "    elif(plab <= 4.7):\n",
    "        return gamma/plab**0.16\n",
    "    else:\n",
    "        s = 2*mN*(mN+np.sqrt(plab**2+mN**2))\n",
    "        return Zpp + B*np.log(s/s0)**2 + Y1pp*(s1/s)**n1 - Y2pp*(s1/s)**n2\n",
    "    \n",
    "def sigma_np(plab):\n",
    "    Tlab = np.sqrt(plab**2+mN**2)-mN\n",
    "    if(plab < 0.5):\n",
    "        if(Tlab >= 0.1 * MeV):\n",
    "            return 38 + 12500*np.exp(-f*(Tlab-g)**0.35)\n",
    "        else:\n",
    "            return 26000 * np.exp(-(Tlab/h)**0.3)\n",
    "    elif(plab <= 2.0):\n",
    "        return 40 + 10*np.cos(alpha*plab - 0.943)*np.exp(-beta*plab**0.8+2)\n",
    "    else:\n",
    "        s = 2*mN*(mN+np.sqrt(plab**2+mN**2))\n",
    "        return Zpn + B*np.log(s/s0)**2 + Y1pn*(s1/s)**n1 - Y2pn*(s1/s)**n2"
   ]
  },
  {
   "cell_type": "code",
   "execution_count": 69,
   "metadata": {
    "scrolled": true
   },
   "outputs": [
    {
     "data": {
      "image/png": "[encoded data removed]",
      "text/plain": [
       "<Figure size 432x288 with 1 Axes>"
      ]
     },
     "metadata": {},
     "output_type": "display_data"
    }
   ],
   "source": [
    "plab = np.logspace(np.log10(0.5),np.log10(500),1000)\n",
    "sigma = np.zeros_like(plab)\n",
    "sigma_gibuu = np.zeros_like(plab)\n",
    "sqrts=np.sqrt(2*mN**2+2*mN*np.sqrt(mN**2+plab**2))\n",
    "for i,_ in enumerate(plab):\n",
    "    sigma[i] = sigma_np(plab[i])\n",
    "    sigma_gibuu[i] = nukNuk_nukNuk(sqrts[i],(mN,mN),1)\n",
    "    \n",
    "plt.plot(plab,sigma)\n",
    "#plt.plot(plab,sigma_gibuu)\n",
    "plt.xscale('log')\n",
    "plt.show()"
   ]
  },
  {
   "cell_type": "markdown",
   "metadata": {},
   "source": [
    "## Define the interactions that can occur for a given particle"
   ]
  },
  {
   "cell_type": "code",
   "execution_count": 70,
   "metadata": {},
   "outputs": [],
   "source": [
    "def PLab(E_inv,mL,mn1):\n",
    "    arg=(E_inv**2-mL**2-mn1**2)**2/(4.0*mn1**2)-mL**2\n",
    "    return np.sqrt(arg)\n",
    "\n",
    "def LN_in_LN(mL,mn1,plab,E_inv):\n",
    "    plab = PLab(E_inv,mL,mn1)*1e-3\n",
    "    x=min(2.1,plab_GeV)\n",
    "    return (39.66-100.45*x+92.44*x**2-21.40*x**3)/plab\n",
    "\n",
    "def LN_in_SzN(mL,mSz,mn1,mn2,plab,E_inv):\n",
    "    plab = PLab(E_inv,mL,mn1)*1e-3\n",
    "    \n",
    "    pL_CM=np.sqrt(((E_inv**2-mL**2-mn1**2)-4.0*mn1**2*mL**2)/(4.0*E_inv**2))\n",
    "    pL_CM*=1e-3\n",
    "    \n",
    "    pSz_CM=np.sqrt(((E_inv**2-mSz**2-mn2**2)-4.0*mn2**2*mSz**2)/(4.0*E_inv**2))\n",
    "    pSz_CM*=1e-3\n",
    "    \n",
    "    x=min(2.1,plab)\n",
    "    return (31.1-30.94*x+8.16*x**2)*pSz_CM/pL_CM\n",
    "\n",
    "def Smp_in_Smp(mSm,mn1,plab,E_inv):\n",
    "    plab = PLab(E_inv,mSm,mn1)*1e-3\n",
    "    return 22.4/plab - 1.08\n",
    "\n",
    "def Spp_in_Spp(mSp,mn1,plab,E_inv):\n",
    "    plab = Plab(E_inv,mSp,mn1)*1e-3\n",
    "    return 11.77/plab+19.07"
   ]
  },
  {
   "cell_type": "code",
   "execution_count": 71,
   "metadata": {},
   "outputs": [],
   "source": [
    "Interaction_Dict = {# Pions (Pi^0, Pi^+)\n",
    "                    111: [],\n",
    "                    211: [],\n",
    "                    # rhos (rho^0, rho^+)\n",
    "                    113: [],\n",
    "                    213: [],\n",
    "                    # eta and eta'\n",
    "                    221: [],\n",
    "                    331: [],\n",
    "                    # Kaons (K_L, K_S, K^+)\n",
    "                    130: [],\n",
    "                    310: [],\n",
    "                    321: [],\n",
    "                    # D Mesons (D^+, D^0)\n",
    "                    411: [],\n",
    "                    421: [],\n",
    "                    # proton and neutron\n",
    "                    2212: [[sigma_pp,2212],[sigma_np,2112]],\n",
    "                    2112: [[sigma_pp,2112],[sigma_np,2212]],\n",
    "                    # Deltas (Delta^++, Delta^+, Delta^0, Delta^-)\n",
    "                    2224: [],\n",
    "                    2214: [],\n",
    "                    2114: [],\n",
    "                    1114: [],\n",
    "                    # Lambda and Simgas (Lamda, Sigma^+, Sigma^0, Sigma^-)\n",
    "                    3122: [],\n",
    "                    3222: [],\n",
    "                    3212: [],\n",
    "                    3112: [],\n",
    "                    # Cascades (0,-)\n",
    "                    3322: [],\n",
    "                    3312: [],\n",
    "                    # Charmed Baryons (Lambda_c, Sigma_c^++, Sigma_c^+, Sigma_c^0)\n",
    "                    4122: [],\n",
    "                    4222: [],\n",
    "                    4212: [],\n",
    "                    4112: [],\n",
    "                }"
   ]
  },
  {
   "cell_type": "markdown",
   "metadata": {},
   "source": [
    "## Define interface function to run through the above algorithm"
   ]
  },
  {
   "cell_type": "code",
   "execution_count": 146,
   "metadata": {},
   "outputs": [],
   "source": [
    "class FSI:\n",
    "    def __init__(self,nucleus, time_step=1):\n",
    "        ''' Initialize the FSI class.\n",
    "    \n",
    "            Input:\n",
    "            - nucleus: The definition of the nucleus the interaction occured\n",
    "                       within. This is defined by the nuclear density.\n",
    "        '''\n",
    "        self.nucleus = nucleus\n",
    "        self.queue = queue.Queue()\n",
    "        self.time_step = time_step\n",
    "\n",
    "    def __call__(self,particles):\n",
    "        ''' This function is the driver for the cascade calculation,\n",
    "            preforming the selection of the nucleons, and their evolution.\n",
    "        \n",
    "            Input: \n",
    "            - particles: The nucleons propagating through the nucleus from \n",
    "                         initial interaction, defined by their 4-momentums,\n",
    "                         their positions, and their pids\n",
    "                         \n",
    "            Output:\n",
    "            - escaped: A list of particles that escape the nucleus\n",
    "        '''\n",
    "        escaped = []\n",
    "        self.Z = self.nucleus.Z\n",
    "        self.N = self.nucleus.A - self.nucleus.Z\n",
    "        \n",
    "        # Fill the queue with initial particles\n",
    "        for particle in particles:\n",
    "            self.queue.put(particle)\n",
    "            if particle.pid == 2212:\n",
    "                self.Z -= 1\n",
    "            elif particle.pid == 2112:\n",
    "                self.N -= 1\n",
    "            \n",
    "        # Main loop over the queue\n",
    "        while not self.queue.empty():\n",
    "            particle = self.queue.get()\n",
    "            prop_dist = particle.propagate(self.time_step)\n",
    "            \n",
    "            # Check if particle is still in nucleus\n",
    "            if particle.r() > self.nucleus.size():\n",
    "                # Adjust based on potential\n",
    "                escape = self.nucleus.escape(particle)\n",
    "                if escape:\n",
    "                    escaped.append(particle)\n",
    "                else:\n",
    "                    self.nucleus.absorb(particle)\n",
    "#                return particle.r()\n",
    "            else:\n",
    "                particles_interaction = self.interact(particle)\n",
    "                if particles_interaction is None:\n",
    "                    self.queue.put(particle)\n",
    "                    continue\n",
    "                if self.pauli_blocking(particles_interaction):\n",
    "                    # If blocked just veto the interaction and not undo the step\n",
    "                    #particle.back_propagate()\n",
    "                    self.queue.put(particle)\n",
    "                    continue\n",
    "                if particles_interaction is not None:\n",
    "                    if particle.pid == 2212:\n",
    "                        self.Z += 1\n",
    "                    elif particle.pid == 2112:\n",
    "                        self.N += 1\n",
    "                    for particle_int in particles_interaction:\n",
    "                        self.queue.put(particle_int)\n",
    "                        if particle_int.pid == 2212:\n",
    "                            self.Z -= 1\n",
    "                        elif particle_int.pid == 2112:\n",
    "                            self.N -= 1\n",
    "#                        return particle_int.r()\n",
    "        return escaped\n",
    "                        \n",
    "    def interact(self,particle):\n",
    "        # Generate initial momentum for hit particle\n",
    "        phi = 2*np.pi*np.random.uniform()\n",
    "        ctheta = 2.0*np.random.uniform()-1.0\n",
    "        stheta = np.sqrt(1.0-ctheta**2)\n",
    "        p = self.nucleus.kf*np.random.uniform()\n",
    "        px = p * stheta * np.cos(phi)\n",
    "        py = p * stheta * np.sin(phi)\n",
    "        pz = p * ctheta\n",
    "        E = np.sqrt(1000**2+px**2+py**2+pz**2)\n",
    "        \n",
    "        p_in = Vec4(E,px,py,pz)\n",
    "        \n",
    "        # Calculate all the possible interaction\n",
    "        sigma = []\n",
    "        sigma_rho = []\n",
    "        for interaction in Interaction_Dict[particle.pid]:\n",
    "            plab = (particle.mom + p_in).M() * MeV\n",
    "            sigma.append(interaction[0](plab)*1e-1)\n",
    "            if interaction[1] == 2212:\n",
    "                sigma_rho.append(sigma[-1]*self.nucleus.density_P(particle.r())*self.Z/self.nucleus.Z)\n",
    "            elif interaction[1] == 2112:\n",
    "                sigma_rho.append(sigma[-1]*self.nucleus.density_P(particle.r())*self.N/(self.nucleus.A-self.nucleus.Z))\n",
    "            \n",
    "        sigma_total = sum(sigma)\n",
    "        sigma_rho_total = sum(sigma_rho)\n",
    "        prob = sigma_rho_total*particle.mom.P()/particle.mom.E * self.time_step *hbarc\n",
    "            \n",
    "        # Accept-reject on the interaction\n",
    "        # Then select interaction based on cross-section\n",
    "        if np.random.uniform() > prob:\n",
    "            return None\n",
    "        \n",
    "        interaction_index = np.random.choice(len(Interaction_Dict[particle.pid]),p=sigma_rho/sigma_rho_total)\n",
    "        interaction = Interaction_Dict[particle.pid][interaction_index]\n",
    "        \n",
    "        particle_in = Particle(interaction[1],Vec4(E,px,py,pz),particle.pos)\n",
    "        \n",
    "        # Boost to center of mass frame\n",
    "        cm = particle.mom + particle_in.mom\n",
    "        beta = cm.BoostVector()\n",
    "        p1_cm = particle.mom.Boost(-beta)\n",
    "        p2_cm = particle_in.mom.Boost(-beta)\n",
    "        \n",
    "        # Generate the final state and return\n",
    "        phi = 2*np.pi*np.random.uniform()\n",
    "        ctheta = 2.0*np.random.uniform()-1.0\n",
    "        stheta = np.sqrt(1.0-ctheta**2)\n",
    "        px =  p1_cm.P() * stheta * np.cos(phi)\n",
    "        py =  p1_cm.P() * stheta * np.sin(phi)\n",
    "        pz =  p1_cm.P() * ctheta\n",
    "        E_1 = np.sqrt(p1_cm.M2()+px**2+py**2+pz**2)\n",
    "        E_2 = np.sqrt(p2_cm.M2()+px**2+py**2+pz**2)\n",
    "        \n",
    "        particle1_out = Particle(particle.pid, Vec4(E_1,px,py,pz).Boost(beta), particle.pos)\n",
    "        particle2_out = Particle(particle_in.pid, Vec4(E_2,-px,-py,-pz).Boost(beta), particle_in.pos)\n",
    "        \n",
    "        return [particle1_out,particle2_out]\n",
    "        \n",
    "    def pauli_blocking(self, particles_interaction):\n",
    "        # See if Pauli blocking occurs for the proposed interaction\n",
    "        for particle in particles_interaction:\n",
    "            if particle.mom.P() < self.nucleus.kf:\n",
    "                return True\n",
    "        return False"
   ]
  },
  {
   "cell_type": "code",
   "execution_count": 147,
   "metadata": {},
   "outputs": [],
   "source": [
    "p = 500\n",
    "phi = 2.0*np.pi*np.random.uniform()\n",
    "costheta = 2.0*np.random.uniform() - 1.0\n",
    "sintheta = np.sqrt(1.0 - costheta**2)\n",
    "px = p * sintheta * np.sin(phi)\n",
    "py = p * sintheta * np.cos(phi)\n",
    "pz = p * costheta\n",
    "particle1 = Particle(2112,Vec4(np.sqrt(1000**2+px**2+py**2+pz**2),px,py,pz),Vec3(0,0,0))"
   ]
  },
  {
   "cell_type": "code",
   "execution_count": 148,
   "metadata": {
    "scrolled": true
   },
   "outputs": [
    {
     "data": {
      "text/plain": [
       "Vec3(-0.40440874623793266,-0.13267498244538595,0.1372986343682263)"
      ]
     },
     "execution_count": 148,
     "metadata": {},
     "output_type": "execute_result"
    }
   ],
   "source": [
    "particle1.vec"
   ]
  },
  {
   "cell_type": "code",
   "execution_count": 149,
   "metadata": {},
   "outputs": [
    {
     "data": {
      "text/plain": [
       "Vec3(0,0,0)"
      ]
     },
     "execution_count": 149,
     "metadata": {},
     "output_type": "execute_result"
    }
   ],
   "source": [
    "particle1.pos"
   ]
  },
  {
   "cell_type": "code",
   "execution_count": 150,
   "metadata": {},
   "outputs": [
    {
     "name": "stdout",
     "output_type": "stream",
     "text": [
      "(-0.008088174924758655,-0.0026534996489077194,0.0027459726873645266)\n"
     ]
    }
   ],
   "source": [
    "dist=particle1.propagate(1e-1)\n",
    "print(dist)"
   ]
  },
  {
   "cell_type": "code",
   "execution_count": 151,
   "metadata": {},
   "outputs": [
    {
     "data": {
      "text/plain": [
       "Vec3(-0.008088174924758655,-0.0026534996489077194,0.0027459726873645266)"
      ]
     },
     "execution_count": 151,
     "metadata": {},
     "output_type": "execute_result"
    }
   ],
   "source": [
    "particle1.pos"
   ]
  },
  {
   "cell_type": "code",
   "execution_count": 152,
   "metadata": {},
   "outputs": [],
   "source": [
    "particle1.back_propagate()"
   ]
  },
  {
   "cell_type": "code",
   "execution_count": 153,
   "metadata": {},
   "outputs": [
    {
     "data": {
      "text/plain": [
       "Vec3(0.0,0.0,0.0)"
      ]
     },
     "execution_count": 153,
     "metadata": {},
     "output_type": "execute_result"
    }
   ],
   "source": [
    "particle1.pos"
   ]
  },
  {
   "cell_type": "code",
   "execution_count": 154,
   "metadata": {},
   "outputs": [],
   "source": [
    "C12 = Nucleus(6,12,92.15,225,c12Density,c12Density)"
   ]
  },
  {
   "cell_type": "code",
   "execution_count": 155,
   "metadata": {},
   "outputs": [
    {
     "data": {
      "text/plain": [
       "2.616119339802647"
      ]
     },
     "execution_count": 155,
     "metadata": {},
     "output_type": "execute_result"
    }
   ],
   "source": [
    "C12.size()"
   ]
  },
  {
   "cell_type": "code",
   "execution_count": 156,
   "metadata": {},
   "outputs": [
    {
     "data": {
      "text/plain": [
       "0.033"
      ]
     },
     "execution_count": 156,
     "metadata": {},
     "output_type": "execute_result"
    }
   ],
   "source": [
    "C12.potential"
   ]
  },
  {
   "cell_type": "code",
   "execution_count": 157,
   "metadata": {
    "scrolled": true
   },
   "outputs": [
    {
     "data": {
      "text/plain": [
       "False"
      ]
     },
     "execution_count": 157,
     "metadata": {},
     "output_type": "execute_result"
    }
   ],
   "source": [
    "C12.escape(particle1)"
   ]
  },
  {
   "cell_type": "code",
   "execution_count": 158,
   "metadata": {},
   "outputs": [],
   "source": [
    "fsi = FSI(C12)"
   ]
  },
  {
   "cell_type": "code",
   "execution_count": 159,
   "metadata": {
    "scrolled": true
   },
   "outputs": [],
   "source": [
    "prop_dist = []\n",
    "nevents = 1000\n",
    "for i in range(nevents):\n",
    "    particle1 = Particle(2212,Vec4(np.sqrt(1000**2+px**2+py**2+pz**2),px,py,pz),Vec3(0,0,0))\n",
    "    fsi = FSI(C12,0.5)\n",
    "    dist = fsi([particle1])\n",
    "    if dist is not None:\n",
    "        prop_dist.append(len(dist))\n"
   ]
  },
  {
   "cell_type": "code",
   "execution_count": 160,
   "metadata": {},
   "outputs": [
    {
     "data": {
      "image/png": "[encoded data removed]",
      "text/plain": [
       "<Figure size 432x288 with 1 Axes>"
      ]
     },
     "metadata": {},
     "output_type": "display_data"
    }
   ],
   "source": [
    "plt.hist(prop_dist,bins=12,range=[0,12],align='left')\n",
    "plt.yscale('log')\n",
    "plt.show()"
   ]
  },
  {
   "cell_type": "code",
   "execution_count": 161,
   "metadata": {},
   "outputs": [
    {
     "data": {
      "image/png": "[encoded data removed]",
      "text/plain": [
       "<Figure size 432x288 with 1 Axes>"
      ]
     },
     "metadata": {},
     "output_type": "display_data"
    }
   ],
   "source": [
    "plt.hist(prop_dist,bins=12,range=[0,12],align='left')\n",
    "plt.show()"
   ]
  },
  {
   "cell_type": "code",
   "execution_count": 36,
   "metadata": {},
   "outputs": [
    {
     "data": {
      "image/png": "[encoded data removed]",
      "text/plain": [
       "<Figure size 432x288 with 1 Axes>"
      ]
     },
     "metadata": {},
     "output_type": "display_data"
    }
   ],
   "source": [
    "\n",
    "\n",
    "def FSIapprox(omega,M,E,Ep):\n",
    "    return W/np.pi/(W**2+(omega+M-E-Ep-V)**2)\n",
    "\n",
    "omega = np.linspace(0,1000,10000)\n",
    "shift = FSIapprox(omega,mN,1000,800)\n",
    "\n",
    "plt.plot(omega,shift)\n",
    "plt.show()"
   ]
  },
  {
   "cell_type": "code",
   "execution_count": 33,
   "metadata": {},
   "outputs": [],
   "source": [
    "from scipy import integrate\n",
    "from scipy.optimize import curve_fit"
   ]
  },
  {
   "cell_type": "code",
   "execution_count": 50,
   "metadata": {},
   "outputs": [],
   "source": [
    "def FSI2(omegap, omega,TA,W,V):    \n",
    "    f = (1-np.sqrt(TA))*W/(np.pi*(W**2+(omega-omegap-V)**2))\n",
    "    return f*dsigmap(omegap)\n",
    "\n",
    "CalcIA = pd.read_csv('../../C12_code/C12_730_37p1.out',sep='\\s+',names=['omega','sigma','error'])\n",
    "data = pd.read_csv('../data/12C.dat',header=None,sep='\\s+',names=['Z','A','Ee','Angle','omega','dsigma','error','citation'])\n",
    "maskEnergy = data['Ee'] == 0.730\n",
    "maskAngle = data['Angle'] == 37.1\n",
    "data = data[maskEnergy & maskAngle]\n",
    "data_omega = data['omega'].values\n",
    "data_dsigma = data['dsigma'].values\n",
    "data_error = data['error'].values\n",
    "\n",
    "omegap = CalcIA['omega'].values\n",
    "sigmap = CalcIA['sigma'].values\n",
    "dsigmap = interpolate.InterpolatedUnivariateSpline(omegap,sigmap,k=3)"
   ]
  },
  {
   "cell_type": "code",
   "execution_count": 72,
   "metadata": {
    "scrolled": false
   },
   "outputs": [
    {
     "data": {
      "image/png": "[encoded data removed]",
      "text/plain": [
       "<Figure size 432x288 with 1 Axes>"
      ]
     },
     "metadata": {},
     "output_type": "display_data"
    }
   ],
   "source": [
    "TA = 1\n",
    "W = 0\n",
    "V = 0\n",
    "\n",
    "omega = np.linspace(40,600,100)\n",
    "shift = np.zeros_like(omega)\n",
    "for i,_ in enumerate(omega):\n",
    "    shift[i] = integrate.quad(FSI2,0,600,args=(omega[i],TA,W,V))[0]\n",
    "    shift[i] += np.sqrt(TA)*dsigmap(omega[i]-V)/600\n",
    "    \n",
    "plt.errorbar(data_omega*1000, data_dsigma, yerr=data_error, fmt='.')\n",
    "plt.plot(omega,shift)\n",
    "plt.show()"
   ]
  },
  {
   "cell_type": "code",
   "execution_count": 71,
   "metadata": {},
   "outputs": [
    {
     "name": "stderr",
     "output_type": "stream",
     "text": [
      "/home/isaacson/Programs/anaconda3/lib/python3.6/site-packages/scipy/integrate/quadpack.py:385: IntegrationWarning: The maximum number of subdivisions (50) has been achieved.\n",
      "  If increasing the limit yields no improvement it is advised to analyze \n",
      "  the integrand in order to determine the difficulties.  If the position of a \n",
      "  local difficulty can be determined (singularity, discontinuity) one will \n",
      "  probably gain from splitting up the interval and calling the integrator \n",
      "  on the subranges.  Perhaps a special-purpose integrator should be used.\n",
      "  warnings.warn(msg, IntegrationWarning)\n"
     ]
    },
    {
     "data": {
      "image/png": "[encoded data removed]",
      "text/plain": [
       "<Figure size 432x288 with 1 Axes>"
      ]
     },
     "metadata": {},
     "output_type": "display_data"
    }
   ],
   "source": [
    "TA = 0.8\n",
    "W = 0.35125919809491096\n",
    "V = -14.845806632802447\n",
    "\n",
    "omega = np.linspace(40,600,100)\n",
    "shift = np.zeros_like(omega)\n",
    "for i,_ in enumerate(omega):\n",
    "    shift[i] = integrate.quad(FSI2,0,600,args=(omega[i],TA,W,V))[0]\n",
    "    shift[i] += np.sqrt(TA)*dsigmap(omega[i]-V)/600\n",
    "    \n",
    "plt.errorbar(data_omega*1000, data_dsigma, yerr=data_error, fmt='.')\n",
    "plt.plot(omega,shift)\n",
    "plt.show()"
   ]
  },
  {
   "cell_type": "code",
   "execution_count": 37,
   "metadata": {},
   "outputs": [
    {
     "data": {
      "text/plain": [
       "array([ 45.,  55.,  65.,  85.,  95., 105., 115., 125., 135., 145., 165.])"
      ]
     },
     "execution_count": 37,
     "metadata": {},
     "output_type": "execute_result"
    }
   ],
   "source": [
    "data_omega[3:14]*1000"
   ]
  },
  {
   "cell_type": "code",
   "execution_count": 70,
   "metadata": {},
   "outputs": [
    {
     "name": "stderr",
     "output_type": "stream",
     "text": [
      "/home/isaacson/Programs/anaconda3/lib/python3.6/site-packages/scipy/integrate/quadpack.py:385: IntegrationWarning: The maximum number of subdivisions (50) has been achieved.\n",
      "  If increasing the limit yields no improvement it is advised to analyze \n",
      "  the integrand in order to determine the difficulties.  If the position of a \n",
      "  local difficulty can be determined (singularity, discontinuity) one will \n",
      "  probably gain from splitting up the interval and calling the integrator \n",
      "  on the subranges.  Perhaps a special-purpose integrator should be used.\n",
      "  warnings.warn(msg, IntegrationWarning)\n"
     ]
    },
    {
     "name": "stdout",
     "output_type": "stream",
     "text": [
      "1.0 1.0\n",
      "1.0 1.0\n",
      "1.0 1.0\n",
      "1.0000000149011612 1.0\n",
      "1.0 1.0000000149011612\n",
      "9.820858310047933 -4.686608959180993\n",
      "9.820858456390127 -4.686608959180993\n",
      "9.820858310047933 -4.686608889345077\n",
      "11.911449501348706 -9.611490855959133\n",
      "11.911449678843136 -9.611490855959133\n",
      "11.911449501348706 -9.611490712736758\n",
      "-1.5052328845527718 -15.141402907405043\n",
      "4.342818614915002 -10.584173979467325\n",
      "4.342818679628042 -10.584173979467325\n",
      "4.342818614915002 -10.584173821750841\n",
      "5.8675544667881 -11.573745609946911\n",
      "5.867554554221475 -11.573745609946911\n",
      "5.8675544667881 -11.573745437484662\n",
      "3.4850213579682157 -13.007909156533536\n",
      "3.4850214098990806 -13.007909156533536\n",
      "3.4850213579682157 -13.007908962700585\n",
      "-10.72810729681883 -14.047754862060291\n",
      "1.2323487285345718 -13.26415427791459\n",
      "1.2323487468979988 -13.26415427791459\n",
      "1.2323487285345718 -13.264154080263289\n",
      "-1.433394365276675 -13.798508185347357\n",
      "0.9981438518154002 -13.317980536528772\n",
      "0.9981438666889026 -13.317980536528772\n",
      "0.9981438518154002 -13.317980338075397\n",
      "0.6206407919429049 -13.426248367463907\n",
      "0.6206408011911734 -13.426248367463907\n",
      "0.6206407919429049 -13.426248167397217\n",
      "0.5130892075963454 -13.645122728651067\n",
      "0.5130892152419704 -13.645122728651067\n",
      "0.5130892075963454 -13.645122525322893\n",
      "2.2742111654852835 -14.076811173593516\n",
      "2.2742111993736707 -14.076811173593516\n",
      "2.2742111654852835 -14.076810963832683\n",
      "-2.5999680071962654 -14.93470623576388\n",
      "0.81262560451302 -14.139886334956843\n",
      "0.8126256166220851 -14.139886334956843\n",
      "0.81262560451302 -14.139886124256117\n",
      "1.352941652734152 -14.302874063521188\n",
      "1.3529416728945536 -14.302874063521188\n",
      "1.352941652734152 -14.302873850391755\n",
      "-0.21194125442562006 -14.633628783135293\n",
      "1.0932507369478779 -14.33610628195519\n",
      "1.0932507532385833 -14.33610628195519\n",
      "1.0932507369478779 -14.33610606833056\n",
      "0.8417553422041404 -14.406082077794384\n",
      "0.8417553547472725 -14.406082077794384\n",
      "0.8417553422041404 -14.406081863127033\n",
      "0.8629991893924938 -14.547748429304368\n",
      "0.8629992022521837 -14.547748429304368\n",
      "0.8629991893924938 -14.547748212526024\n",
      "0.36600438893910464 -14.830385067429646\n",
      "0.36600439439299504 -14.830385067429646\n",
      "0.36600438893910464 -14.830384846439687\n",
      "-0.8764527301735112 -15.348900427996776\n",
      "0.3070774019680522 -14.88820434411646\n",
      "0.36119224864110006 -14.836181196016083\n",
      "0.361192254023284 -14.836181196016083\n",
      "0.36119224864110006 -14.836180974939756\n",
      "0.34975506691679265 -14.84772327771554\n",
      "0.3600840883948144 -14.837343068474883\n",
      "0.3600840937604854 -14.837343068474883\n",
      "0.3600840883948144 -14.837342847381242\n",
      "0.3577985528337904 -14.839664774851304\n",
      "0.35779855816540435 -14.839664774851304\n",
      "0.3577985528337904 -14.839664553723066\n",
      "0.352966049396221 -14.844299965042666\n",
      "0.352966054655825 -14.844299965042666\n",
      "0.352966049396221 -14.84429974384536\n",
      "0.34230410750554713 -14.853536914987549\n",
      "0.35192054675479767 -14.845228614557602\n",
      "0.35192055199882244 -14.845228614557602\n",
      "0.35192054675479767 -14.845228393346456\n",
      "0.3497913962714602 -14.847084559272629\n",
      "0.35170846310555126 -14.845414408496705\n",
      "0.3517084683464158 -14.845414408496705\n",
      "0.35170846310555126 -14.845414187282792\n",
      "0.3512830312976084 -14.845785942068034\n",
      "0.3512830365321335 -14.845785942068034\n",
      "0.3512830312976084 -14.845785720848584\n",
      "0.3504257226425373 -14.846528791721756\n",
      "0.35119743290075256 -14.845860258992971\n",
      "0.3512744727845064 -14.845793374080282\n",
      "0.35127447801890394 -14.845793374080282\n",
      "0.3512744727845064 -14.845793152860722\n",
      "0.35125737116729966 -14.845808238016701\n",
      "0.3512727626758824 -14.845794860486714\n",
      "0.35127276791025447 -14.845794860486714\n",
      "0.3512727626758824 -14.845794639267131\n",
      "0.35126933869473187 -14.845797833296466\n",
      "0.3512693439290529 -14.845797833296466\n",
      "0.35126933869473187 -14.84579761207684\n",
      "0.351262484027861 -14.845803778901715\n",
      "0.35126248926207987 -14.845803778901715\n",
      "0.351262484027861 -14.845803557682\n",
      "0.35124879957120914 -14.845815670072097\n",
      "0.35126111561616824 -14.84580496802694\n",
      "0.35126112085036676 -14.84580496802694\n",
      "0.35126111561616824 -14.845804746807207\n",
      "0.3512583771067812 -14.84580734627524\n",
      "0.351260841766588 -14.845805205852097\n",
      "0.3512608470007824 -14.845805205852097\n",
      "0.351260841766588 -14.84580498463236\n",
      "0.3512602939160274 -14.845805681502336\n",
      "0.3512602991502137 -14.845805681502336\n",
      "0.3512602939160274 -14.845805460282593\n",
      "0.35125919809491096 -14.845806632802447\n"
     ]
    }
   ],
   "source": [
    "def func(x,b,c):  \n",
    "    result = np.zeros_like(x)\n",
    "    \n",
    "    for i,_ in enumerate(x):\n",
    "        result[i] = integrate.quad(FSI2,0,600,args=(x[i],0.8,b,c,))[0]+np.sqrt(0.8)*dsigmap(x[i]-c)/600\n",
    "        \n",
    "    print(b,c)\n",
    "    return result\n",
    "    \n",
    "popt, pcov = curve_fit(func,data_omega[3:14]*1000,data_dsigma[3:14],bounds=([-np.inf,-np.inf],[np.inf,np.inf]))"
   ]
  },
  {
   "cell_type": "code",
   "execution_count": 40,
   "metadata": {},
   "outputs": [
    {
     "name": "stderr",
     "output_type": "stream",
     "text": [
      "/home/isaacson/Programs/anaconda3/lib/python3.6/site-packages/scipy/integrate/quadpack.py:385: IntegrationWarning: The maximum number of subdivisions (50) has been achieved.\n",
      "  If increasing the limit yields no improvement it is advised to analyze \n",
      "  the integrand in order to determine the difficulties.  If the position of a \n",
      "  local difficulty can be determined (singularity, discontinuity) one will \n",
      "  probably gain from splitting up the interval and calling the integrator \n",
      "  on the subranges.  Perhaps a special-purpose integrator should be used.\n",
      "  warnings.warn(msg, IntegrationWarning)\n"
     ]
    },
    {
     "ename": "KeyboardInterrupt",
     "evalue": "",
     "output_type": "error",
     "traceback": [
      "\u001b[0;31m---------------------------------------------------------------------------\u001b[0m",
      "\u001b[0;31mKeyboardInterrupt\u001b[0m                         Traceback (most recent call last)",
      "\u001b[0;32m<ipython-input-40-8b425d481dd1>\u001b[0m in \u001b[0;36m<module>\u001b[0;34m()\u001b[0m\n\u001b[1;32m      1\u001b[0m \u001b[0msigma\u001b[0m \u001b[0;34m=\u001b[0m \u001b[0mnp\u001b[0m\u001b[0;34m.\u001b[0m\u001b[0msqrt\u001b[0m\u001b[0;34m(\u001b[0m\u001b[0;34m[\u001b[0m\u001b[0mpcov\u001b[0m\u001b[0;34m[\u001b[0m\u001b[0;36m0\u001b[0m\u001b[0;34m,\u001b[0m\u001b[0;36m0\u001b[0m\u001b[0;34m]\u001b[0m\u001b[0;34m,\u001b[0m\u001b[0mpcov\u001b[0m\u001b[0;34m[\u001b[0m\u001b[0;36m1\u001b[0m\u001b[0;34m,\u001b[0m\u001b[0;36m1\u001b[0m\u001b[0;34m]\u001b[0m\u001b[0;34m,\u001b[0m\u001b[0mpcov\u001b[0m\u001b[0;34m[\u001b[0m\u001b[0;36m2\u001b[0m\u001b[0;34m,\u001b[0m\u001b[0;36m2\u001b[0m\u001b[0;34m]\u001b[0m\u001b[0;34m]\u001b[0m\u001b[0;34m)\u001b[0m\u001b[0;34m\u001b[0m\u001b[0m\n\u001b[1;32m      2\u001b[0m values = np.array([\n\u001b[0;32m----> 3\u001b[0;31m     \u001b[0mfunc\u001b[0m\u001b[0;34m(\u001b[0m\u001b[0momega\u001b[0m\u001b[0;34m,\u001b[0m \u001b[0mpopt\u001b[0m\u001b[0;34m[\u001b[0m\u001b[0;36m0\u001b[0m\u001b[0;34m]\u001b[0m \u001b[0;34m+\u001b[0m \u001b[0msigma\u001b[0m\u001b[0;34m[\u001b[0m\u001b[0;36m0\u001b[0m\u001b[0;34m]\u001b[0m\u001b[0;34m,\u001b[0m \u001b[0mpopt\u001b[0m\u001b[0;34m[\u001b[0m\u001b[0;36m1\u001b[0m\u001b[0;34m]\u001b[0m \u001b[0;34m+\u001b[0m \u001b[0msigma\u001b[0m\u001b[0;34m[\u001b[0m\u001b[0;36m1\u001b[0m\u001b[0;34m]\u001b[0m\u001b[0;34m,\u001b[0m \u001b[0mpopt\u001b[0m\u001b[0;34m[\u001b[0m\u001b[0;36m2\u001b[0m\u001b[0;34m]\u001b[0m \u001b[0;34m+\u001b[0m \u001b[0msigma\u001b[0m\u001b[0;34m[\u001b[0m\u001b[0;36m2\u001b[0m\u001b[0;34m]\u001b[0m\u001b[0;34m)\u001b[0m\u001b[0;34m,\u001b[0m\u001b[0;34m\u001b[0m\u001b[0m\n\u001b[0m\u001b[1;32m      4\u001b[0m     \u001b[0mfunc\u001b[0m\u001b[0;34m(\u001b[0m\u001b[0momega\u001b[0m\u001b[0;34m,\u001b[0m \u001b[0mpopt\u001b[0m\u001b[0;34m[\u001b[0m\u001b[0;36m0\u001b[0m\u001b[0;34m]\u001b[0m \u001b[0;34m+\u001b[0m \u001b[0msigma\u001b[0m\u001b[0;34m[\u001b[0m\u001b[0;36m0\u001b[0m\u001b[0;34m]\u001b[0m\u001b[0;34m,\u001b[0m \u001b[0mpopt\u001b[0m\u001b[0;34m[\u001b[0m\u001b[0;36m1\u001b[0m\u001b[0;34m]\u001b[0m \u001b[0;34m-\u001b[0m \u001b[0msigma\u001b[0m\u001b[0;34m[\u001b[0m\u001b[0;36m1\u001b[0m\u001b[0;34m]\u001b[0m\u001b[0;34m,\u001b[0m \u001b[0mpopt\u001b[0m\u001b[0;34m[\u001b[0m\u001b[0;36m2\u001b[0m\u001b[0;34m]\u001b[0m \u001b[0;34m+\u001b[0m \u001b[0msigma\u001b[0m\u001b[0;34m[\u001b[0m\u001b[0;36m2\u001b[0m\u001b[0;34m]\u001b[0m\u001b[0;34m)\u001b[0m\u001b[0;34m,\u001b[0m\u001b[0;34m\u001b[0m\u001b[0m\n\u001b[1;32m      5\u001b[0m     \u001b[0mfunc\u001b[0m\u001b[0;34m(\u001b[0m\u001b[0momega\u001b[0m\u001b[0;34m,\u001b[0m \u001b[0mpopt\u001b[0m\u001b[0;34m[\u001b[0m\u001b[0;36m0\u001b[0m\u001b[0;34m]\u001b[0m \u001b[0;34m+\u001b[0m \u001b[0msigma\u001b[0m\u001b[0;34m[\u001b[0m\u001b[0;36m0\u001b[0m\u001b[0;34m]\u001b[0m\u001b[0;34m,\u001b[0m \u001b[0mpopt\u001b[0m\u001b[0;34m[\u001b[0m\u001b[0;36m1\u001b[0m\u001b[0;34m]\u001b[0m \u001b[0;34m+\u001b[0m \u001b[0msigma\u001b[0m\u001b[0;34m[\u001b[0m\u001b[0;36m1\u001b[0m\u001b[0;34m]\u001b[0m\u001b[0;34m,\u001b[0m \u001b[0mpopt\u001b[0m\u001b[0;34m[\u001b[0m\u001b[0;36m2\u001b[0m\u001b[0;34m]\u001b[0m \u001b[0;34m-\u001b[0m \u001b[0msigma\u001b[0m\u001b[0;34m[\u001b[0m\u001b[0;36m2\u001b[0m\u001b[0;34m]\u001b[0m\u001b[0;34m)\u001b[0m\u001b[0;34m,\u001b[0m\u001b[0;34m\u001b[0m\u001b[0m\n",
      "\u001b[0;32m<ipython-input-39-5b2d01b477c4>\u001b[0m in \u001b[0;36mfunc\u001b[0;34m(x, a, b, c)\u001b[0m\n\u001b[1;32m      3\u001b[0m \u001b[0;34m\u001b[0m\u001b[0m\n\u001b[1;32m      4\u001b[0m     \u001b[0;32mfor\u001b[0m \u001b[0mi\u001b[0m\u001b[0;34m,\u001b[0m\u001b[0m_\u001b[0m \u001b[0;32min\u001b[0m \u001b[0menumerate\u001b[0m\u001b[0;34m(\u001b[0m\u001b[0mx\u001b[0m\u001b[0;34m)\u001b[0m\u001b[0;34m:\u001b[0m\u001b[0;34m\u001b[0m\u001b[0m\n\u001b[0;32m----> 5\u001b[0;31m         \u001b[0mresult\u001b[0m\u001b[0;34m[\u001b[0m\u001b[0mi\u001b[0m\u001b[0;34m]\u001b[0m \u001b[0;34m=\u001b[0m \u001b[0mintegrate\u001b[0m\u001b[0;34m.\u001b[0m\u001b[0mquad\u001b[0m\u001b[0;34m(\u001b[0m\u001b[0mFSI2\u001b[0m\u001b[0;34m,\u001b[0m\u001b[0;36m0\u001b[0m\u001b[0;34m,\u001b[0m\u001b[0;36m600\u001b[0m\u001b[0;34m,\u001b[0m\u001b[0margs\u001b[0m\u001b[0;34m=\u001b[0m\u001b[0;34m(\u001b[0m\u001b[0mx\u001b[0m\u001b[0;34m[\u001b[0m\u001b[0mi\u001b[0m\u001b[0;34m]\u001b[0m\u001b[0;34m,\u001b[0m\u001b[0ma\u001b[0m\u001b[0;34m,\u001b[0m\u001b[0mb\u001b[0m\u001b[0;34m,\u001b[0m\u001b[0mc\u001b[0m\u001b[0;34m,\u001b[0m\u001b[0;34m)\u001b[0m\u001b[0;34m)\u001b[0m\u001b[0;34m[\u001b[0m\u001b[0;36m0\u001b[0m\u001b[0;34m]\u001b[0m\u001b[0;34m\u001b[0m\u001b[0m\n\u001b[0m\u001b[1;32m      6\u001b[0m \u001b[0;34m\u001b[0m\u001b[0m\n\u001b[1;32m      7\u001b[0m     \u001b[0mprint\u001b[0m\u001b[0;34m(\u001b[0m\u001b[0mb\u001b[0m\u001b[0;34m,\u001b[0m\u001b[0mc\u001b[0m\u001b[0;34m)\u001b[0m\u001b[0;34m\u001b[0m\u001b[0m\n",
      "\u001b[0;32m~/Programs/anaconda3/lib/python3.6/site-packages/scipy/integrate/quadpack.py\u001b[0m in \u001b[0;36mquad\u001b[0;34m(func, a, b, args, full_output, epsabs, epsrel, limit, points, weight, wvar, wopts, maxp1, limlst)\u001b[0m\n\u001b[1;32m    339\u001b[0m     \u001b[0;32mif\u001b[0m \u001b[0mweight\u001b[0m \u001b[0;32mis\u001b[0m \u001b[0;32mNone\u001b[0m\u001b[0;34m:\u001b[0m\u001b[0;34m\u001b[0m\u001b[0m\n\u001b[1;32m    340\u001b[0m         retval = _quad(func, a, b, args, full_output, epsabs, epsrel, limit,\n\u001b[0;32m--> 341\u001b[0;31m                        points)\n\u001b[0m\u001b[1;32m    342\u001b[0m     \u001b[0;32melse\u001b[0m\u001b[0;34m:\u001b[0m\u001b[0;34m\u001b[0m\u001b[0m\n\u001b[1;32m    343\u001b[0m         retval = _quad_weight(func, a, b, args, full_output, epsabs, epsrel,\n",
      "\u001b[0;32m~/Programs/anaconda3/lib/python3.6/site-packages/scipy/integrate/quadpack.py\u001b[0m in \u001b[0;36m_quad\u001b[0;34m(func, a, b, args, full_output, epsabs, epsrel, limit, points)\u001b[0m\n\u001b[1;32m    446\u001b[0m     \u001b[0;32mif\u001b[0m \u001b[0mpoints\u001b[0m \u001b[0;32mis\u001b[0m \u001b[0;32mNone\u001b[0m\u001b[0;34m:\u001b[0m\u001b[0;34m\u001b[0m\u001b[0m\n\u001b[1;32m    447\u001b[0m         \u001b[0;32mif\u001b[0m \u001b[0minfbounds\u001b[0m \u001b[0;34m==\u001b[0m \u001b[0;36m0\u001b[0m\u001b[0;34m:\u001b[0m\u001b[0;34m\u001b[0m\u001b[0m\n\u001b[0;32m--> 448\u001b[0;31m             \u001b[0;32mreturn\u001b[0m \u001b[0m_quadpack\u001b[0m\u001b[0;34m.\u001b[0m\u001b[0m_qagse\u001b[0m\u001b[0;34m(\u001b[0m\u001b[0mfunc\u001b[0m\u001b[0;34m,\u001b[0m\u001b[0ma\u001b[0m\u001b[0;34m,\u001b[0m\u001b[0mb\u001b[0m\u001b[0;34m,\u001b[0m\u001b[0margs\u001b[0m\u001b[0;34m,\u001b[0m\u001b[0mfull_output\u001b[0m\u001b[0;34m,\u001b[0m\u001b[0mepsabs\u001b[0m\u001b[0;34m,\u001b[0m\u001b[0mepsrel\u001b[0m\u001b[0;34m,\u001b[0m\u001b[0mlimit\u001b[0m\u001b[0;34m)\u001b[0m\u001b[0;34m\u001b[0m\u001b[0m\n\u001b[0m\u001b[1;32m    449\u001b[0m         \u001b[0;32melse\u001b[0m\u001b[0;34m:\u001b[0m\u001b[0;34m\u001b[0m\u001b[0m\n\u001b[1;32m    450\u001b[0m             \u001b[0;32mreturn\u001b[0m \u001b[0m_quadpack\u001b[0m\u001b[0;34m.\u001b[0m\u001b[0m_qagie\u001b[0m\u001b[0;34m(\u001b[0m\u001b[0mfunc\u001b[0m\u001b[0;34m,\u001b[0m\u001b[0mbound\u001b[0m\u001b[0;34m,\u001b[0m\u001b[0minfbounds\u001b[0m\u001b[0;34m,\u001b[0m\u001b[0margs\u001b[0m\u001b[0;34m,\u001b[0m\u001b[0mfull_output\u001b[0m\u001b[0;34m,\u001b[0m\u001b[0mepsabs\u001b[0m\u001b[0;34m,\u001b[0m\u001b[0mepsrel\u001b[0m\u001b[0;34m,\u001b[0m\u001b[0mlimit\u001b[0m\u001b[0;34m)\u001b[0m\u001b[0;34m\u001b[0m\u001b[0m\n",
      "\u001b[0;32m<ipython-input-34-574c029a72d9>\u001b[0m in \u001b[0;36mFSI2\u001b[0;34m(omegap, omega, TA, W, V)\u001b[0m\n\u001b[1;32m      5\u001b[0m \u001b[0;34m\u001b[0m\u001b[0m\n\u001b[1;32m      6\u001b[0m     \u001b[0mf\u001b[0m \u001b[0;34m+=\u001b[0m \u001b[0;34m(\u001b[0m\u001b[0;36m1\u001b[0m\u001b[0;34m-\u001b[0m\u001b[0mnp\u001b[0m\u001b[0;34m.\u001b[0m\u001b[0msqrt\u001b[0m\u001b[0;34m(\u001b[0m\u001b[0mTA\u001b[0m\u001b[0;34m)\u001b[0m\u001b[0;34m)\u001b[0m\u001b[0;34m*\u001b[0m\u001b[0mW\u001b[0m\u001b[0;34m/\u001b[0m\u001b[0;34m(\u001b[0m\u001b[0mnp\u001b[0m\u001b[0;34m.\u001b[0m\u001b[0mpi\u001b[0m\u001b[0;34m*\u001b[0m\u001b[0;34m(\u001b[0m\u001b[0mW\u001b[0m\u001b[0;34m**\u001b[0m\u001b[0;36m2\u001b[0m\u001b[0;34m+\u001b[0m\u001b[0;34m(\u001b[0m\u001b[0momega\u001b[0m\u001b[0;34m-\u001b[0m\u001b[0momegap\u001b[0m\u001b[0;34m-\u001b[0m\u001b[0mV\u001b[0m\u001b[0;34m)\u001b[0m\u001b[0;34m**\u001b[0m\u001b[0;36m2\u001b[0m\u001b[0;34m)\u001b[0m\u001b[0;34m)\u001b[0m\u001b[0;34m\u001b[0m\u001b[0m\n\u001b[0;32m----> 7\u001b[0;31m     \u001b[0;32mreturn\u001b[0m \u001b[0mf\u001b[0m\u001b[0;34m*\u001b[0m\u001b[0mdsigmap\u001b[0m\u001b[0;34m(\u001b[0m\u001b[0momegap\u001b[0m\u001b[0;34m)\u001b[0m\u001b[0;34m\u001b[0m\u001b[0m\n\u001b[0m\u001b[1;32m      8\u001b[0m \u001b[0;34m\u001b[0m\u001b[0m\n\u001b[1;32m      9\u001b[0m \u001b[0mCalcIA\u001b[0m \u001b[0;34m=\u001b[0m \u001b[0mpd\u001b[0m\u001b[0;34m.\u001b[0m\u001b[0mread_csv\u001b[0m\u001b[0;34m(\u001b[0m\u001b[0;34m'../../C12_code/C12_730_37p1.out'\u001b[0m\u001b[0;34m,\u001b[0m\u001b[0msep\u001b[0m\u001b[0;34m=\u001b[0m\u001b[0;34m'\\s+'\u001b[0m\u001b[0;34m,\u001b[0m\u001b[0mnames\u001b[0m\u001b[0;34m=\u001b[0m\u001b[0;34m[\u001b[0m\u001b[0;34m'omega'\u001b[0m\u001b[0;34m,\u001b[0m\u001b[0;34m'sigma'\u001b[0m\u001b[0;34m,\u001b[0m\u001b[0;34m'error'\u001b[0m\u001b[0;34m]\u001b[0m\u001b[0;34m)\u001b[0m\u001b[0;34m\u001b[0m\u001b[0m\n",
      "\u001b[0;32m~/Programs/anaconda3/lib/python3.6/site-packages/scipy/interpolate/fitpack2.py\u001b[0m in \u001b[0;36m__call__\u001b[0;34m(self, x, nu, ext)\u001b[0m\n\u001b[1;32m    308\u001b[0m             \u001b[0;32mexcept\u001b[0m \u001b[0mKeyError\u001b[0m\u001b[0;34m:\u001b[0m\u001b[0;34m\u001b[0m\u001b[0m\n\u001b[1;32m    309\u001b[0m                 \u001b[0;32mraise\u001b[0m \u001b[0mValueError\u001b[0m\u001b[0;34m(\u001b[0m\u001b[0;34m\"Unknown extrapolation mode %s.\"\u001b[0m \u001b[0;34m%\u001b[0m \u001b[0mext\u001b[0m\u001b[0;34m)\u001b[0m\u001b[0;34m\u001b[0m\u001b[0m\n\u001b[0;32m--> 310\u001b[0;31m         \u001b[0;32mreturn\u001b[0m \u001b[0mfitpack\u001b[0m\u001b[0;34m.\u001b[0m\u001b[0msplev\u001b[0m\u001b[0;34m(\u001b[0m\u001b[0mx\u001b[0m\u001b[0;34m,\u001b[0m \u001b[0mself\u001b[0m\u001b[0;34m.\u001b[0m\u001b[0m_eval_args\u001b[0m\u001b[0;34m,\u001b[0m \u001b[0mder\u001b[0m\u001b[0;34m=\u001b[0m\u001b[0mnu\u001b[0m\u001b[0;34m,\u001b[0m \u001b[0mext\u001b[0m\u001b[0;34m=\u001b[0m\u001b[0mext\u001b[0m\u001b[0;34m)\u001b[0m\u001b[0;34m\u001b[0m\u001b[0m\n\u001b[0m\u001b[1;32m    311\u001b[0m \u001b[0;34m\u001b[0m\u001b[0m\n\u001b[1;32m    312\u001b[0m     \u001b[0;32mdef\u001b[0m \u001b[0mget_knots\u001b[0m\u001b[0;34m(\u001b[0m\u001b[0mself\u001b[0m\u001b[0;34m)\u001b[0m\u001b[0;34m:\u001b[0m\u001b[0;34m\u001b[0m\u001b[0m\n",
      "\u001b[0;32m~/Programs/anaconda3/lib/python3.6/site-packages/scipy/interpolate/fitpack.py\u001b[0m in \u001b[0;36msplev\u001b[0;34m(x, tck, der, ext)\u001b[0m\n\u001b[1;32m    366\u001b[0m         \u001b[0;32mreturn\u001b[0m \u001b[0mtck\u001b[0m\u001b[0;34m(\u001b[0m\u001b[0mx\u001b[0m\u001b[0;34m,\u001b[0m \u001b[0mder\u001b[0m\u001b[0;34m,\u001b[0m \u001b[0mextrapolate\u001b[0m\u001b[0;34m=\u001b[0m\u001b[0mextrapolate\u001b[0m\u001b[0;34m)\u001b[0m\u001b[0;34m\u001b[0m\u001b[0m\n\u001b[1;32m    367\u001b[0m     \u001b[0;32melse\u001b[0m\u001b[0;34m:\u001b[0m\u001b[0;34m\u001b[0m\u001b[0m\n\u001b[0;32m--> 368\u001b[0;31m         \u001b[0;32mreturn\u001b[0m \u001b[0m_impl\u001b[0m\u001b[0;34m.\u001b[0m\u001b[0msplev\u001b[0m\u001b[0;34m(\u001b[0m\u001b[0mx\u001b[0m\u001b[0;34m,\u001b[0m \u001b[0mtck\u001b[0m\u001b[0;34m,\u001b[0m \u001b[0mder\u001b[0m\u001b[0;34m,\u001b[0m \u001b[0mext\u001b[0m\u001b[0;34m)\u001b[0m\u001b[0;34m\u001b[0m\u001b[0m\n\u001b[0m\u001b[1;32m    369\u001b[0m \u001b[0;34m\u001b[0m\u001b[0m\n\u001b[1;32m    370\u001b[0m \u001b[0;34m\u001b[0m\u001b[0m\n",
      "\u001b[0;31mKeyboardInterrupt\u001b[0m: "
     ]
    }
   ],
   "source": [
    "sigma = np.sqrt([pcov[0,0],pcov[1,1],pcov[2,2]])\n",
    "values = np.array([\n",
    "    func(omega, popt[0] + sigma[0], popt[1] + sigma[1], popt[2] + sigma[2]), \n",
    "    func(omega, popt[0] + sigma[0], popt[1] - sigma[1], popt[2] + sigma[2]),   \n",
    "    func(omega, popt[0] + sigma[0], popt[1] + sigma[1], popt[2] - sigma[2]), \n",
    "    func(omega, popt[0] + sigma[0], popt[1] - sigma[1], popt[2] - sigma[2]), \n",
    "    func(omega, popt[0] - sigma[0], popt[1] + sigma[1], popt[2] + sigma[2]), \n",
    "    func(omega, popt[0] - sigma[0], popt[1] - sigma[1], popt[2] + sigma[2]),\n",
    "    func(omega, popt[0] - sigma[0], popt[1] + sigma[1], popt[2] - sigma[2]), \n",
    "    func(omega, popt[0] - sigma[0], popt[1] - sigma[1], popt[2] - sigma[2]) \n",
    "    ])\n",
    "fitError = np.std(values, axis=0)"
   ]
  },
  {
   "cell_type": "code",
   "execution_count": null,
   "metadata": {},
   "outputs": [],
   "source": [
    "curveFit = func(omega, popt[0], popt[1], popt[2])\n",
    "\n",
    "fig = plt.figure(figsize=(12,8))\n",
    "\n",
    "plt.errorbar(data_omega*1000, data_dsigma, yerr=data_error, fmt='.')\n",
    "plt.plot(omega, curveFit, lw=2.5, color='green', alpha=0.6)\n",
    "plt.plot(omega, curveFit + fitError, lw=1.0, alpha=0.5, color='red')\n",
    "plt.plot(omega, curveFit - fitError, lw=1.0, alpha=0.5, color='red')\n",
    "plt.plot(omega, curveFit + 3*fitError, lw=1.0, alpha=0.5, color='purple')\n",
    "plt.plot(omega, curveFit - 3*fitError, lw=1.0, alpha=0.5, color='purple')\n",
    "plt.xlim([40,200])\n",
    "plt.show()"
   ]
  },
  {
   "cell_type": "code",
   "execution_count": 73,
   "metadata": {},
   "outputs": [
    {
     "data": {
      "text/plain": [
       "1.0474999999999999"
      ]
     },
     "execution_count": 73,
     "metadata": {},
     "output_type": "execute_result"
    }
   ],
   "source": [
    "np.mean([1.043,1.052])"
   ]
  },
  {
   "cell_type": "code",
   "execution_count": 128,
   "metadata": {},
   "outputs": [
    {
     "data": {
      "text/plain": [
       "313.1909270272907"
      ]
     },
     "execution_count": 128,
     "metadata": {},
     "output_type": "execute_result"
    }
   ],
   "source": [
    "px"
   ]
  },
  {
   "cell_type": "code",
   "execution_count": 129,
   "metadata": {},
   "outputs": [
    {
     "data": {
      "text/plain": [
       "-235.60577521902874"
      ]
     },
     "execution_count": 129,
     "metadata": {},
     "output_type": "execute_result"
    }
   ],
   "source": [
    "py"
   ]
  },
  {
   "cell_type": "code",
   "execution_count": 130,
   "metadata": {},
   "outputs": [
    {
     "data": {
      "text/plain": [
       "310.4856871278076"
      ]
     },
     "execution_count": 130,
     "metadata": {},
     "output_type": "execute_result"
    }
   ],
   "source": [
    "pz"
   ]
  },
  {
   "cell_type": "code",
   "execution_count": 5,
   "metadata": {},
   "outputs": [],
   "source": [
    "def CylinderCheck(p1,p2,r,q):\n",
    "    vec = p2-p1\n",
    "    const = r*np.linalg.norm(vec)\n",
    "    return np.where(np.dot(q-p1,vec) >= 0 and np.dot(q-p2,vec) <= 0 \\\n",
    "                    and np.linalg.norm(np.cross(q-p1,vec)) <= const)"
   ]
  },
  {
   "cell_type": "code",
   "execution_count": 6,
   "metadata": {},
   "outputs": [
    {
     "ename": "ValueError",
     "evalue": "The truth value of an array with more than one element is ambiguous. Use a.any() or a.all()",
     "output_type": "error",
     "traceback": [
      "\u001b[0;31m---------------------------------------------------------------------------\u001b[0m",
      "\u001b[0;31mValueError\u001b[0m                                Traceback (most recent call last)",
      "\u001b[0;32m<ipython-input-6-a36741f469af>\u001b[0m in \u001b[0;36m<module>\u001b[0;34m()\u001b[0m\n\u001b[1;32m      2\u001b[0m \u001b[0mp2\u001b[0m \u001b[0;34m=\u001b[0m \u001b[0mnp\u001b[0m\u001b[0;34m.\u001b[0m\u001b[0marray\u001b[0m\u001b[0;34m(\u001b[0m\u001b[0;34m[\u001b[0m\u001b[0;36m10\u001b[0m\u001b[0;34m,\u001b[0m\u001b[0;36m0\u001b[0m\u001b[0;34m,\u001b[0m\u001b[0;36m0\u001b[0m\u001b[0;34m]\u001b[0m\u001b[0;34m)\u001b[0m\u001b[0;34m\u001b[0m\u001b[0m\n\u001b[1;32m      3\u001b[0m \u001b[0mq\u001b[0m \u001b[0;34m=\u001b[0m \u001b[0mnp\u001b[0m\u001b[0;34m.\u001b[0m\u001b[0marray\u001b[0m\u001b[0;34m(\u001b[0m\u001b[0;34m[\u001b[0m\u001b[0;34m[\u001b[0m\u001b[0;36m1\u001b[0m\u001b[0;34m,\u001b[0m\u001b[0;36m0\u001b[0m\u001b[0;34m,\u001b[0m\u001b[0;36m0\u001b[0m\u001b[0;34m]\u001b[0m\u001b[0;34m,\u001b[0m\u001b[0;34m[\u001b[0m\u001b[0;36m2\u001b[0m\u001b[0;34m,\u001b[0m\u001b[0;36m0\u001b[0m\u001b[0;34m,\u001b[0m\u001b[0;36m0\u001b[0m\u001b[0;34m]\u001b[0m\u001b[0;34m,\u001b[0m\u001b[0;34m[\u001b[0m\u001b[0;36m2\u001b[0m\u001b[0;34m,\u001b[0m\u001b[0;36m4\u001b[0m\u001b[0;34m,\u001b[0m\u001b[0;36m0\u001b[0m\u001b[0;34m]\u001b[0m\u001b[0;34m,\u001b[0m\u001b[0;34m[\u001b[0m\u001b[0;36m2\u001b[0m\u001b[0;34m,\u001b[0m\u001b[0;36m5\u001b[0m\u001b[0;34m,\u001b[0m\u001b[0;36m0\u001b[0m\u001b[0;34m]\u001b[0m\u001b[0;34m,\u001b[0m\u001b[0;34m[\u001b[0m\u001b[0;36m5\u001b[0m\u001b[0;34m,\u001b[0m\u001b[0;36m0\u001b[0m\u001b[0;34m,\u001b[0m\u001b[0;36m0\u001b[0m\u001b[0;34m]\u001b[0m\u001b[0;34m,\u001b[0m\u001b[0;34m[\u001b[0m\u001b[0;36m11\u001b[0m\u001b[0;34m,\u001b[0m\u001b[0;36m0\u001b[0m\u001b[0;34m,\u001b[0m\u001b[0;36m0\u001b[0m\u001b[0;34m]\u001b[0m\u001b[0;34m]\u001b[0m\u001b[0;34m)\u001b[0m\u001b[0;34m\u001b[0m\u001b[0m\n\u001b[0;32m----> 4\u001b[0;31m \u001b[0mprint\u001b[0m\u001b[0;34m(\u001b[0m\u001b[0mCylinderCheck\u001b[0m\u001b[0;34m(\u001b[0m\u001b[0mp1\u001b[0m\u001b[0;34m,\u001b[0m\u001b[0mp2\u001b[0m\u001b[0;34m,\u001b[0m\u001b[0;36m4\u001b[0m\u001b[0;34m,\u001b[0m\u001b[0mnp\u001b[0m\u001b[0;34m.\u001b[0m\u001b[0marray\u001b[0m\u001b[0;34m(\u001b[0m\u001b[0;34m[\u001b[0m\u001b[0;34m[\u001b[0m\u001b[0;36m2\u001b[0m\u001b[0;34m,\u001b[0m\u001b[0;36m0\u001b[0m\u001b[0;34m,\u001b[0m\u001b[0;36m0\u001b[0m\u001b[0;34m]\u001b[0m\u001b[0;34m,\u001b[0m\u001b[0;34m[\u001b[0m\u001b[0;36m3\u001b[0m\u001b[0;34m,\u001b[0m\u001b[0;36m0\u001b[0m\u001b[0;34m,\u001b[0m\u001b[0;36m0\u001b[0m\u001b[0;34m]\u001b[0m\u001b[0;34m]\u001b[0m\u001b[0;34m)\u001b[0m\u001b[0;34m)\u001b[0m\u001b[0;34m)\u001b[0m\u001b[0;34m\u001b[0m\u001b[0m\n\u001b[0m",
      "\u001b[0;32m<ipython-input-5-3bf43c0945ce>\u001b[0m in \u001b[0;36mCylinderCheck\u001b[0;34m(p1, p2, r, q)\u001b[0m\n\u001b[1;32m      2\u001b[0m     \u001b[0mvec\u001b[0m \u001b[0;34m=\u001b[0m \u001b[0mp2\u001b[0m\u001b[0;34m-\u001b[0m\u001b[0mp1\u001b[0m\u001b[0;34m\u001b[0m\u001b[0m\n\u001b[1;32m      3\u001b[0m     \u001b[0mconst\u001b[0m \u001b[0;34m=\u001b[0m \u001b[0mr\u001b[0m\u001b[0;34m*\u001b[0m\u001b[0mnp\u001b[0m\u001b[0;34m.\u001b[0m\u001b[0mlinalg\u001b[0m\u001b[0;34m.\u001b[0m\u001b[0mnorm\u001b[0m\u001b[0;34m(\u001b[0m\u001b[0mvec\u001b[0m\u001b[0;34m)\u001b[0m\u001b[0;34m\u001b[0m\u001b[0m\n\u001b[0;32m----> 4\u001b[0;31m     \u001b[0;32mreturn\u001b[0m \u001b[0mnp\u001b[0m\u001b[0;34m.\u001b[0m\u001b[0mwhere\u001b[0m\u001b[0;34m(\u001b[0m\u001b[0mnp\u001b[0m\u001b[0;34m.\u001b[0m\u001b[0mdot\u001b[0m\u001b[0;34m(\u001b[0m\u001b[0mq\u001b[0m\u001b[0;34m-\u001b[0m\u001b[0mp1\u001b[0m\u001b[0;34m,\u001b[0m\u001b[0mvec\u001b[0m\u001b[0;34m)\u001b[0m \u001b[0;34m>=\u001b[0m \u001b[0;36m0\u001b[0m \u001b[0;32mand\u001b[0m \u001b[0mnp\u001b[0m\u001b[0;34m.\u001b[0m\u001b[0mdot\u001b[0m\u001b[0;34m(\u001b[0m\u001b[0mq\u001b[0m\u001b[0;34m-\u001b[0m\u001b[0mp2\u001b[0m\u001b[0;34m,\u001b[0m\u001b[0mvec\u001b[0m\u001b[0;34m)\u001b[0m \u001b[0;34m<=\u001b[0m \u001b[0;36m0\u001b[0m                     \u001b[0;32mand\u001b[0m \u001b[0mnp\u001b[0m\u001b[0;34m.\u001b[0m\u001b[0mlinalg\u001b[0m\u001b[0;34m.\u001b[0m\u001b[0mnorm\u001b[0m\u001b[0;34m(\u001b[0m\u001b[0mnp\u001b[0m\u001b[0;34m.\u001b[0m\u001b[0mcross\u001b[0m\u001b[0;34m(\u001b[0m\u001b[0mq\u001b[0m\u001b[0;34m-\u001b[0m\u001b[0mp1\u001b[0m\u001b[0;34m,\u001b[0m\u001b[0mvec\u001b[0m\u001b[0;34m)\u001b[0m\u001b[0;34m)\u001b[0m \u001b[0;34m<=\u001b[0m \u001b[0mconst\u001b[0m\u001b[0;34m)\u001b[0m\u001b[0;34m\u001b[0m\u001b[0m\n\u001b[0m",
      "\u001b[0;31mValueError\u001b[0m: The truth value of an array with more than one element is ambiguous. Use a.any() or a.all()"
     ]
    }
   ],
   "source": [
    "p1 = np.array([0,0,0])\n",
    "p2 = np.array([10,0,0])\n",
    "q = np.array([[1,0,0],[2,0,0],[2,4,0],[2,5,0],[5,0,0],[11,0,0]])\n",
    "print(CylinderCheck(p1,p2,4,np.array([[2,0,0],[3,0,0]])))"
   ]
  },
  {
   "cell_type": "code",
   "execution_count": 8,
   "metadata": {},
   "outputs": [],
   "source": [
    "from sympy.physics.quantum.cg import CG\n",
    "from sympy import S"
   ]
  },
  {
   "cell_type": "code",
   "execution_count": 14,
   "metadata": {},
   "outputs": [
    {
     "data": {
      "text/plain": [
       "sqrt(3)/2"
      ]
     },
     "execution_count": 14,
     "metadata": {},
     "output_type": "execute_result"
    }
   ],
   "source": [
    "CG(S(3)/2,S(3)/2,S(1)/2,-S(1)/2,1,1).doit()"
   ]
  },
  {
   "cell_type": "code",
   "execution_count": 15,
   "metadata": {},
   "outputs": [],
   "source": [
    "from scipy.special import sph_harm"
   ]
  },
  {
   "cell_type": "code",
   "execution_count": 17,
   "metadata": {},
   "outputs": [
    {
     "data": {
      "text/plain": [
       "0j"
      ]
     },
     "execution_count": 17,
     "metadata": {},
     "output_type": "execute_result"
    }
   ],
   "source": [
    "sph_harm(0,0,0,0)-np.sqrt(1/(4*np.pi))"
   ]
  },
  {
   "cell_type": "code",
   "execution_count": 18,
   "metadata": {},
   "outputs": [],
   "source": [
    "def CPlus(j,m):\n",
    "    return np.sqrt((j-m)(j+m+1))\n",
    "\n",
    "def CMinus(j,m):\n",
    "    return np.sqrt((j+m)(j-m+1))"
   ]
  },
  {
   "cell_type": "code",
   "execution_count": 35,
   "metadata": {},
   "outputs": [],
   "source": [
    "E0=np.genfromtxt('../data/Geantnp.cc',max_rows=25,delimiter=',',autostrip=True,usecols=(0,1,2,3,4,5,6)).flatten()"
   ]
  },
  {
   "cell_type": "code",
   "execution_count": 36,
   "metadata": {},
   "outputs": [],
   "source": [
    "E0=np.append(E0,np.genfromtxt('../data/Geantnp.cc',max_rows=1,delimiter=',',autostrip=True,usecols=(0,1,2,3,4),skip_header=25).flatten())"
   ]
  },
  {
   "cell_type": "code",
   "execution_count": 46,
   "metadata": {},
   "outputs": [
    {
     "name": "stdout",
     "output_type": "stream",
     "text": [
      "0\n",
      "1\n",
      "2\n",
      "3\n",
      "4\n",
      "5\n",
      "6\n",
      "7\n",
      "8\n",
      "9\n",
      "10\n",
      "11\n",
      "12\n",
      "13\n",
      "14\n",
      "15\n",
      "16\n",
      "17\n",
      "18\n",
      "19\n",
      "20\n",
      "21\n",
      "22\n",
      "23\n",
      "24\n",
      "25\n",
      "26\n",
      "27\n",
      "28\n",
      "29\n",
      "30\n",
      "31\n",
      "32\n",
      "33\n",
      "34\n",
      "35\n",
      "36\n",
      "37\n",
      "38\n"
     ]
    }
   ],
   "source": [
    "nenergy = 39\n",
    "dataPP = []\n",
    "for i in range(nenergy):\n",
    "    row_start = 26*i\n",
    "    print(i)\n",
    "    dataE = np.genfromtxt('../data/Geantpp.cc',max_rows=25,delimiter=',',autostrip=True,usecols=(0,1,2,3,4,5,6),skip_header=row_start).flatten()\n",
    "    dataE = np.append(dataE,np.genfromtxt('../data/Geantpp.cc',max_rows=1,delimiter=',',autostrip=True,usecols=(0,1,2,3,4),skip_header=row_start+25).flatten())\n",
    "    dataPP.append(dataE)"
   ]
  },
  {
   "cell_type": "code",
   "execution_count": 48,
   "metadata": {},
   "outputs": [],
   "source": [
    "dataNP=np.array(dataNP)"
   ]
  },
  {
   "cell_type": "code",
   "execution_count": 49,
   "metadata": {},
   "outputs": [
    {
     "data": {
      "text/plain": [
       "array([[7.0000e-05, 3.0000e-04, 6.6000e-04, ..., 9.9968e-01, 9.9992e-01,\n",
       "        1.0000e+00],\n",
       "       [8.0000e-05, 3.0000e-04, 6.8000e-04, ..., 9.9966e-01, 9.9992e-01,\n",
       "        1.0000e+00],\n",
       "       [8.0000e-05, 3.2000e-04, 7.3000e-04, ..., 9.9963e-01, 9.9991e-01,\n",
       "        1.0000e+00],\n",
       "       ...,\n",
       "       [7.8000e-04, 3.0700e-03, 9.1300e-03, ..., 9.9734e-01, 9.9907e-01,\n",
       "        1.0000e+00],\n",
       "       [7.8000e-04, 3.0900e-03, 9.2000e-03, ..., 9.9717e-01, 9.9901e-01,\n",
       "        1.0000e+00],\n",
       "       [7.9000e-04, 3.1100e-03, 9.2400e-03, ..., 9.9707e-01, 9.9898e-01,\n",
       "        1.0000e+00]])"
      ]
     },
     "execution_count": 49,
     "metadata": {},
     "output_type": "execute_result"
    }
   ],
   "source": [
    "dataNP"
   ]
  },
  {
   "cell_type": "code",
   "execution_count": 50,
   "metadata": {},
   "outputs": [],
   "source": [
    "np.savetxt(\"../data/GeantNP.csv\", dataNP, delimiter=\",\")"
   ]
  },
  {
   "cell_type": "code",
   "execution_count": null,
   "metadata": {},
   "outputs": [],
   "source": []
  }
 ],
 "metadata": {
  "kernelspec": {
   "display_name": "Python 3",
   "language": "python",
   "name": "python3"
  },
  "language_info": {
   "codemirror_mode": {
    "name": "ipython",
    "version": 3
   },
   "file_extension": ".py",
   "mimetype": "text/x-python",
   "name": "python",
   "nbconvert_exporter": "python",
   "pygments_lexer": "ipython3",
   "version": "3.7.1"
  }
 },
 "nbformat": 4,
 "nbformat_minor": 2
}
